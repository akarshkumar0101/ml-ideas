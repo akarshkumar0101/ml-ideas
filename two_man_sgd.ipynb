{
 "cells": [
  {
   "cell_type": "code",
   "execution_count": 1,
   "id": "ac05962d-65aa-427a-9d2c-193550e7a93b",
   "metadata": {},
   "outputs": [],
   "source": [
    "%load_ext autoreload\n",
    "%autoreload 2"
   ]
  },
  {
   "cell_type": "code",
   "execution_count": 13,
   "id": "6484a61d-7403-4695-ba19-67795cfe8458",
   "metadata": {},
   "outputs": [],
   "source": [
    "%run imports.py"
   ]
  },
  {
   "cell_type": "code",
   "execution_count": 3,
   "id": "faaf3452-05a0-43ed-a063-2e3c625f75fb",
   "metadata": {},
   "outputs": [],
   "source": [
    "ds = mnist.MNIST()\n",
    "net = mnist.Network()"
   ]
  },
  {
   "cell_type": "code",
   "execution_count": 4,
   "id": "0aca950d-3ce1-4d89-bb50-53ab041908b1",
   "metadata": {},
   "outputs": [
    {
     "data": {
      "application/vnd.jupyter.widget-view+json": {
       "model_id": "",
       "version_major": 2,
       "version_minor": 0
      },
      "text/plain": [
       "  0%|          | 0/4 [00:00<?, ?it/s]"
      ]
     },
     "metadata": {},
     "output_type": "display_data"
    },
    {
     "data": {
      "text/plain": [
       "{'loss': 2.309080147743225,\n",
       " 'acc': 0.1044,\n",
       " 'meter_loss': <metrics.AverageMeter at 0x7fe2122f03a0>,\n",
       " 'meter_acc': <metrics.AverageMeter at 0x7fe21245c2b0>}"
      ]
     },
     "execution_count": 4,
     "metadata": {},
     "output_type": "execute_result"
    }
   ],
   "source": [
    "ds.calc_performance(net, tqdm=tqdm)"
   ]
  },
  {
   "cell_type": "code",
   "execution_count": 35,
   "id": "6299de11-c054-47ce-948c-93b8fbb27b7d",
   "metadata": {},
   "outputs": [
    {
     "data": {
      "application/vnd.jupyter.widget-view+json": {
       "model_id": "a011e7cfc6bb49759d1b70e2839771a8",
       "version_major": 2,
       "version_minor": 0
      },
      "text/plain": [
       "  0%|          | 0/60 [00:00<?, ?it/s]"
      ]
     },
     "metadata": {},
     "output_type": "display_data"
    },
    {
     "data": {
      "application/vnd.jupyter.widget-view+json": {
       "model_id": "20b8b2c586b84767a268e1275ec17631",
       "version_major": 2,
       "version_minor": 0
      },
      "text/plain": [
       "  0%|          | 0/60 [00:00<?, ?it/s]"
      ]
     },
     "metadata": {},
     "output_type": "display_data"
    },
    {
     "data": {
      "application/vnd.jupyter.widget-view+json": {
       "model_id": "f3f5214b869749849dcdff7be749689c",
       "version_major": 2,
       "version_minor": 0
      },
      "text/plain": [
       "  0%|          | 0/60 [00:00<?, ?it/s]"
      ]
     },
     "metadata": {},
     "output_type": "display_data"
    },
    {
     "data": {
      "application/vnd.jupyter.widget-view+json": {
       "model_id": "b19464565acd486ca99db472375116fe",
       "version_major": 2,
       "version_minor": 0
      },
      "text/plain": [
       "  0%|          | 0/60 [00:00<?, ?it/s]"
      ]
     },
     "metadata": {},
     "output_type": "display_data"
    },
    {
     "data": {
      "application/vnd.jupyter.widget-view+json": {
       "model_id": "4a5d0c5867e1465397b033a62899f927",
       "version_major": 2,
       "version_minor": 0
      },
      "text/plain": [
       "  0%|          | 0/60 [00:00<?, ?it/s]"
      ]
     },
     "metadata": {},
     "output_type": "display_data"
    }
   ],
   "source": [
    "net = mnist.Network()\n",
    "opt = torch.optim.Adam(net.parameters(), lr=1e-2)\n",
    "\n",
    "meter_acc = metrics.AverageMeter(keep_verbose_stats=True)\n",
    "meter_loss = metrics.AverageMeter(keep_verbose_stats=True)\n",
    "\n",
    "for epoch_idx in range(5):\n",
    "    for x, y in tqdm(ds.dl_train):\n",
    "        yp = net(x)\n",
    "        loss = ds.loss_fn(yp, y)\n",
    "        acc = (yp.argmax(dim=-1)==y).sum().item()/len(x)\n",
    "\n",
    "        opt.zero_grad()\n",
    "        loss.backward()\n",
    "        opt.step()\n",
    "\n",
    "        meter_acc.update(acc, len(x))\n",
    "        meter_loss.update(loss.item(), len(x))"
   ]
  },
  {
   "cell_type": "code",
   "execution_count": 37,
   "id": "252c5a19-6d11-493f-b287-3e88fa97ce1a",
   "metadata": {},
   "outputs": [
    {
     "data": {
      "text/plain": [
       "(0.0, 900.0)"
      ]
     },
     "execution_count": 37,
     "metadata": {},
     "output_type": "execute_result"
    },
    {
     "data": {
      "image/png": "[encoded data removed]",
      "text/plain": [
       "<Figure size 432x288 with 1 Axes>"
      ]
     },
     "metadata": {
      "needs_background": "light"
     },
     "output_type": "display_data"
    }
   ],
   "source": [
    "plt.plot(np.array(meter_loss.data)[:, 0])\n",
    "plt.xlim(0, 900)"
   ]
  },
  {
   "cell_type": "code",
   "execution_count": 34,
   "id": "bdeb9221-a826-43bb-9a2a-f71827d042bd",
   "metadata": {},
   "outputs": [
    {
     "data": {
      "text/plain": [
       "[<matplotlib.lines.Line2D at 0x7f9c2d5a01c0>]"
      ]
     },
     "execution_count": 34,
     "metadata": {},
     "output_type": "execute_result"
    },
    {
     "data": {
      "image/png": "[encoded data removed]",
      "text/plain": [
       "<Figure size 432x288 with 1 Axes>"
      ]
     },
     "metadata": {
      "needs_background": "light"
     },
     "output_type": "display_data"
    }
   ],
   "source": [
    "plt.plot(np.array(meter_loss.data)[:, 0])"
   ]
  },
  {
   "cell_type": "code",
   "execution_count": null,
   "id": "d9fe58a4-ed8d-42f8-bdbe-76c5c1a1a26a",
   "metadata": {},
   "outputs": [],
   "source": []
  },
  {
   "cell_type": "code",
   "execution_count": null,
   "id": "b4d3f8a9-ba54-445f-81b8-5b058888bb6e",
   "metadata": {},
   "outputs": [],
   "source": []
  },
  {
   "cell_type": "code",
   "execution_count": null,
   "id": "dd8fc6f5-ad07-47e5-8b05-5df036ceb9a5",
   "metadata": {},
   "outputs": [],
   "source": []
  },
  {
   "cell_type": "code",
   "execution_count": null,
   "id": "dab4c21b-81ff-4d06-81dd-f74041532742",
   "metadata": {},
   "outputs": [],
   "source": []
  },
  {
   "cell_type": "code",
   "execution_count": null,
   "id": "db040a1c-8904-407d-8bff-3907f12b5177",
   "metadata": {},
   "outputs": [],
   "source": []
  },
  {
   "cell_type": "code",
   "execution_count": 1,
   "id": "deluxe-cloud",
   "metadata": {},
   "outputs": [],
   "source": [
    "# import mnist\n",
    "\n",
    "import torch\n",
    "from torch import nn\n",
    "import numpy as np\n",
    "\n",
    "import matplotlib.pyplot as plt\n",
    "\n",
    "from tqdm.notebook import tqdm"
   ]
  },
  {
   "cell_type": "code",
   "execution_count": 2,
   "id": "permanent-moore",
   "metadata": {},
   "outputs": [],
   "source": [
    "from mnist import MNIST"
   ]
  },
  {
   "cell_type": "code",
   "execution_count": 5,
   "id": "controlled-solution",
   "metadata": {},
   "outputs": [],
   "source": [
    "def intercept(v1, g1, v2, g2):\n",
    "    '''\n",
    "    from: https://math.stackexchange.com/questions/1036959/midpoint-of-the-shortest-distance-between-2-rays-in-3d\n",
    "    '''\n",
    "    def dot(a, b):\n",
    "        return (a*b).sum(dim=-1)\n",
    "    \n",
    "    a, b, c, d = v1, g1, v2, g2\n",
    "    \n",
    "    bd = dot(b, d)\n",
    "    ad = dot(a, d)\n",
    "    bc = dot(b, c)\n",
    "    cd = dot(c, d) \n",
    "    ab = dot(a, b)\n",
    "    \n",
    "    s = (bd*(ad-bc)-ad*cd)/(bd**2.-1.)\n",
    "    t = (bd*(cd-ad)-bc*ab)/(bd**2.-1.)\n",
    "    \n",
    "    return (a+c+b*t[:, None]+d*s[:, None])/2.\n",
    "\n",
    "def intercept(v1, g1, v2, g2):\n",
    "    '''\n",
    "    from: https://math.stackexchange.com/questions/3242011/finding-the-closest-two-points-on-two-lines-in-n-dimensions\n",
    "    '''\n",
    "    \n",
    "    bs = v1.shape[:-1]\n",
    "    def dot(a, b):\n",
    "        return (a*b).sum(dim=-1)\n",
    "    \n",
    "    g1 = g1/g1.norm(dim=-1, keepdim=True)\n",
    "    g2 = g2/g2.norm(dim=-1, keepdim=True)\n",
    "    \n",
    "    a, b, c, d = v1, g1, v2, g2\n",
    "    \n",
    "    # Ax = B\n",
    "    A = torch.zeros(*bs, 2, 2)\n",
    "    B = torch.zeros(*bs, 2)\n",
    "    A[..., 0, 0] = b.norm(dim=-1)**2.\n",
    "    A[..., 0, 1] = -dot(b, d)\n",
    "    A[..., 1, 0] = -dot(b, d)\n",
    "    A[..., 1, 1] = d.norm(dim=-1)**2.\n",
    "    \n",
    "    \n",
    "    B[..., 0] = -dot(a-c, b)\n",
    "    B[..., 1] = dot(a-c, d)\n",
    "    \n",
    "#     print(A)\n",
    "#     print(torch.matrix_rank(A))\n",
    "#     print(A.det())\n",
    "#     print(A.inverse())\n",
    "    \n",
    "    st = (A.inverse()@B[..., None])[..., 0]\n",
    "    s, t = st[..., 0], st[..., 1]\n",
    "    \n",
    "    # TODO clip s, t to 0 as lower limit\n",
    "    \n",
    "#     if s<0 or t<0:\n",
    "#         print('st ', s,t)\n",
    "    \n",
    "    return (a+c+b*s[..., None]+d*t[..., None])/2., s, t"
   ]
  },
  {
   "cell_type": "code",
   "execution_count": 6,
   "id": "infrared-mission",
   "metadata": {},
   "outputs": [],
   "source": [
    "from functions import *"
   ]
  },
  {
   "cell_type": "code",
   "execution_count": 7,
   "id": "loving-inventory",
   "metadata": {},
   "outputs": [],
   "source": [
    "def fn_quad(x):\n",
    "    return x.norm(dim=-1)**2\n",
    "\n",
    "def fg_fn(x, fn):\n",
    "    x = x.detach().requires_grad_()\n",
    "    loss = fn(x)\n",
    "    loss.backward()\n",
    "    return loss, x.grad\n",
    "\n",
    "fn = rosenbrock"
   ]
  },
  {
   "cell_type": "code",
   "execution_count": 8,
   "id": "designed-intermediate",
   "metadata": {},
   "outputs": [],
   "source": [
    "def calc_sgd_trajectory(x, steps, lr=1e-1):\n",
    "    traj = [] # trajectory\n",
    "    traj_grad = []\n",
    "\n",
    "    x.requires_grad_()\n",
    "\n",
    "    opt = torch.optim.SGD([x], lr=lr)\n",
    "    for _ in range(steps):\n",
    "        loss = fn(x)\n",
    "\n",
    "        opt.zero_grad()\n",
    "        loss.backward()\n",
    "        traj.append(x.detach().clone())\n",
    "        traj_grad.append(x.grad.detach().clone())\n",
    "        opt.step()\n",
    "\n",
    "    traj = torch.stack(traj)\n",
    "    traj_grad = torch.stack(traj_grad)\n",
    "    return traj, traj_grad\n",
    "\n",
    "def calc_eps_intercept_trajectory(x, steps, eps=1e-1):\n",
    "    traj = [] # trajectory\n",
    "    traj_grad = []\n",
    "\n",
    "    x1 = x\n",
    "    \n",
    "    for _ in range(steps):\n",
    "        \n",
    "        x2 = x1 + eps*torch.randn_like(x1)\n",
    "        f1, g1 = fg_fn(x1, fn)\n",
    "        f2, g2 = fg_fn(x2, fn)\n",
    "        x3, _, _ = intercept(x1.detach(), -g1.detach(), x2.detach(), -g2.detach())\n",
    "        \n",
    "        traj.append(torch.stack([x1, x2]).detach().clone())\n",
    "        traj_grad.append(torch.stack([g1, g2]).detach().clone())\n",
    "        \n",
    "        x1 = x3\n",
    "\n",
    "    traj = torch.stack(traj)\n",
    "    traj_grad = torch.stack(traj_grad)\n",
    "    return traj, traj_grad"
   ]
  },
  {
   "cell_type": "code",
   "execution_count": 9,
   "id": "raising-government",
   "metadata": {},
   "outputs": [],
   "source": [
    "def plot_contour(fn, xmin, ymin, xmax, ymax):\n",
    "    \n",
    "    x1 = torch.linspace(xmin, xmax, 100)\n",
    "    x2 = torch.linspace(ymin, ymax, 100)\n",
    "    x1, x2 = torch.meshgrid(x1, x2)\n",
    "    x = torch.stack([x1, x2], dim=-1)\n",
    "    z = fn(x)\n",
    "\n",
    "    plt.contourf(x1, x2, z, levels=100)\n",
    "    plt.colorbar()\n",
    "\n",
    "def plot_sgd_traj(traj, traj_grad, s=10, glen=.01):\n",
    "    plt.scatter(*traj.T.numpy(), c='g', s=s)\n",
    "\n",
    "    for v, g in zip(traj, traj_grad):\n",
    "        a = torch.stack([v, v-glen*g])\n",
    "        plt.plot(*a.numpy().T, c='r')\n",
    "        \n",
    "def plot_eps_intercept_traj(traj, traj_grad, s=10, glen=.01):\n",
    "    plt.scatter(*traj[:, 0].T.numpy(), c='g', s=s)\n",
    "    plt.scatter(*traj[:, 1].T.numpy(), c='b', s=s)\n",
    "\n",
    "    for vs, gs in zip(traj, traj_grad):\n",
    "        for v, g in zip(vs, gs):\n",
    "            a = torch.stack([v, v-glen*g])\n",
    "            plt.plot(*a.numpy().T, c='r')"
   ]
  },
  {
   "cell_type": "code",
   "execution_count": 28,
   "id": "similar-netherlands",
   "metadata": {},
   "outputs": [
    {
     "data": {
      "image/png": "[encoded data removed]",
      "text/plain": [
       "<Figure size 432x288 with 2 Axes>"
      ]
     },
     "metadata": {
      "needs_background": "light"
     },
     "output_type": "display_data"
    }
   ],
   "source": [
    "\n",
    "a = 7\n",
    "\n",
    "x = torch.tensor([5., 5.])\n",
    "\n",
    "# plot_contour(fn, -a, -a, a, a)\n",
    "# traj, traj_grad = calc_sgd_trajectory(x, 10, lr=1e-6)\n",
    "# plot_sgd_traj(traj, traj_grad, s=10, glen=1e-5)\n",
    "# plt.show()\n",
    "\n",
    "plot_contour(fn, -a, -a, a, a)\n",
    "traj, traj_grad = calc_eps_intercept_trajectory(x, 2, eps=1e-1)\n",
    "plot_eps_intercept_traj(traj, traj_grad, s=10, glen=1e-4)\n",
    "plt.xlim(-a, a); plt.ylim(-a, a)\n",
    "plt.show()"
   ]
  },
  {
   "cell_type": "code",
   "execution_count": null,
   "id": "southern-asthma",
   "metadata": {},
   "outputs": [],
   "source": []
  },
  {
   "cell_type": "code",
   "execution_count": null,
   "id": "assured-framework",
   "metadata": {},
   "outputs": [],
   "source": []
  },
  {
   "cell_type": "code",
   "execution_count": null,
   "id": "exclusive-generation",
   "metadata": {},
   "outputs": [],
   "source": []
  },
  {
   "cell_type": "code",
   "execution_count": null,
   "id": "normal-letter",
   "metadata": {},
   "outputs": [],
   "source": []
  },
  {
   "cell_type": "code",
   "execution_count": null,
   "id": "emotional-toolbox",
   "metadata": {},
   "outputs": [],
   "source": []
  },
  {
   "cell_type": "code",
   "execution_count": 15,
   "id": "genuine-chance",
   "metadata": {},
   "outputs": [],
   "source": [
    "torch.manual_seed(1)\n",
    "v1 = torch.randn(16, 2)\n",
    "g1 = torch.randn(16, 2)\n",
    "v2 = torch.randn(16, 2)\n",
    "g2 = torch.randn(16, 2)\n",
    "\n",
    "# v1 = torch.tensor([[0, 0.]])\n",
    "# g1 = torch.tensor([[1, 0.]])\n",
    "# v2 = torch.tensor([[0, -2.]])\n",
    "# g2 = torch.tensor([[1, 2.]])/10.\n"
   ]
  },
  {
   "cell_type": "code",
   "execution_count": 16,
   "id": "hybrid-ghana",
   "metadata": {},
   "outputs": [],
   "source": [
    "it = intercept(v1, g1, v2, g2)"
   ]
  },
  {
   "cell_type": "code",
   "execution_count": 17,
   "id": "sorted-dimension",
   "metadata": {
    "tags": []
   },
   "outputs": [
    {
     "ename": "TypeError",
     "evalue": "scatter() got multiple values for argument 'marker'",
     "output_type": "error",
     "traceback": [
      "\u001b[0;31m---------------------------------------------------------------------------\u001b[0m",
      "\u001b[0;31mTypeError\u001b[0m                                 Traceback (most recent call last)",
      "\u001b[0;32m<ipython-input-17-452eef4be97b>\u001b[0m in \u001b[0;36m<module>\u001b[0;34m\u001b[0m\n\u001b[1;32m      6\u001b[0m     \u001b[0mplt\u001b[0m\u001b[0;34m.\u001b[0m\u001b[0mplot\u001b[0m\u001b[0;34m(\u001b[0m\u001b[0;34m*\u001b[0m\u001b[0mtorch\u001b[0m\u001b[0;34m.\u001b[0m\u001b[0mstack\u001b[0m\u001b[0;34m(\u001b[0m\u001b[0;34m[\u001b[0m\u001b[0mv1\u001b[0m\u001b[0;34m[\u001b[0m\u001b[0mi\u001b[0m\u001b[0;34m]\u001b[0m\u001b[0;34m,\u001b[0m \u001b[0mv1\u001b[0m\u001b[0;34m[\u001b[0m\u001b[0mi\u001b[0m\u001b[0;34m]\u001b[0m\u001b[0;34m+\u001b[0m\u001b[0mg1\u001b[0m\u001b[0;34m[\u001b[0m\u001b[0mi\u001b[0m\u001b[0;34m]\u001b[0m\u001b[0;34m]\u001b[0m\u001b[0;34m)\u001b[0m\u001b[0;34m.\u001b[0m\u001b[0mT\u001b[0m\u001b[0;34m)\u001b[0m\u001b[0;34m\u001b[0m\u001b[0;34m\u001b[0m\u001b[0m\n\u001b[1;32m      7\u001b[0m     \u001b[0mplt\u001b[0m\u001b[0;34m.\u001b[0m\u001b[0mplot\u001b[0m\u001b[0;34m(\u001b[0m\u001b[0;34m*\u001b[0m\u001b[0mtorch\u001b[0m\u001b[0;34m.\u001b[0m\u001b[0mstack\u001b[0m\u001b[0;34m(\u001b[0m\u001b[0;34m[\u001b[0m\u001b[0mv2\u001b[0m\u001b[0;34m[\u001b[0m\u001b[0mi\u001b[0m\u001b[0;34m]\u001b[0m\u001b[0;34m,\u001b[0m \u001b[0mv2\u001b[0m\u001b[0;34m[\u001b[0m\u001b[0mi\u001b[0m\u001b[0;34m]\u001b[0m\u001b[0;34m+\u001b[0m\u001b[0mg2\u001b[0m\u001b[0;34m[\u001b[0m\u001b[0mi\u001b[0m\u001b[0;34m]\u001b[0m\u001b[0;34m]\u001b[0m\u001b[0;34m)\u001b[0m\u001b[0;34m.\u001b[0m\u001b[0mT\u001b[0m\u001b[0;34m)\u001b[0m\u001b[0;34m\u001b[0m\u001b[0;34m\u001b[0m\u001b[0m\n\u001b[0;32m----> 8\u001b[0;31m     \u001b[0mplt\u001b[0m\u001b[0;34m.\u001b[0m\u001b[0mscatter\u001b[0m\u001b[0;34m(\u001b[0m\u001b[0;34m*\u001b[0m\u001b[0mit\u001b[0m\u001b[0;34m[\u001b[0m\u001b[0mi\u001b[0m\u001b[0;34m]\u001b[0m\u001b[0;34m,\u001b[0m \u001b[0mmarker\u001b[0m\u001b[0;34m=\u001b[0m\u001b[0;34m'x'\u001b[0m\u001b[0;34m,\u001b[0m \u001b[0mc\u001b[0m\u001b[0;34m=\u001b[0m\u001b[0;34m'r'\u001b[0m\u001b[0;34m,\u001b[0m \u001b[0ms\u001b[0m\u001b[0;34m=\u001b[0m\u001b[0;36m100\u001b[0m\u001b[0;34m)\u001b[0m\u001b[0;34m\u001b[0m\u001b[0;34m\u001b[0m\u001b[0m\n\u001b[0m\u001b[1;32m      9\u001b[0m     \u001b[0;31m# plt.scatter(*it1[i], marker='x', c='g', s=100)\u001b[0m\u001b[0;34m\u001b[0m\u001b[0;34m\u001b[0m\u001b[0;34m\u001b[0m\u001b[0m\n\u001b[1;32m     10\u001b[0m \u001b[0;34m\u001b[0m\u001b[0m\n",
      "\u001b[0;31mTypeError\u001b[0m: scatter() got multiple values for argument 'marker'"
     ]
    },
    {
     "data": {
      "image/png": "[encoded data removed]",
      "text/plain": [
       "<Figure size 360x360 with 1 Axes>"
      ]
     },
     "metadata": {
      "needs_background": "light"
     },
     "output_type": "display_data"
    }
   ],
   "source": [
    "\n",
    "for i in range(len(v1)):\n",
    "    plt.figure(figsize=(5, 5))\n",
    "#     plt.quiver(*v1[i], *g1[i], scale=5)\n",
    "#     plt.quiver(*v2[i], *g2[i], scale=5)\n",
    "    \n",
    "    plt.plot(*torch.stack([v1[i], v1[i]+g1[i]]).T)\n",
    "    plt.plot(*torch.stack([v2[i], v2[i]+g2[i]]).T)\n",
    "    plt.scatter(*it[i], marker='x', c='r', s=100)\n",
    "    # plt.scatter(*it1[i], marker='x', c='g', s=100)\n",
    "\n",
    "    plt.xlim(-4, 4); plt.ylim(-4, 4)\n",
    "    plt.show()"
   ]
  },
  {
   "cell_type": "code",
   "execution_count": 4,
   "id": "actual-knowing",
   "metadata": {},
   "outputs": [],
   "source": []
  },
  {
   "cell_type": "code",
   "execution_count": 5,
   "id": "amazing-relations",
   "metadata": {},
   "outputs": [],
   "source": [
    "def step_intercept_epsilon(x1, fn, eps=1e-2):\n",
    "    x2 = x1 + eps*torch.randn_like(x1)\n",
    "    f1, g1 = fg_fn(x1, fn)\n",
    "    f2, g2 = fg_fn(x2, fn)\n",
    "    x3 = intercept(x1.detach(), -g1.detach(), x2.detach(), -g2.detach())\n",
    "    return x3\n",
    "\n",
    "def step(x):\n",
    "    fx = func(x)\n",
    "    gx = grad(x)\n",
    "    \n",
    "    t = 1e-5\n",
    "    while func(x-t*gx)<fx:\n",
    "        t *= 2\n",
    "    v1 = x-t/2.*gx\n",
    "    v2 = x-t*gx\n",
    "    v2 = v2+torch.randn_like(v2)*.1\n",
    "    \n",
    "    g1 = grad(v1)\n",
    "    g2 = grad(v2)\n",
    "    \n",
    "    v3 = intercept(v1, -g1, v2, -g2)\n",
    "    \n",
    "    # plt.plot(*torch.stack([v1, (v1-g1/10.)]).T)\n",
    "    # plt.plot(*torch.stack([v2, (v2-g2/10.)]).T)\n",
    "\n",
    "    # plt.scatter(*v3, marker='x', c='r', s=100)\n",
    "        "
   ]
  },
  {
   "cell_type": "code",
   "execution_count": 6,
   "id": "needed-judge",
   "metadata": {},
   "outputs": [],
   "source": [
    "x1 = (torch.randn(100)*100).requires_grad_()\n",
    "x2 = (torch.randn(2)*100).requires_grad_()\n",
    "\n",
    "# f1, g1 = fg_quad(x1)\n",
    "# f2, g2 = fg_quad(x2)"
   ]
  },
  {
   "cell_type": "code",
   "execution_count": 7,
   "id": "historic-metadata",
   "metadata": {},
   "outputs": [],
   "source": [
    "x1 = (torch.randn(100)).requires_grad_()\n",
    "x3 = step_intercept_epsilon(x1, fn_quad, eps=1e-2)"
   ]
  },
  {
   "cell_type": "code",
   "execution_count": null,
   "id": "widespread-berkeley",
   "metadata": {},
   "outputs": [],
   "source": []
  },
  {
   "cell_type": "code",
   "execution_count": null,
   "id": "demanding-influence",
   "metadata": {},
   "outputs": [],
   "source": []
  },
  {
   "cell_type": "code",
   "execution_count": null,
   "id": "wooden-premium",
   "metadata": {},
   "outputs": [],
   "source": []
  },
  {
   "cell_type": "code",
   "execution_count": null,
   "id": "catholic-voluntary",
   "metadata": {},
   "outputs": [],
   "source": []
  },
  {
   "cell_type": "code",
   "execution_count": null,
   "id": "dirty-slovenia",
   "metadata": {},
   "outputs": [],
   "source": []
  },
  {
   "cell_type": "code",
   "execution_count": null,
   "id": "acting-memorial",
   "metadata": {},
   "outputs": [],
   "source": []
  },
  {
   "cell_type": "code",
   "execution_count": null,
   "id": "developed-times",
   "metadata": {},
   "outputs": [],
   "source": []
  },
  {
   "cell_type": "code",
   "execution_count": 406,
   "id": "numeric-solid",
   "metadata": {},
   "outputs": [],
   "source": [
    "# TODO the more parralel the two grad directions, the less you trust my intersection estimate\n",
    "# use convex combination of (intersection estimate) and (mean of the two base points)"
   ]
  },
  {
   "cell_type": "code",
   "execution_count": 280,
   "id": "welcome-hunter",
   "metadata": {},
   "outputs": [],
   "source": [
    "class Network(nn.Module):\n",
    "    def __init__(self):\n",
    "        super().__init__()\n",
    "        self.seq = nn.Sequential(\n",
    "            nn.Conv2d(1, 8, 3, padding=1),\n",
    "            nn.MaxPool2d(2),\n",
    "            nn.ReLU(),\n",
    "            nn.Conv2d(8, 8, 3, padding=1),\n",
    "            nn.MaxPool2d(2),\n",
    "            nn.ReLU(),\n",
    "            nn.Conv2d(8, 8, 3, padding=1),\n",
    "            nn.ReLU(),\n",
    "            nn.Conv2d(8, 8, 3, padding=1),\n",
    "            nn.MaxPool2d(3),\n",
    "        )\n",
    "        self.classification = nn.Sequential(\n",
    "            nn.Linear(32, 10),\n",
    "            nn.LogSoftmax(dim=-1),\n",
    "        )\n",
    "    def forward(self, x):\n",
    "        x = self.seq(x)\n",
    "        x = x.reshape(len(x), -1)\n",
    "        x = self.classification(x)\n",
    "        return x"
   ]
  },
  {
   "cell_type": "code",
   "execution_count": 10,
   "id": "dried-judges",
   "metadata": {},
   "outputs": [],
   "source": [
    "ds = mnist.MNIST()"
   ]
  },
  {
   "cell_type": "code",
   "execution_count": 11,
   "id": "systematic-copyright",
   "metadata": {},
   "outputs": [
    {
     "name": "stdout",
     "output_type": "stream",
     "text": [
      "2162\n"
     ]
    }
   ],
   "source": [
    "net = mnist.Network()\n",
    "opt = torch.optim.Adam(net.parameters(), lr=1e-2)\n",
    "print(np.sum([p.numel() for p in net.parameters()]))\n",
    "\n",
    "net(torch.randn(1,1,28,28))\n",
    "\n",
    "v = nn.utils.parameters_to_vector(net.parameters()).detach().requires_grad_()"
   ]
  },
  {
   "cell_type": "code",
   "execution_count": 17,
   "id": "4121646b-c3b2-45a0-b7e0-0dcf9519e20c",
   "metadata": {},
   "outputs": [],
   "source": [
    "data = {}"
   ]
  },
  {
   "cell_type": "markdown",
   "id": "917e1003-5615-4c14-9506-76f305113160",
   "metadata": {},
   "source": [
    "## MNIST Adam"
   ]
  },
  {
   "cell_type": "code",
   "execution_count": 16,
   "id": "8cae0672-7079-40c7-a5d9-0cb15b054e0b",
   "metadata": {
    "collapsed": true,
    "jupyter": {
     "outputs_hidden": true
    },
    "tags": []
   },
   "outputs": [
    {
     "data": {
      "application/vnd.jupyter.widget-view+json": {
       "model_id": "99f80c061a4644e5967f3a02b3b5e301",
       "version_major": 2,
       "version_minor": 0
      },
      "text/plain": [
       "  0%|          | 0/60 [00:00<?, ?it/s]"
      ]
     },
     "metadata": {},
     "output_type": "display_data"
    },
    {
     "data": {
      "application/vnd.jupyter.widget-view+json": {
       "model_id": "9a3da431ac0e449fbb1d53a9d4db5b14",
       "version_major": 2,
       "version_minor": 0
      },
      "text/plain": [
       "  0%|          | 0/60 [00:00<?, ?it/s]"
      ]
     },
     "metadata": {},
     "output_type": "display_data"
    },
    {
     "data": {
      "application/vnd.jupyter.widget-view+json": {
       "model_id": "ea42fd81ef044ceba110621caf462fe4",
       "version_major": 2,
       "version_minor": 0
      },
      "text/plain": [
       "  0%|          | 0/60 [00:00<?, ?it/s]"
      ]
     },
     "metadata": {},
     "output_type": "display_data"
    },
    {
     "data": {
      "application/vnd.jupyter.widget-view+json": {
       "model_id": "b1a1ba1dad424f64ad9da69e8f885579",
       "version_major": 2,
       "version_minor": 0
      },
      "text/plain": [
       "  0%|          | 0/60 [00:00<?, ?it/s]"
      ]
     },
     "metadata": {},
     "output_type": "display_data"
    },
    {
     "data": {
      "application/vnd.jupyter.widget-view+json": {
       "model_id": "f738554051f345d3ad265e17b13485fa",
       "version_major": 2,
       "version_minor": 0
      },
      "text/plain": [
       "  0%|          | 0/60 [00:00<?, ?it/s]"
      ]
     },
     "metadata": {},
     "output_type": "display_data"
    },
    {
     "ename": "NameError",
     "evalue": "name 'data' is not defined",
     "output_type": "error",
     "traceback": [
      "\u001b[0;31m---------------------------------------------------------------------------\u001b[0m",
      "\u001b[0;31mNameError\u001b[0m                                 Traceback (most recent call last)",
      "\u001b[0;32m/var/folders/fk/0sthbc6s2zbd1kyry1yjdxzw0000gn/T/ipykernel_81270/570232131.py\u001b[0m in \u001b[0;36m<module>\u001b[0;34m\u001b[0m\n\u001b[1;32m     18\u001b[0m         \u001b[0mmeter_loss\u001b[0m\u001b[0;34m.\u001b[0m\u001b[0mupdate\u001b[0m\u001b[0;34m(\u001b[0m\u001b[0mloss\u001b[0m\u001b[0;34m.\u001b[0m\u001b[0mitem\u001b[0m\u001b[0;34m(\u001b[0m\u001b[0;34m)\u001b[0m\u001b[0;34m,\u001b[0m \u001b[0mlen\u001b[0m\u001b[0;34m(\u001b[0m\u001b[0mx\u001b[0m\u001b[0;34m)\u001b[0m\u001b[0;34m)\u001b[0m\u001b[0;34m\u001b[0m\u001b[0;34m\u001b[0m\u001b[0m\n\u001b[1;32m     19\u001b[0m \u001b[0;34m\u001b[0m\u001b[0m\n\u001b[0;32m---> 20\u001b[0;31m \u001b[0mdata\u001b[0m\u001b[0;34m[\u001b[0m\u001b[0;34m'adam_meter_loss'\u001b[0m\u001b[0;34m]\u001b[0m \u001b[0;34m=\u001b[0m \u001b[0mmeter_loss\u001b[0m\u001b[0;34m\u001b[0m\u001b[0;34m\u001b[0m\u001b[0m\n\u001b[0m\u001b[1;32m     21\u001b[0m \u001b[0mdata\u001b[0m\u001b[0;34m[\u001b[0m\u001b[0;34m'adam_meter_acc'\u001b[0m\u001b[0;34m]\u001b[0m \u001b[0;34m=\u001b[0m \u001b[0mmeter_acc\u001b[0m\u001b[0;34m\u001b[0m\u001b[0;34m\u001b[0m\u001b[0m\n",
      "\u001b[0;31mNameError\u001b[0m: name 'data' is not defined"
     ]
    }
   ],
   "source": [
    "net = mnist.Network()\n",
    "opt = torch.optim.Adam(net.parameters(), lr=1e-2)\n",
    "\n",
    "meter_acc = metrics.AverageMeter(keep_verbose_stats=True)\n",
    "meter_loss = metrics.AverageMeter(keep_verbose_stats=True)\n",
    "\n",
    "for epoch_idx in range(5):\n",
    "    for x, y in tqdm(ds.dl_train):\n",
    "        yp = net(x)\n",
    "        loss = ds.loss_fn(yp, y)\n",
    "        acc = (yp.argmax(dim=-1)==y).sum().item()/len(x)\n",
    "\n",
    "        opt.zero_grad()\n",
    "        loss.backward()\n",
    "        opt.step()\n",
    "\n",
    "        meter_acc.update(acc, len(x))\n",
    "        meter_loss.update(loss.item(), len(x))\n",
    "        \n",
    "data['adam_meter_loss'] = meter_loss\n",
    "data['adam_meter_acc'] = meter_acc"
   ]
  },
  {
   "cell_type": "markdown",
   "id": "2e3e40a3-54f5-45ad-8fd8-317e1b07587c",
   "metadata": {
    "tags": []
   },
   "source": [
    "## MNIST SGD w/ Momentum"
   ]
  },
  {
   "cell_type": "code",
   "execution_count": 51,
   "id": "b182ee67-7b38-4df5-8ff5-75c3a128e14a",
   "metadata": {},
   "outputs": [
    {
     "data": {
      "application/vnd.jupyter.widget-view+json": {
       "model_id": "547e6122bc3d48649403478358e26350",
       "version_major": 2,
       "version_minor": 0
      },
      "text/plain": [
       "  0%|          | 0/60 [00:00<?, ?it/s]"
      ]
     },
     "metadata": {},
     "output_type": "display_data"
    },
    {
     "data": {
      "application/vnd.jupyter.widget-view+json": {
       "model_id": "324f41439d8b4017992909d5c1ca4acf",
       "version_major": 2,
       "version_minor": 0
      },
      "text/plain": [
       "  0%|          | 0/60 [00:00<?, ?it/s]"
      ]
     },
     "metadata": {},
     "output_type": "display_data"
    },
    {
     "data": {
      "application/vnd.jupyter.widget-view+json": {
       "model_id": "a1dbe296e19e40adb9ded0a232709347",
       "version_major": 2,
       "version_minor": 0
      },
      "text/plain": [
       "  0%|          | 0/60 [00:00<?, ?it/s]"
      ]
     },
     "metadata": {},
     "output_type": "display_data"
    },
    {
     "data": {
      "application/vnd.jupyter.widget-view+json": {
       "model_id": "a28bde2abfe74921a24b14b43e6f741d",
       "version_major": 2,
       "version_minor": 0
      },
      "text/plain": [
       "  0%|          | 0/60 [00:00<?, ?it/s]"
      ]
     },
     "metadata": {},
     "output_type": "display_data"
    },
    {
     "data": {
      "application/vnd.jupyter.widget-view+json": {
       "model_id": "2c1b690c8b2e4304b4a277e825746927",
       "version_major": 2,
       "version_minor": 0
      },
      "text/plain": [
       "  0%|          | 0/60 [00:00<?, ?it/s]"
      ]
     },
     "metadata": {},
     "output_type": "display_data"
    },
    {
     "data": {
      "application/vnd.jupyter.widget-view+json": {
       "model_id": "772722d34268498ebea37bfbc2314603",
       "version_major": 2,
       "version_minor": 0
      },
      "text/plain": [
       "  0%|          | 0/60 [00:00<?, ?it/s]"
      ]
     },
     "metadata": {},
     "output_type": "display_data"
    },
    {
     "data": {
      "application/vnd.jupyter.widget-view+json": {
       "model_id": "df2e7b572dae49508d7c0c68244d93d1",
       "version_major": 2,
       "version_minor": 0
      },
      "text/plain": [
       "  0%|          | 0/60 [00:00<?, ?it/s]"
      ]
     },
     "metadata": {},
     "output_type": "display_data"
    },
    {
     "data": {
      "application/vnd.jupyter.widget-view+json": {
       "model_id": "532e6732440245eda22dc5e4091dbdbc",
       "version_major": 2,
       "version_minor": 0
      },
      "text/plain": [
       "  0%|          | 0/60 [00:00<?, ?it/s]"
      ]
     },
     "metadata": {},
     "output_type": "display_data"
    },
    {
     "data": {
      "application/vnd.jupyter.widget-view+json": {
       "model_id": "9e7e65ac98504dd0ab362aa0e0c3c321",
       "version_major": 2,
       "version_minor": 0
      },
      "text/plain": [
       "  0%|          | 0/60 [00:00<?, ?it/s]"
      ]
     },
     "metadata": {},
     "output_type": "display_data"
    },
    {
     "data": {
      "application/vnd.jupyter.widget-view+json": {
       "model_id": "93d080fd66cf4e9d89040583827396c8",
       "version_major": 2,
       "version_minor": 0
      },
      "text/plain": [
       "  0%|          | 0/60 [00:00<?, ?it/s]"
      ]
     },
     "metadata": {},
     "output_type": "display_data"
    }
   ],
   "source": [
    "net = mnist.Network()\n",
    "opt = torch.optim.SGD(net.parameters(), lr=3e-3, momentum=0.9)\n",
    "\n",
    "meter_acc = metrics.AverageMeter(keep_verbose_stats=True)\n",
    "meter_loss = metrics.AverageMeter(keep_verbose_stats=True)\n",
    "\n",
    "for epoch_idx in range(10):\n",
    "    for x, y in tqdm(ds.dl_train):\n",
    "        yp = net(x)\n",
    "        loss = ds.loss_fn(yp, y)\n",
    "        acc = (yp.argmax(dim=-1)==y).sum().item()/len(x)\n",
    "\n",
    "        opt.zero_grad()\n",
    "        loss.backward()\n",
    "        opt.step()\n",
    "\n",
    "        meter_acc.update(acc, len(x))\n",
    "        meter_loss.update(loss.item(), len(x))\n",
    "        \n",
    "data['sgdm_meter_loss'] = meter_loss\n",
    "data['sgdm_meter_acc'] = meter_acc"
   ]
  },
  {
   "cell_type": "code",
   "execution_count": null,
   "id": "8938d1d1-d3d3-4da6-9168-73be75305cbe",
   "metadata": {},
   "outputs": [],
   "source": []
  },
  {
   "cell_type": "code",
   "execution_count": null,
   "id": "8e7f3e7f-4ad0-49cd-992c-c6808bc7ecc8",
   "metadata": {},
   "outputs": [],
   "source": []
  },
  {
   "cell_type": "code",
   "execution_count": 256,
   "id": "hybrid-rubber",
   "metadata": {},
   "outputs": [],
   "source": [
    "vo = nn.utils.parameters_to_vector(net.parameters()).detach().requires_grad_()"
   ]
  },
  {
   "cell_type": "code",
   "execution_count": 257,
   "id": "stuck-portfolio",
   "metadata": {},
   "outputs": [
    {
     "name": "stderr",
     "output_type": "stream",
     "text": [
      "100%|██████████| 20/20 [00:03<00:00,  5.90it/s]\n",
      "100%|██████████| 20/20 [00:03<00:00,  5.08it/s]\n"
     ]
    }
   ],
   "source": [
    "fo, g = fg_fn_nn(vo, x, y)\n",
    "fs = []\n",
    "\n",
    "for t in tqdm(torch.logspace(-1, -3, 20)):\n",
    "    f, _ = fg_fn_nn(vo+g*t, x, y)\n",
    "    fs.append([t,f.item()])\n",
    "fs.append([0, fo.item()])\n",
    "for t in tqdm(-torch.logspace(-3, -1, 20)):\n",
    "    f, _ = fg_fn_nn(vo+g*t, x, y)\n",
    "    fs.append([t, f.item()])\n",
    "fs = np.array(fs)"
   ]
  },
  {
   "cell_type": "code",
   "execution_count": 258,
   "id": "blank-system",
   "metadata": {},
   "outputs": [
    {
     "data": {
      "text/plain": [
       "(0.1917508840560913, 3.0)"
      ]
     },
     "execution_count": 258,
     "metadata": {},
     "output_type": "execute_result"
    },
    {
     "data": {
      "image/png": "[encoded data removed]",
      "text/plain": [
       "<Figure size 432x288 with 1 Axes>"
      ]
     },
     "metadata": {
      "needs_background": "light"
     },
     "output_type": "display_data"
    }
   ],
   "source": [
    "plt.plot(*fs.T)\n",
    "plt.ylim(fs[:, 1].min(), 3)\n",
    "# plt.xscale('symlog')"
   ]
  },
  {
   "cell_type": "code",
   "execution_count": null,
   "id": "still-edgar",
   "metadata": {},
   "outputs": [],
   "source": []
  },
  {
   "cell_type": "code",
   "execution_count": null,
   "id": "everyday-updating",
   "metadata": {},
   "outputs": [],
   "source": []
  },
  {
   "cell_type": "code",
   "execution_count": null,
   "id": "interstate-honey",
   "metadata": {},
   "outputs": [],
   "source": []
  },
  {
   "cell_type": "code",
   "execution_count": null,
   "id": "private-colorado",
   "metadata": {},
   "outputs": [],
   "source": []
  },
  {
   "cell_type": "code",
   "execution_count": null,
   "id": "wicked-player",
   "metadata": {},
   "outputs": [],
   "source": []
  },
  {
   "cell_type": "code",
   "execution_count": 35,
   "id": "burning-cabinet",
   "metadata": {},
   "outputs": [],
   "source": [
    "def step_epsilon(x1, x, y, net, opt, eps=1e-2):\n",
    "    f1, g1 = fg_fn_nn(x1, x, y, net, opt)\n",
    "    \n",
    "    g1n = g1/g1.norm(dim=-1, keepdim=True)\n",
    "    x2 = x1 + eps*torch.randn_like(x1)-g1n*eps\n",
    "\n",
    "    f2, g2 = fg_fn_nn(x2, x, y, net, opt)\n",
    "    x3, s, t = intercept(x1.detach(), -g1.detach(), x2.detach(), -g2.detach())\n",
    "    return f1, x3, s, t\n",
    "\n",
    "def step_smart(x1, x, y, t=1e-5):\n",
    "    f1, g1 = fg_fn_nn(x1, x, y)\n",
    "    \n",
    "    ft, gt = fg_fn_nn(x1-t*g1, x, y)\n",
    "    if ft<f1:\n",
    "        while ft<f1:\n",
    "            t *= 2.\n",
    "            ft, gt = fg_fn_nn(x1-t*g1, x, y)\n",
    "    elif ft>f1:\n",
    "        while ft>f1:\n",
    "            t /= 2.\n",
    "            ft, gt = fg_fn_nn(x1-t*g1, x, y)\n",
    "        t*=2.\n",
    "        \n",
    "    x2 = x1-t*g1\n",
    "    x1 = x1-t/2.*g1\n",
    "    \n",
    "    f1, g1 = fg_fn_nn(x1, x, y)\n",
    "    f2, g2 = fg_fn_nn(x2, x, y)\n",
    "    x3 = intercept(x1.detach(), -g1.detach(), x2.detach(), -g2.detach())\n",
    "    return f1, x3"
   ]
  },
  {
   "cell_type": "code",
   "execution_count": 36,
   "id": "elect-bristol",
   "metadata": {},
   "outputs": [],
   "source": [
    "def fg_fn_nn(v, x, y, net, opt):\n",
    "    nn.utils.vector_to_parameters(v, net.parameters())\n",
    "    opt.zero_grad()\n",
    "    yp = net(x)\n",
    "    loss = ds.loss_fn(yp, y)\n",
    "    loss.backward()\n",
    "    \n",
    "    g = torch.cat([p.grad.flatten() for p in net.parameters()])\n",
    "    return loss, g"
   ]
  },
  {
   "cell_type": "markdown",
   "id": "dd05ea41-5979-4388-973d-c160a4f1984e",
   "metadata": {
    "tags": []
   },
   "source": [
    "## MNIST Two-Man-SGD"
   ]
  },
  {
   "cell_type": "code",
   "execution_count": 46,
   "id": "raised-sensitivity",
   "metadata": {},
   "outputs": [
    {
     "data": {
      "application/vnd.jupyter.widget-view+json": {
       "model_id": "57ccc47b4a314e6e82674ff852bb8b1c",
       "version_major": 2,
       "version_minor": 0
      },
      "text/plain": [
       "  0%|          | 0/60 [00:00<?, ?it/s]"
      ]
     },
     "metadata": {},
     "output_type": "display_data"
    },
    {
     "name": "stdout",
     "output_type": "stream",
     "text": [
      "2.306929588317871\n",
      "2.306964874267578\n",
      "2.3053083419799805\n",
      "2.303544282913208\n",
      "2.3101978302001953\n",
      "2.3076982498168945\n",
      "2.300717830657959\n",
      "2.3017077445983887\n",
      "2.2993483543395996\n",
      "2.299300193786621\n",
      "2.2970967292785645\n",
      "2.2984228134155273\n",
      "2.291470766067505\n",
      "2.290900707244873\n",
      "2.285202741622925\n",
      "2.288174629211426\n",
      "2.28349232673645\n",
      "2.2765161991119385\n",
      "2.2715277671813965\n",
      "2.2592716217041016\n",
      "2.246858596801758\n",
      "2.2235829830169678\n",
      "2.2027952671051025\n",
      "2.190974712371826\n",
      "2.1541213989257812\n",
      "2.1522862911224365\n",
      "2.0972657203674316\n",
      "2.056318998336792\n",
      "2.0238728523254395\n",
      "2.0083017349243164\n",
      "1.9914610385894775\n",
      "2.415601968765259\n",
      "1.9226861000061035\n",
      "1.8681620359420776\n",
      "2.499159097671509\n",
      "2.055171489715576\n",
      "1.719265103340149\n",
      "1.9081871509552002\n",
      "1.6170299053192139\n",
      "1.5754786729812622\n",
      "1.5073000192642212\n",
      "1.4553254842758179\n",
      "1.789981484413147\n",
      "1.783484935760498\n",
      "1.4079935550689697\n",
      "1.2934229373931885\n",
      "1.2660738229751587\n",
      "1.2724018096923828\n",
      "1.2034484148025513\n",
      "1.1821447610855103\n",
      "1.1649162769317627\n",
      "1.262789011001587\n",
      "1.2467542886734009\n",
      "1.1388719081878662\n",
      "1.06610906124115\n",
      "1.038687825202942\n",
      "1.0626194477081299\n",
      "1.0191080570220947\n",
      "1.1046595573425293\n",
      "1.0659663677215576\n"
     ]
    },
    {
     "data": {
      "application/vnd.jupyter.widget-view+json": {
       "model_id": "e3908d8fbb4446a7b1b77ab9d71da102",
       "version_major": 2,
       "version_minor": 0
      },
      "text/plain": [
       "  0%|          | 0/60 [00:00<?, ?it/s]"
      ]
     },
     "metadata": {},
     "output_type": "display_data"
    },
    {
     "name": "stdout",
     "output_type": "stream",
     "text": [
      "1.109770655632019\n",
      "1.1225059032440186\n",
      "1.3510196208953857\n",
      "1.1452555656433105\n",
      "1.0157305002212524\n",
      "0.8929414749145508\n",
      "0.9484080672264099\n",
      "0.9316982626914978\n",
      "0.9173012375831604\n",
      "0.9756705164909363\n",
      "0.8785281777381897\n",
      "0.8670010566711426\n",
      "0.9098538756370544\n",
      "0.8883764147758484\n",
      "0.805375337600708\n",
      "0.8557956218719482\n",
      "0.8381780385971069\n",
      "0.8650021553039551\n",
      "0.8204132914543152\n",
      "0.8086961507797241\n",
      "0.8180676102638245\n",
      "0.8091164827346802\n",
      "0.7898421883583069\n",
      "0.7935196161270142\n",
      "0.7653148770332336\n",
      "0.7398489117622375\n",
      "0.8067403435707092\n",
      "0.8060460090637207\n",
      "0.7870268225669861\n",
      "0.7839380502700806\n",
      "0.7485564947128296\n",
      "0.7645903825759888\n",
      "0.7032536864280701\n",
      "0.7092224955558777\n",
      "0.7628589272499084\n",
      "0.7634931802749634\n",
      "0.6867243051528931\n",
      "0.7473077774047852\n",
      "0.7593457698822021\n",
      "0.7467542886734009\n",
      "0.7512447237968445\n",
      "0.7065802216529846\n",
      "0.7075481414794922\n",
      "0.7168947458267212\n",
      "0.7172428369522095\n",
      "0.6559234261512756\n",
      "0.68013995885849\n",
      "0.6936498284339905\n",
      "0.7478117942810059\n",
      "0.68342125415802\n",
      "0.7004619240760803\n",
      "0.7020083665847778\n",
      "0.6725045442581177\n",
      "0.6628581881523132\n",
      "0.770356297492981\n",
      "0.6634984016418457\n",
      "0.6793038249015808\n",
      "0.647879421710968\n",
      "0.6676327586174011\n",
      "0.658669650554657\n"
     ]
    },
    {
     "data": {
      "application/vnd.jupyter.widget-view+json": {
       "model_id": "38bc14e8abe1467792fc68a39baeecb5",
       "version_major": 2,
       "version_minor": 0
      },
      "text/plain": [
       "  0%|          | 0/60 [00:00<?, ?it/s]"
      ]
     },
     "metadata": {},
     "output_type": "display_data"
    },
    {
     "name": "stdout",
     "output_type": "stream",
     "text": [
      "0.6949390769004822\n",
      "0.64376300573349\n",
      "0.692532479763031\n",
      "0.7023005485534668\n",
      "0.6500669717788696\n",
      "0.6323114037513733\n",
      "0.6514266729354858\n",
      "0.5972737073898315\n",
      "0.6302987933158875\n",
      "0.6599792838096619\n",
      "0.6344685554504395\n",
      "0.5766602754592896\n",
      "0.602486789226532\n",
      "0.6293267011642456\n",
      "0.6244304776191711\n",
      "0.6173035502433777\n",
      "0.6409844756126404\n",
      "0.6123144030570984\n",
      "0.6093479990959167\n",
      "0.6921865940093994\n",
      "0.593181848526001\n",
      "0.5917486548423767\n",
      "0.5755681395530701\n",
      "0.6551984548568726\n",
      "0.5880812406539917\n",
      "0.5934187173843384\n",
      "0.611301600933075\n",
      "0.5442017316818237\n",
      "0.5900558233261108\n",
      "0.5954070091247559\n",
      "0.6130818128585815\n",
      "0.5444084405899048\n",
      "0.5258212089538574\n",
      "0.5499690771102905\n",
      "0.6555588841438293\n",
      "0.6438045501708984\n",
      "0.6096259951591492\n",
      "0.6452467441558838\n",
      "0.6341838836669922\n",
      "0.5994623303413391\n",
      "0.6452757716178894\n",
      "0.561469554901123\n",
      "0.613176167011261\n",
      "0.5124101042747498\n",
      "0.5561509132385254\n",
      "0.5297505855560303\n",
      "0.5316535830497742\n",
      "0.5218999981880188\n",
      "0.6255045533180237\n",
      "0.5438767671585083\n",
      "0.5441992878913879\n",
      "0.543181836605072\n",
      "0.544776439666748\n",
      "0.56035977602005\n",
      "0.5685666799545288\n",
      "0.5680222511291504\n",
      "0.5977887511253357\n",
      "0.5262468457221985\n",
      "0.5241589546203613\n",
      "0.5129457116127014\n"
     ]
    },
    {
     "data": {
      "application/vnd.jupyter.widget-view+json": {
       "model_id": "dc5bd4dc45d54a699e2b6345af05d98e",
       "version_major": 2,
       "version_minor": 0
      },
      "text/plain": [
       "  0%|          | 0/60 [00:00<?, ?it/s]"
      ]
     },
     "metadata": {},
     "output_type": "display_data"
    },
    {
     "name": "stdout",
     "output_type": "stream",
     "text": [
      "0.5456307530403137\n",
      "0.5884461998939514\n",
      "0.5710768699645996\n",
      "0.5728367567062378\n",
      "0.5632874965667725\n",
      "0.526580810546875\n",
      "0.544688880443573\n",
      "0.6021703481674194\n",
      "0.49344050884246826\n",
      "0.5324307680130005\n",
      "0.7321754693984985\n",
      "1.3229507207870483\n",
      "0.9181615114212036\n",
      "0.5564401149749756\n",
      "0.5215097665786743\n",
      "0.6075213551521301\n",
      "0.49508997797966003\n",
      "0.5421886444091797\n",
      "0.5678573846817017\n",
      "0.5177780389785767\n",
      "0.4707910120487213\n",
      "0.52837735414505\n",
      "0.4778763949871063\n",
      "0.5118964910507202\n",
      "0.600389301776886\n",
      "0.43857890367507935\n",
      "0.4906174838542938\n",
      "0.5065204501152039\n",
      "0.5574837327003479\n",
      "0.5380591154098511\n",
      "0.48144668340682983\n",
      "0.5216864347457886\n",
      "0.4969635605812073\n",
      "0.5158365964889526\n",
      "0.7070197463035583\n",
      "0.5563390851020813\n",
      "0.5040324330329895\n",
      "0.49019238352775574\n",
      "0.4662533700466156\n",
      "0.48457467555999756\n",
      "0.4719911217689514\n",
      "0.5071185827255249\n",
      "0.49389830231666565\n",
      "0.49162739515304565\n",
      "0.470561146736145\n",
      "0.5085861682891846\n",
      "0.4435220956802368\n",
      "0.47050461173057556\n",
      "0.49304068088531494\n",
      "0.4956128001213074\n",
      "0.44916096329689026\n",
      "0.41333839297294617\n",
      "0.4602341055870056\n",
      "0.4826551675796509\n",
      "0.49710047245025635\n",
      "0.4620995819568634\n",
      "0.43147650361061096\n",
      "0.46532514691352844\n",
      "0.501089334487915\n",
      "0.4665868580341339\n"
     ]
    },
    {
     "data": {
      "application/vnd.jupyter.widget-view+json": {
       "model_id": "bfb1128a8ebd434abddff57685e4013e",
       "version_major": 2,
       "version_minor": 0
      },
      "text/plain": [
       "  0%|          | 0/60 [00:00<?, ?it/s]"
      ]
     },
     "metadata": {},
     "output_type": "display_data"
    },
    {
     "name": "stdout",
     "output_type": "stream",
     "text": [
      "0.435485303401947\n",
      "0.4319537878036499\n",
      "0.44779664278030396\n",
      "0.460136353969574\n",
      "0.4685606360435486\n",
      "0.42206111550331116\n",
      "0.4798240661621094\n",
      "0.4505029022693634\n",
      "0.48899370431900024\n",
      "0.46558284759521484\n",
      "0.48484885692596436\n",
      "0.5008060336112976\n",
      "0.4348950982093811\n",
      "0.5048145055770874\n",
      "0.4464972913265228\n",
      "0.4646649956703186\n",
      "0.40381017327308655\n",
      "0.4941958785057068\n",
      "0.4130300283432007\n",
      "0.4490847885608673\n",
      "0.4040890634059906\n",
      "0.433431476354599\n",
      "0.49216586351394653\n",
      "0.38844555616378784\n",
      "0.4257233738899231\n",
      "0.4430074691772461\n",
      "0.4141944944858551\n",
      "0.4180922210216522\n",
      "0.42122551798820496\n",
      "0.49217087030410767\n",
      "0.3972243666648865\n",
      "0.4219486713409424\n",
      "0.38755783438682556\n",
      "0.4204046428203583\n",
      "0.4165908992290497\n",
      "0.42466822266578674\n",
      "0.446860671043396\n",
      "0.6395357847213745\n",
      "0.4384355843067169\n",
      "0.4888404607772827\n",
      "0.44645828008651733\n",
      "0.6053901314735413\n",
      "0.5161269307136536\n",
      "0.5190061330795288\n",
      "0.43171849846839905\n",
      "0.4559069871902466\n",
      "0.4395397901535034\n",
      "0.41787707805633545\n",
      "0.4072854816913605\n",
      "0.42604753375053406\n",
      "0.42369258403778076\n",
      "0.4475698173046112\n",
      "0.4275558292865753\n",
      "0.4176881015300751\n",
      "0.4069637358188629\n",
      "0.4032547175884247\n",
      "0.404429167509079\n",
      "0.41972100734710693\n",
      "0.46102455258369446\n",
      "0.48977425694465637\n"
     ]
    }
   ],
   "source": [
    "net = mnist.Network()\n",
    "opt = torch.optim.Adam(net.parameters(), lr=1e-2)\n",
    "v = nn.utils.parameters_to_vector(net.parameters()).detach().requires_grad_()\n",
    "\n",
    "meter_acc = metrics.AverageMeter(keep_verbose_stats=True)\n",
    "meter_loss = metrics.AverageMeter(keep_verbose_stats=True)\n",
    "\n",
    "eps = 1e-3\n",
    "\n",
    "for epoch_idx in range(5):\n",
    "    for x, y in tqdm(ds.dl_train):\n",
    "        f1, v2, s, t = step_epsilon(v, x, y, net, opt, eps)\n",
    "        if s>0 and t>0:\n",
    "            v = v2\n",
    "        # f1, v = step_smart(v, x, y)\n",
    "        # print('mean abs weight ', x1.abs().mean().item())\n",
    "        \n",
    "        yp = net(x)\n",
    "        loss = ds.loss_fn(yp, y)\n",
    "        acc = (yp.argmax(dim=-1)==y).sum().item()/len(x)\n",
    "        print(loss.item())\n",
    "\n",
    "        meter_acc.update(acc, len(x))\n",
    "        meter_loss.update(loss.item(), len(x))\n",
    "    \n",
    "data['2mansgd_meter_loss'] = meter_loss\n",
    "data['2mansgd_meter_acc'] = meter_acc"
   ]
  },
  {
   "cell_type": "code",
   "execution_count": null,
   "id": "223ef22e-0c02-41b6-aaa2-fe8878fb46d5",
   "metadata": {},
   "outputs": [],
   "source": []
  },
  {
   "cell_type": "code",
   "execution_count": null,
   "id": "e989ad48-98d0-4fce-9115-c9e5524c2ecc",
   "metadata": {},
   "outputs": [],
   "source": []
  },
  {
   "cell_type": "code",
   "execution_count": 58,
   "id": "407ed8d2-0844-4efc-88bd-57ac8d6256fe",
   "metadata": {},
   "outputs": [
    {
     "data": {
      "text/plain": [
       "<matplotlib.legend.Legend at 0x7fe1f32c4430>"
      ]
     },
     "execution_count": 58,
     "metadata": {},
     "output_type": "execute_result"
    },
    {
     "data": {
      "image/png": "[encoded data removed]",
      "text/plain": [
       "<Figure size 432x288 with 1 Axes>"
      ]
     },
     "metadata": {
      "needs_background": "light"
     },
     "output_type": "display_data"
    }
   ],
   "source": [
    "plt.plot(np.array(data['sgdm_meter_loss'].data)[:, 0], label='SGD+momentum')\n",
    "plt.plot(np.array(data['adam_meter_loss'].data)[:, 0], label='Adam')\n",
    "plt.plot(np.arange(300)*2, np.array(data['2mansgd_meter_loss'].data)[:, 0], label='2-man (scaled)')\n",
    "plt.title('MNIST Performance'); plt.ylabel('Loss'); plt.xlabel('Batches')\n",
    "plt.legend()"
   ]
  },
  {
   "cell_type": "code",
   "execution_count": null,
   "id": "metallic-gibraltar",
   "metadata": {},
   "outputs": [],
   "source": []
  },
  {
   "cell_type": "code",
   "execution_count": null,
   "id": "worldwide-membrane",
   "metadata": {},
   "outputs": [],
   "source": []
  },
  {
   "cell_type": "code",
   "execution_count": null,
   "id": "ddbb7180-cd4d-4672-adc7-5f448634d2d8",
   "metadata": {},
   "outputs": [],
   "source": [
    "# TODO: sample noise not randomly, but towards negative grad\n",
    "\n",
    "# TODO: ignore intersection if line s or t values are negative\n",
    "# (this means go away from the negative grad)"
   ]
  },
  {
   "cell_type": "code",
   "execution_count": null,
   "id": "choice-education",
   "metadata": {},
   "outputs": [],
   "source": []
  },
  {
   "cell_type": "code",
   "execution_count": null,
   "id": "assured-yemen",
   "metadata": {},
   "outputs": [],
   "source": []
  }
 ],
 "metadata": {
  "kernelspec": {
   "display_name": "Python 3 (ipykernel)",
   "language": "python",
   "name": "python3"
  },
  "language_info": {
   "codemirror_mode": {
    "name": "ipython",
    "version": 3
   },
   "file_extension": ".py",
   "mimetype": "text/x-python",
   "name": "python",
   "nbconvert_exporter": "python",
   "pygments_lexer": "ipython3",
   "version": "3.9.5"
  }
 },
 "nbformat": 4,
 "nbformat_minor": 5
}
