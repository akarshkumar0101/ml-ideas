{
 "cells": [
  {
   "cell_type": "code",
   "execution_count": 1,
   "id": "ac05962d-65aa-427a-9d2c-193550e7a93b",
   "metadata": {},
   "outputs": [],
   "source": [
    "%load_ext autoreload\n",
    "%autoreload 2"
   ]
  },
  {
   "cell_type": "code",
   "execution_count": 2,
   "id": "6484a61d-7403-4695-ba19-67795cfe8458",
   "metadata": {},
   "outputs": [],
   "source": [
    "%run imports.py"
   ]
  },
  {
   "cell_type": "code",
   "execution_count": 3,
   "id": "faaf3452-05a0-43ed-a063-2e3c625f75fb",
   "metadata": {},
   "outputs": [
    {
     "name": "stdout",
     "output_type": "stream",
     "text": [
      "Files already downloaded and verified\n",
      "Files already downloaded and verified\n"
     ]
    }
   ],
   "source": [
    "ds = cifar10.CIFAR10()\n",
    "net = cifar10.Network()"
   ]
  },
  {
   "cell_type": "code",
   "execution_count": 5,
   "id": "0aca950d-3ce1-4d89-bb50-53ab041908b1",
   "metadata": {},
   "outputs": [],
   "source": [
    "# ds.calc_performance(net, tqdm=tqdm)"
   ]
  },
  {
   "cell_type": "code",
   "execution_count": 6,
   "id": "deluxe-cloud",
   "metadata": {},
   "outputs": [],
   "source": [
    "# import mnist\n",
    "\n",
    "import torch\n",
    "from torch import nn\n",
    "import numpy as np\n",
    "import util\n",
    "\n",
    "import matplotlib.pyplot as plt\n",
    "\n",
    "from tqdm.notebook import tqdm"
   ]
  },
  {
   "cell_type": "code",
   "execution_count": 7,
   "id": "permanent-moore",
   "metadata": {},
   "outputs": [],
   "source": [
    "from mnist import MNIST"
   ]
  },
  {
   "cell_type": "code",
   "execution_count": 8,
   "id": "controlled-solution",
   "metadata": {},
   "outputs": [],
   "source": [
    "def intercept(v1, g1, v2, g2):\n",
    "    '''\n",
    "    from: https://math.stackexchange.com/questions/1036959/midpoint-of-the-shortest-distance-between-2-rays-in-3d\n",
    "    '''\n",
    "    def dot(a, b):\n",
    "        return (a*b).sum(dim=-1)\n",
    "    \n",
    "    a, b, c, d = v1, g1, v2, g2\n",
    "    \n",
    "    bd = dot(b, d)\n",
    "    ad = dot(a, d)\n",
    "    bc = dot(b, c)\n",
    "    cd = dot(c, d) \n",
    "    ab = dot(a, b)\n",
    "    \n",
    "    s = (bd*(ad-bc)-ad*cd)/(bd**2.-1.)\n",
    "    t = (bd*(cd-ad)-bc*ab)/(bd**2.-1.)\n",
    "    \n",
    "    return (a+c+b*t[:, None]+d*s[:, None])/2.\n",
    "\n",
    "def intercept(v1, g1, v2, g2):\n",
    "    '''\n",
    "    from: https://math.stackexchange.com/questions/3242011/finding-the-closest-two-points-on-two-lines-in-n-dimensions\n",
    "    '''\n",
    "    \n",
    "    bs = v1.shape[:-1]\n",
    "    def dot(a, b):\n",
    "        return (a*b).sum(dim=-1)\n",
    "    \n",
    "    g1 = g1/g1.norm(dim=-1, keepdim=True)\n",
    "    g2 = g2/g2.norm(dim=-1, keepdim=True)\n",
    "    \n",
    "    a, b, c, d = v1, g1, v2, g2\n",
    "    \n",
    "    # Ax = B\n",
    "    A = torch.zeros(*bs, 2, 2)\n",
    "    B = torch.zeros(*bs, 2)\n",
    "    A[..., 0, 0] = b.norm(dim=-1)**2.\n",
    "    A[..., 0, 1] = -dot(b, d)\n",
    "    A[..., 1, 0] = -dot(b, d)\n",
    "    A[..., 1, 1] = d.norm(dim=-1)**2.\n",
    "    \n",
    "    \n",
    "    B[..., 0] = -dot(a-c, b)\n",
    "    B[..., 1] = dot(a-c, d)\n",
    "    \n",
    "#     print(A)\n",
    "#     print(torch.matrix_rank(A))\n",
    "#     print(A.det())\n",
    "#     print(A.inverse())\n",
    "    \n",
    "    st = (A.inverse()@B[..., None])[..., 0]\n",
    "    s, t = st[..., 0], st[..., 1]\n",
    "    \n",
    "    # TODO clip s, t to 0 as lower limit\n",
    "    \n",
    "#     if s<0 or t<0:\n",
    "#         print('st ', s,t)\n",
    "    \n",
    "    return (a+c+b*s[..., None]+d*t[..., None])/2., s, t"
   ]
  },
  {
   "cell_type": "code",
   "execution_count": 9,
   "id": "infrared-mission",
   "metadata": {},
   "outputs": [],
   "source": [
    "from functions import *"
   ]
  },
  {
   "cell_type": "code",
   "execution_count": 10,
   "id": "loving-inventory",
   "metadata": {},
   "outputs": [],
   "source": [
    "def fn_quad(x):\n",
    "    return x.norm(dim=-1)**2\n",
    "\n",
    "def fg_fn(x, fn):\n",
    "    x = x.detach().requires_grad_()\n",
    "    loss = fn(x)\n",
    "    loss.backward()\n",
    "    return loss, x.grad\n",
    "\n",
    "fn = rosenbrock"
   ]
  },
  {
   "cell_type": "code",
   "execution_count": 11,
   "id": "designed-intermediate",
   "metadata": {},
   "outputs": [],
   "source": [
    "def calc_sgd_trajectory(x, steps, lr=1e-1):\n",
    "    traj = [] # trajectory\n",
    "    traj_grad = []\n",
    "\n",
    "    x.requires_grad_()\n",
    "\n",
    "    opt = torch.optim.SGD([x], lr=lr)\n",
    "    for _ in range(steps):\n",
    "        loss = fn(x)\n",
    "\n",
    "        opt.zero_grad()\n",
    "        loss.backward()\n",
    "        traj.append(x.detach().clone())\n",
    "        traj_grad.append(x.grad.detach().clone())\n",
    "        opt.step()\n",
    "\n",
    "    traj = torch.stack(traj)\n",
    "    traj_grad = torch.stack(traj_grad)\n",
    "    return traj, traj_grad\n",
    "\n",
    "def calc_eps_intercept_trajectory(x, steps, eps=1e-1):\n",
    "    traj = [] # trajectory\n",
    "    traj_grad = []\n",
    "\n",
    "    x1 = x\n",
    "    \n",
    "    for _ in range(steps):\n",
    "        \n",
    "        x2 = x1 + eps*torch.randn_like(x1)\n",
    "        f1, g1 = fg_fn(x1, fn)\n",
    "        f2, g2 = fg_fn(x2, fn)\n",
    "        x3, _, _ = intercept(x1.detach(), -g1.detach(), x2.detach(), -g2.detach())\n",
    "        \n",
    "        traj.append(torch.stack([x1, x2]).detach().clone())\n",
    "        traj_grad.append(torch.stack([g1, g2]).detach().clone())\n",
    "        \n",
    "        x1 = x3\n",
    "\n",
    "    traj = torch.stack(traj)\n",
    "    traj_grad = torch.stack(traj_grad)\n",
    "    return traj, traj_grad"
   ]
  },
  {
   "cell_type": "code",
   "execution_count": 12,
   "id": "raising-government",
   "metadata": {},
   "outputs": [],
   "source": [
    "def plot_contour(fn, xmin, ymin, xmax, ymax):\n",
    "    \n",
    "    x1 = torch.linspace(xmin, xmax, 100)\n",
    "    x2 = torch.linspace(ymin, ymax, 100)\n",
    "    x1, x2 = torch.meshgrid(x1, x2)\n",
    "    x = torch.stack([x1, x2], dim=-1)\n",
    "    z = fn(x)\n",
    "\n",
    "    plt.contourf(x1, x2, z, levels=100)\n",
    "    plt.colorbar()\n",
    "\n",
    "def plot_sgd_traj(traj, traj_grad, s=10, glen=.01):\n",
    "    plt.scatter(*traj.T.numpy(), c='g', s=s)\n",
    "\n",
    "    for v, g in zip(traj, traj_grad):\n",
    "        a = torch.stack([v, v-glen*g])\n",
    "        plt.plot(*a.numpy().T, c='r')\n",
    "        \n",
    "def plot_eps_intercept_traj(traj, traj_grad, s=10, glen=.01):\n",
    "    plt.scatter(*traj[:, 0].T.numpy(), c='g', s=s)\n",
    "    plt.scatter(*traj[:, 1].T.numpy(), c='b', s=s)\n",
    "\n",
    "    for vs, gs in zip(traj, traj_grad):\n",
    "        for v, g in zip(vs, gs):\n",
    "            a = torch.stack([v, v-glen*g])\n",
    "            plt.plot(*a.numpy().T, c='r')"
   ]
  },
  {
   "cell_type": "code",
   "execution_count": null,
   "id": "c8bd72fe-b1d6-46bd-ace9-eb2a2e61e8e9",
   "metadata": {},
   "outputs": [],
   "source": []
  },
  {
   "cell_type": "code",
   "execution_count": null,
   "id": "d8c60dea-5624-4a3e-b643-f11ac73f8588",
   "metadata": {},
   "outputs": [],
   "source": []
  },
  {
   "cell_type": "code",
   "execution_count": null,
   "id": "200f79e0-b268-425b-9c84-a0b2ed5dcfac",
   "metadata": {},
   "outputs": [],
   "source": []
  },
  {
   "cell_type": "code",
   "execution_count": 28,
   "id": "similar-netherlands",
   "metadata": {},
   "outputs": [
    {
     "data": {
      "image/png": "[encoded data removed]",
      "text/plain": [
       "<Figure size 432x288 with 2 Axes>"
      ]
     },
     "metadata": {
      "needs_background": "light"
     },
     "output_type": "display_data"
    }
   ],
   "source": [
    "\n",
    "a = 7\n",
    "\n",
    "x = torch.tensor([5., 5.])\n",
    "\n",
    "# plot_contour(fn, -a, -a, a, a)\n",
    "# traj, traj_grad = calc_sgd_trajectory(x, 10, lr=1e-6)\n",
    "# plot_sgd_traj(traj, traj_grad, s=10, glen=1e-5)\n",
    "# plt.show()\n",
    "\n",
    "plot_contour(fn, -a, -a, a, a)\n",
    "traj, traj_grad = calc_eps_intercept_trajectory(x, 2, eps=1e-1)\n",
    "plot_eps_intercept_traj(traj, traj_grad, s=10, glen=1e-4)\n",
    "plt.xlim(-a, a); plt.ylim(-a, a)\n",
    "plt.show()"
   ]
  },
  {
   "cell_type": "code",
   "execution_count": null,
   "id": "southern-asthma",
   "metadata": {},
   "outputs": [],
   "source": []
  },
  {
   "cell_type": "code",
   "execution_count": null,
   "id": "assured-framework",
   "metadata": {},
   "outputs": [],
   "source": []
  },
  {
   "cell_type": "code",
   "execution_count": null,
   "id": "exclusive-generation",
   "metadata": {},
   "outputs": [],
   "source": []
  },
  {
   "cell_type": "code",
   "execution_count": null,
   "id": "normal-letter",
   "metadata": {},
   "outputs": [],
   "source": []
  },
  {
   "cell_type": "code",
   "execution_count": null,
   "id": "emotional-toolbox",
   "metadata": {},
   "outputs": [],
   "source": []
  },
  {
   "cell_type": "code",
   "execution_count": 15,
   "id": "genuine-chance",
   "metadata": {},
   "outputs": [],
   "source": [
    "torch.manual_seed(1)\n",
    "v1 = torch.randn(16, 2)\n",
    "g1 = torch.randn(16, 2)\n",
    "v2 = torch.randn(16, 2)\n",
    "g2 = torch.randn(16, 2)\n",
    "\n",
    "# v1 = torch.tensor([[0, 0.]])\n",
    "# g1 = torch.tensor([[1, 0.]])\n",
    "# v2 = torch.tensor([[0, -2.]])\n",
    "# g2 = torch.tensor([[1, 2.]])/10.\n"
   ]
  },
  {
   "cell_type": "code",
   "execution_count": 16,
   "id": "hybrid-ghana",
   "metadata": {},
   "outputs": [],
   "source": [
    "it = intercept(v1, g1, v2, g2)"
   ]
  },
  {
   "cell_type": "code",
   "execution_count": 17,
   "id": "sorted-dimension",
   "metadata": {
    "tags": []
   },
   "outputs": [
    {
     "ename": "TypeError",
     "evalue": "scatter() got multiple values for argument 'marker'",
     "output_type": "error",
     "traceback": [
      "\u001b[0;31m---------------------------------------------------------------------------\u001b[0m",
      "\u001b[0;31mTypeError\u001b[0m                                 Traceback (most recent call last)",
      "\u001b[0;32m<ipython-input-17-452eef4be97b>\u001b[0m in \u001b[0;36m<module>\u001b[0;34m\u001b[0m\n\u001b[1;32m      6\u001b[0m     \u001b[0mplt\u001b[0m\u001b[0;34m.\u001b[0m\u001b[0mplot\u001b[0m\u001b[0;34m(\u001b[0m\u001b[0;34m*\u001b[0m\u001b[0mtorch\u001b[0m\u001b[0;34m.\u001b[0m\u001b[0mstack\u001b[0m\u001b[0;34m(\u001b[0m\u001b[0;34m[\u001b[0m\u001b[0mv1\u001b[0m\u001b[0;34m[\u001b[0m\u001b[0mi\u001b[0m\u001b[0;34m]\u001b[0m\u001b[0;34m,\u001b[0m \u001b[0mv1\u001b[0m\u001b[0;34m[\u001b[0m\u001b[0mi\u001b[0m\u001b[0;34m]\u001b[0m\u001b[0;34m+\u001b[0m\u001b[0mg1\u001b[0m\u001b[0;34m[\u001b[0m\u001b[0mi\u001b[0m\u001b[0;34m]\u001b[0m\u001b[0;34m]\u001b[0m\u001b[0;34m)\u001b[0m\u001b[0;34m.\u001b[0m\u001b[0mT\u001b[0m\u001b[0;34m)\u001b[0m\u001b[0;34m\u001b[0m\u001b[0;34m\u001b[0m\u001b[0m\n\u001b[1;32m      7\u001b[0m     \u001b[0mplt\u001b[0m\u001b[0;34m.\u001b[0m\u001b[0mplot\u001b[0m\u001b[0;34m(\u001b[0m\u001b[0;34m*\u001b[0m\u001b[0mtorch\u001b[0m\u001b[0;34m.\u001b[0m\u001b[0mstack\u001b[0m\u001b[0;34m(\u001b[0m\u001b[0;34m[\u001b[0m\u001b[0mv2\u001b[0m\u001b[0;34m[\u001b[0m\u001b[0mi\u001b[0m\u001b[0;34m]\u001b[0m\u001b[0;34m,\u001b[0m \u001b[0mv2\u001b[0m\u001b[0;34m[\u001b[0m\u001b[0mi\u001b[0m\u001b[0;34m]\u001b[0m\u001b[0;34m+\u001b[0m\u001b[0mg2\u001b[0m\u001b[0;34m[\u001b[0m\u001b[0mi\u001b[0m\u001b[0;34m]\u001b[0m\u001b[0;34m]\u001b[0m\u001b[0;34m)\u001b[0m\u001b[0;34m.\u001b[0m\u001b[0mT\u001b[0m\u001b[0;34m)\u001b[0m\u001b[0;34m\u001b[0m\u001b[0;34m\u001b[0m\u001b[0m\n\u001b[0;32m----> 8\u001b[0;31m     \u001b[0mplt\u001b[0m\u001b[0;34m.\u001b[0m\u001b[0mscatter\u001b[0m\u001b[0;34m(\u001b[0m\u001b[0;34m*\u001b[0m\u001b[0mit\u001b[0m\u001b[0;34m[\u001b[0m\u001b[0mi\u001b[0m\u001b[0;34m]\u001b[0m\u001b[0;34m,\u001b[0m \u001b[0mmarker\u001b[0m\u001b[0;34m=\u001b[0m\u001b[0;34m'x'\u001b[0m\u001b[0;34m,\u001b[0m \u001b[0mc\u001b[0m\u001b[0;34m=\u001b[0m\u001b[0;34m'r'\u001b[0m\u001b[0;34m,\u001b[0m \u001b[0ms\u001b[0m\u001b[0;34m=\u001b[0m\u001b[0;36m100\u001b[0m\u001b[0;34m)\u001b[0m\u001b[0;34m\u001b[0m\u001b[0;34m\u001b[0m\u001b[0m\n\u001b[0m\u001b[1;32m      9\u001b[0m     \u001b[0;31m# plt.scatter(*it1[i], marker='x', c='g', s=100)\u001b[0m\u001b[0;34m\u001b[0m\u001b[0;34m\u001b[0m\u001b[0;34m\u001b[0m\u001b[0m\n\u001b[1;32m     10\u001b[0m \u001b[0;34m\u001b[0m\u001b[0m\n",
      "\u001b[0;31mTypeError\u001b[0m: scatter() got multiple values for argument 'marker'"
     ]
    },
    {
     "data": {
      "image/png": "[encoded data removed]",
      "text/plain": [
       "<Figure size 360x360 with 1 Axes>"
      ]
     },
     "metadata": {
      "needs_background": "light"
     },
     "output_type": "display_data"
    }
   ],
   "source": [
    "\n",
    "for i in range(len(v1)):\n",
    "    plt.figure(figsize=(5, 5))\n",
    "#     plt.quiver(*v1[i], *g1[i], scale=5)\n",
    "#     plt.quiver(*v2[i], *g2[i], scale=5)\n",
    "    \n",
    "    plt.plot(*torch.stack([v1[i], v1[i]+g1[i]]).T)\n",
    "    plt.plot(*torch.stack([v2[i], v2[i]+g2[i]]).T)\n",
    "    plt.scatter(*it[i], marker='x', c='r', s=100)\n",
    "    # plt.scatter(*it1[i], marker='x', c='g', s=100)\n",
    "\n",
    "    plt.xlim(-4, 4); plt.ylim(-4, 4)\n",
    "    plt.show()"
   ]
  },
  {
   "cell_type": "code",
   "execution_count": 4,
   "id": "actual-knowing",
   "metadata": {},
   "outputs": [],
   "source": []
  },
  {
   "cell_type": "code",
   "execution_count": 13,
   "id": "amazing-relations",
   "metadata": {},
   "outputs": [],
   "source": [
    "def step_intercept_epsilon(x1, fn, eps=1e-2):\n",
    "    x2 = x1 + eps*torch.randn_like(x1)\n",
    "    f1, g1 = fg_fn(x1, fn)\n",
    "    f2, g2 = fg_fn(x2, fn)\n",
    "    x3 = intercept(x1.detach(), -g1.detach(), x2.detach(), -g2.detach())\n",
    "    return x3\n",
    "\n",
    "def step(x):\n",
    "    fx = func(x)\n",
    "    gx = grad(x)\n",
    "    \n",
    "    t = 1e-5\n",
    "    while func(x-t*gx)<fx:\n",
    "        t *= 2\n",
    "    v1 = x-t/2.*gx\n",
    "    v2 = x-t*gx\n",
    "    v2 = v2+torch.randn_like(v2)*.1\n",
    "    \n",
    "    g1 = grad(v1)\n",
    "    g2 = grad(v2)\n",
    "    \n",
    "    v3 = intercept(v1, -g1, v2, -g2)\n",
    "    \n",
    "    # plt.plot(*torch.stack([v1, (v1-g1/10.)]).T)\n",
    "    # plt.plot(*torch.stack([v2, (v2-g2/10.)]).T)\n",
    "\n",
    "    # plt.scatter(*v3, marker='x', c='r', s=100)\n",
    "        "
   ]
  },
  {
   "cell_type": "code",
   "execution_count": 6,
   "id": "needed-judge",
   "metadata": {},
   "outputs": [],
   "source": [
    "x1 = (torch.randn(100)*100).requires_grad_()\n",
    "x2 = (torch.randn(2)*100).requires_grad_()\n",
    "\n",
    "# f1, g1 = fg_quad(x1)\n",
    "# f2, g2 = fg_quad(x2)"
   ]
  },
  {
   "cell_type": "code",
   "execution_count": 7,
   "id": "historic-metadata",
   "metadata": {},
   "outputs": [],
   "source": [
    "x1 = (torch.randn(100)).requires_grad_()\n",
    "x3 = step_intercept_epsilon(x1, fn_quad, eps=1e-2)"
   ]
  },
  {
   "cell_type": "code",
   "execution_count": null,
   "id": "widespread-berkeley",
   "metadata": {},
   "outputs": [],
   "source": []
  },
  {
   "cell_type": "code",
   "execution_count": null,
   "id": "demanding-influence",
   "metadata": {},
   "outputs": [],
   "source": []
  },
  {
   "cell_type": "code",
   "execution_count": null,
   "id": "wooden-premium",
   "metadata": {},
   "outputs": [],
   "source": []
  },
  {
   "cell_type": "code",
   "execution_count": null,
   "id": "catholic-voluntary",
   "metadata": {},
   "outputs": [],
   "source": []
  },
  {
   "cell_type": "code",
   "execution_count": null,
   "id": "dirty-slovenia",
   "metadata": {},
   "outputs": [],
   "source": []
  },
  {
   "cell_type": "code",
   "execution_count": null,
   "id": "acting-memorial",
   "metadata": {},
   "outputs": [],
   "source": []
  },
  {
   "cell_type": "code",
   "execution_count": null,
   "id": "developed-times",
   "metadata": {},
   "outputs": [],
   "source": []
  },
  {
   "cell_type": "code",
   "execution_count": 14,
   "id": "numeric-solid",
   "metadata": {},
   "outputs": [],
   "source": [
    "# TODO the more parralel the two grad directions, the less you trust my intersection estimate\n",
    "# use convex combination of (intersection estimate) and (mean of the two base points)"
   ]
  },
  {
   "cell_type": "code",
   "execution_count": 280,
   "id": "welcome-hunter",
   "metadata": {},
   "outputs": [],
   "source": [
    "class Network(nn.Module):\n",
    "    def __init__(self):\n",
    "        super().__init__()\n",
    "        self.seq = nn.Sequential(\n",
    "            nn.Conv2d(1, 8, 3, padding=1),\n",
    "            nn.MaxPool2d(2),\n",
    "            nn.ReLU(),\n",
    "            nn.Conv2d(8, 8, 3, padding=1),\n",
    "            nn.MaxPool2d(2),\n",
    "            nn.ReLU(),\n",
    "            nn.Conv2d(8, 8, 3, padding=1),\n",
    "            nn.ReLU(),\n",
    "            nn.Conv2d(8, 8, 3, padding=1),\n",
    "            nn.MaxPool2d(3),\n",
    "        )\n",
    "        self.classification = nn.Sequential(\n",
    "            nn.Linear(32, 10),\n",
    "            nn.LogSoftmax(dim=-1),\n",
    "        )\n",
    "    def forward(self, x):\n",
    "        x = self.seq(x)\n",
    "        x = x.reshape(len(x), -1)\n",
    "        x = self.classification(x)\n",
    "        return x"
   ]
  },
  {
   "cell_type": "code",
   "execution_count": 141,
   "id": "dried-judges",
   "metadata": {},
   "outputs": [
    {
     "name": "stdout",
     "output_type": "stream",
     "text": [
      "Files already downloaded and verified\n",
      "Files already downloaded and verified\n"
     ]
    }
   ],
   "source": [
    "ds = mnist.MNIST()\n",
    "dataset = mnist\n",
    "\n",
    "ds = cifar10.CIFAR10()\n",
    "dataset = cifar10"
   ]
  },
  {
   "cell_type": "code",
   "execution_count": 19,
   "id": "systematic-copyright",
   "metadata": {},
   "outputs": [
    {
     "name": "stdout",
     "output_type": "stream",
     "text": [
      "2306\n"
     ]
    }
   ],
   "source": [
    "net = dataset.Network()\n",
    "opt = torch.optim.Adam(net.parameters(), lr=1e-2)\n",
    "print(np.sum([p.numel() for p in net.parameters()]))\n",
    "\n",
    "# net(torch.randn(1,1,28,28))\n",
    "\n",
    "v = nn.utils.parameters_to_vector(net.parameters()).detach().requires_grad_()"
   ]
  },
  {
   "cell_type": "code",
   "execution_count": null,
   "id": "97496ef5-1772-49e2-b183-2a6511fea1d8",
   "metadata": {},
   "outputs": [],
   "source": []
  },
  {
   "cell_type": "code",
   "execution_count": null,
   "id": "7cbed976-d680-453b-ac8d-f6b3b888596e",
   "metadata": {},
   "outputs": [],
   "source": []
  },
  {
   "cell_type": "code",
   "execution_count": null,
   "id": "cce1937e-18b8-4193-8bb4-bdb47fa2b66b",
   "metadata": {},
   "outputs": [],
   "source": []
  },
  {
   "cell_type": "code",
   "execution_count": null,
   "id": "d3e7a6fc-9043-41c1-9685-97f87ffd5a57",
   "metadata": {},
   "outputs": [],
   "source": []
  },
  {
   "cell_type": "code",
   "execution_count": 29,
   "id": "4121646b-c3b2-45a0-b7e0-0dcf9519e20c",
   "metadata": {},
   "outputs": [],
   "source": [
    "data = {}"
   ]
  },
  {
   "cell_type": "markdown",
   "id": "917e1003-5615-4c14-9506-76f305113160",
   "metadata": {
    "tags": []
   },
   "source": [
    "## MNIST Adam"
   ]
  },
  {
   "cell_type": "code",
   "execution_count": 93,
   "id": "8cae0672-7079-40c7-a5d9-0cb15b054e0b",
   "metadata": {
    "tags": []
   },
   "outputs": [
    {
     "data": {
      "application/vnd.jupyter.widget-view+json": {
       "model_id": "a6813e18743842008a8c40ee95df1dfd",
       "version_major": 2,
       "version_minor": 0
      },
      "text/plain": [
       "  0%|          | 0/50 [00:00<?, ?it/s]"
      ]
     },
     "metadata": {},
     "output_type": "display_data"
    }
   ],
   "source": [
    "net = dataset.Network()\n",
    "opt = torch.optim.Adam(net.parameters(), lr=1e-2)\n",
    "\n",
    "accu = util.Accumulator()\n",
    "\n",
    "for epoch_idx in range(1):\n",
    "    for x, y in tqdm(ds.dl_train):\n",
    "        yp = net(x)\n",
    "        loss = ds.loss_fn(yp, y)\n",
    "        acc = (yp.argmax(dim=-1)==y).sum().item()/len(x)\n",
    "\n",
    "        opt.zero_grad()\n",
    "        loss.backward()\n",
    "        opt.step()\n",
    "        \n",
    "        wnorm = nn.utils.parameters_to_vector(net.parameters()).norm()\n",
    "        accu.append(loss_batch=loss.item(), acc_batch=acc, wnorm=wnorm.item())\n",
    "        \n",
    "data['adam'] = accu"
   ]
  },
  {
   "cell_type": "markdown",
   "id": "2e3e40a3-54f5-45ad-8fd8-317e1b07587c",
   "metadata": {
    "tags": []
   },
   "source": [
    "## MNIST SGD w/ Momentum"
   ]
  },
  {
   "cell_type": "code",
   "execution_count": 94,
   "id": "b182ee67-7b38-4df5-8ff5-75c3a128e14a",
   "metadata": {},
   "outputs": [
    {
     "data": {
      "application/vnd.jupyter.widget-view+json": {
       "model_id": "745ea3254d764f91a8353e3fde033a2e",
       "version_major": 2,
       "version_minor": 0
      },
      "text/plain": [
       "  0%|          | 0/50 [00:00<?, ?it/s]"
      ]
     },
     "metadata": {},
     "output_type": "display_data"
    }
   ],
   "source": [
    "net = dataset.Network()\n",
    "opt = torch.optim.SGD(net.parameters(), lr=3e-3, momentum=0.9)\n",
    "\n",
    "accu = util.Accumulator()\n",
    "\n",
    "for epoch_idx in range(1):\n",
    "    for x, y in tqdm(ds.dl_train):\n",
    "        yp = net(x)\n",
    "        loss = ds.loss_fn(yp, y)\n",
    "        acc = (yp.argmax(dim=-1)==y).sum().item()/len(x)\n",
    "\n",
    "        opt.zero_grad()\n",
    "        loss.backward()\n",
    "        opt.step()\n",
    "\n",
    "        wnorm = nn.utils.parameters_to_vector(net.parameters()).norm()\n",
    "        accu.append(loss_batch=loss.item(), acc_batch=acc, wnorm=wnorm.item())\n",
    "        \n",
    "data['sgdm'] = accu"
   ]
  },
  {
   "cell_type": "code",
   "execution_count": 256,
   "id": "hybrid-rubber",
   "metadata": {},
   "outputs": [],
   "source": [
    "vo = nn.utils.parameters_to_vector(net.parameters()).detach().requires_grad_()"
   ]
  },
  {
   "cell_type": "code",
   "execution_count": 257,
   "id": "stuck-portfolio",
   "metadata": {},
   "outputs": [
    {
     "name": "stderr",
     "output_type": "stream",
     "text": [
      "100%|██████████| 20/20 [00:03<00:00,  5.90it/s]\n",
      "100%|██████████| 20/20 [00:03<00:00,  5.08it/s]\n"
     ]
    }
   ],
   "source": [
    "fo, g = fg_fn_nn(vo, x, y)\n",
    "fs = []\n",
    "\n",
    "for t in tqdm(torch.logspace(-1, -3, 20)):\n",
    "    f, _ = fg_fn_nn(vo+g*t, x, y)\n",
    "    fs.append([t,f.item()])\n",
    "fs.append([0, fo.item()])\n",
    "for t in tqdm(-torch.logspace(-3, -1, 20)):\n",
    "    f, _ = fg_fn_nn(vo+g*t, x, y)\n",
    "    fs.append([t, f.item()])\n",
    "fs = np.array(fs)"
   ]
  },
  {
   "cell_type": "code",
   "execution_count": 258,
   "id": "blank-system",
   "metadata": {},
   "outputs": [
    {
     "data": {
      "text/plain": [
       "(0.1917508840560913, 3.0)"
      ]
     },
     "execution_count": 258,
     "metadata": {},
     "output_type": "execute_result"
    },
    {
     "data": {
      "image/png": "[encoded data removed]",
      "text/plain": [
       "<Figure size 432x288 with 1 Axes>"
      ]
     },
     "metadata": {
      "needs_background": "light"
     },
     "output_type": "display_data"
    }
   ],
   "source": [
    "plt.plot(*fs.T)\n",
    "plt.ylim(fs[:, 1].min(), 3)\n",
    "# plt.xscale('symlog')"
   ]
  },
  {
   "cell_type": "code",
   "execution_count": null,
   "id": "still-edgar",
   "metadata": {},
   "outputs": [],
   "source": []
  },
  {
   "cell_type": "code",
   "execution_count": null,
   "id": "everyday-updating",
   "metadata": {},
   "outputs": [],
   "source": []
  },
  {
   "cell_type": "code",
   "execution_count": null,
   "id": "interstate-honey",
   "metadata": {},
   "outputs": [],
   "source": []
  },
  {
   "cell_type": "code",
   "execution_count": null,
   "id": "private-colorado",
   "metadata": {},
   "outputs": [],
   "source": []
  },
  {
   "cell_type": "code",
   "execution_count": null,
   "id": "wicked-player",
   "metadata": {},
   "outputs": [],
   "source": []
  },
  {
   "cell_type": "code",
   "execution_count": 95,
   "id": "burning-cabinet",
   "metadata": {},
   "outputs": [],
   "source": [
    "def step_epsilon(x1, x, y, net, opt, eps=1e-2):\n",
    "    f1, g1 = fg_fn_nn(x1, x, y, net, opt)\n",
    "    \n",
    "    g1n = g1/g1.norm(dim=-1, keepdim=True)\n",
    "    x2 = x1 + eps*torch.randn_like(x1)-g1n*eps\n",
    "\n",
    "    f2, g2 = fg_fn_nn(x2, x, y, net, opt)\n",
    "    x3, s, t = intercept(x1.detach(), -g1.detach(), x2.detach(), -g2.detach())\n",
    "    return f1, x3, s, t\n",
    "\n",
    "def step_smart(x1, x, y, t=1e-5):\n",
    "    f1, g1 = fg_fn_nn(x1, x, y)\n",
    "    \n",
    "    ft, gt = fg_fn_nn(x1-t*g1, x, y)\n",
    "    if ft<f1:\n",
    "        while ft<f1:\n",
    "            t *= 2.\n",
    "            ft, gt = fg_fn_nn(x1-t*g1, x, y)\n",
    "    elif ft>f1:\n",
    "        while ft>f1:\n",
    "            t /= 2.\n",
    "            ft, gt = fg_fn_nn(x1-t*g1, x, y)\n",
    "        t*=2.\n",
    "        \n",
    "    x2 = x1-t*g1\n",
    "    x1 = x1-t/2.*g1\n",
    "    \n",
    "    f1, g1 = fg_fn_nn(x1, x, y)\n",
    "    f2, g2 = fg_fn_nn(x2, x, y)\n",
    "    x3 = intercept(x1.detach(), -g1.detach(), x2.detach(), -g2.detach())\n",
    "    return f1, x3"
   ]
  },
  {
   "cell_type": "code",
   "execution_count": 96,
   "id": "elect-bristol",
   "metadata": {},
   "outputs": [],
   "source": [
    "def fg_fn_nn(v, x, y, net, opt):\n",
    "    nn.utils.vector_to_parameters(v, net.parameters())\n",
    "    opt.zero_grad()\n",
    "    yp = net(x)\n",
    "    loss = ds.loss_fn(yp, y)\n",
    "    loss.backward()\n",
    "    \n",
    "    g = torch.cat([p.grad.flatten() for p in net.parameters()])\n",
    "    return loss, g"
   ]
  },
  {
   "cell_type": "markdown",
   "id": "dd05ea41-5979-4388-973d-c160a4f1984e",
   "metadata": {
    "tags": []
   },
   "source": [
    "## MNIST Two-Man-SGD"
   ]
  },
  {
   "cell_type": "code",
   "execution_count": 144,
   "id": "raised-sensitivity",
   "metadata": {
    "tags": []
   },
   "outputs": [
    {
     "data": {
      "application/vnd.jupyter.widget-view+json": {
       "model_id": "1e319c48aaaf4c3c99435d7ab25310c1",
       "version_major": 2,
       "version_minor": 0
      },
      "text/plain": [
       "  0%|          | 0/50 [00:00<?, ?it/s]"
      ]
     },
     "metadata": {},
     "output_type": "display_data"
    },
    {
     "name": "stdout",
     "output_type": "stream",
     "text": [
      " 2.311,  3.734\n",
      " 2.307,  3.734\n",
      " 2.310,  3.734\n",
      "step size 0.0254\n",
      " 2.307,  3.734\n",
      " 2.307,  3.734\n",
      "step size 0.0492\n",
      " 2.304,  3.733\n",
      "step size 0.0241\n",
      " 2.312,  3.732\n",
      "step size 0.0505\n",
      " 2.307,  3.731\n",
      " 2.306,  3.731\n",
      "step size 0.0273\n",
      " 2.304,  3.730\n",
      "step size 0.0251\n",
      " 2.304,  3.729\n",
      "step size 0.0315\n",
      " 2.307,  3.729\n",
      "step size 0.0514\n",
      " 2.306,  3.728\n",
      "step size 0.0270\n",
      " 2.303,  3.728\n",
      "step size 0.0334\n",
      " 2.305,  3.729\n",
      " 2.305,  3.728\n",
      " 2.305,  3.728\n",
      "step size 0.0246\n",
      " 2.304,  3.728\n",
      "step size 0.0267\n",
      " 2.305,  3.728\n",
      "step size 0.0358\n",
      " 2.308,  3.727\n",
      "step size 0.0326\n",
      " 2.304,  3.729\n",
      "step size 0.0477\n",
      " 2.304,  3.729\n",
      "step size 0.0254\n",
      " 2.303,  3.730\n",
      " 2.305,  3.730\n",
      "step size 0.0244\n",
      " 2.304,  3.730\n",
      " 2.302,  3.730\n",
      " 2.303,  3.730\n",
      " 2.304,  3.730\n",
      " 2.305,  3.730\n",
      " 2.304,  3.730\n",
      "step size 0.0280\n",
      " 2.304,  3.731\n",
      " 2.303,  3.731\n",
      "step size 0.0305\n",
      " 2.302,  3.732\n",
      "step size 0.0306\n",
      " 2.300,  3.733\n",
      "step size 0.0331\n",
      " 2.300,  3.733\n",
      "step size 0.0254\n",
      " 2.300,  3.734\n",
      "step size 0.0241\n",
      " 2.299,  3.734\n",
      "step size 0.0382\n",
      " 2.297,  3.736\n",
      "step size 0.0428\n",
      " 2.298,  3.739\n",
      " 2.299,  3.736\n",
      "step size 0.0261\n",
      " 2.299,  3.737\n",
      "step size 0.0245\n",
      " 2.300,  3.738\n",
      "step size 0.0401\n",
      " 2.298,  3.740\n",
      "step size 0.0909\n",
      " 2.294,  3.750\n",
      " 2.302,  3.750\n",
      "step size 0.0464\n",
      " 2.298,  3.749\n",
      "step size 0.0478\n",
      " 2.293,  3.751\n",
      "step size 0.0463\n",
      " 2.288,  3.756\n",
      "step size 0.0396\n",
      " 2.291,  3.758\n",
      "step size 0.0240\n",
      " 2.291,  3.756\n"
     ]
    },
    {
     "data": {
      "application/vnd.jupyter.widget-view+json": {
       "model_id": "bb541e26025d4424b3942fdcaa2655f8",
       "version_major": 2,
       "version_minor": 0
      },
      "text/plain": [
       "  0%|          | 0/50 [00:00<?, ?it/s]"
      ]
     },
     "metadata": {},
     "output_type": "display_data"
    },
    {
     "name": "stdout",
     "output_type": "stream",
     "text": [
      " 2.289,  3.756\n",
      " 2.289,  3.756\n",
      "step size 0.0408\n",
      " 2.285,  3.759\n",
      " 2.294,  3.759\n",
      "step size 0.0362\n",
      " 2.287,  3.761\n",
      " 2.289,  3.761\n",
      "step size 0.0362\n",
      " 2.286,  3.764\n",
      "step size 0.0559\n",
      " 2.281,  3.772\n",
      "step size 0.0263\n",
      " 2.284,  3.773\n",
      "step size 0.0387\n",
      " 2.279,  3.776\n",
      "step size 0.0240\n",
      " 2.269,  3.777\n",
      "step size 0.0604\n",
      " 2.282,  3.781\n",
      "step size 0.0304\n",
      " 2.279,  3.778\n",
      "step size 0.0523\n",
      " 2.275,  3.786\n",
      "step size 0.0297\n",
      " 2.269,  3.788\n",
      "step size 0.0283\n",
      " 2.266,  3.791\n",
      "step size 0.0720\n",
      " 2.258,  3.804\n",
      "step size 0.1016\n",
      " 2.262,  3.801\n",
      " 2.268,  3.804\n",
      "step size 0.1012\n",
      " 2.255,  3.803\n",
      " 2.269,  3.803\n",
      "step size 0.0968\n",
      " 2.269,  3.813\n",
      "step size 0.0909\n",
      " 2.261,  3.810\n",
      "step size 0.0850\n",
      " 2.256,  3.820\n",
      " 2.239,  3.820\n",
      "step size 0.1623\n",
      " 2.252,  3.819\n",
      "step size 0.0814\n",
      " 2.248,  3.819\n",
      "step size 0.0964\n",
      " 2.249,  3.831\n",
      " 2.248,  3.819\n",
      "step size 0.0835\n",
      " 2.247,  3.829\n",
      "step size 0.1242\n",
      " 2.234,  3.829\n",
      "step size 0.0368\n",
      " 2.269,  3.831\n",
      "step size 0.0512\n",
      " 2.276,  3.832\n",
      "step size 0.1353\n",
      " 2.274,  3.839\n",
      "step size 0.2068\n",
      " 2.254,  3.830\n",
      " 2.304,  3.830\n",
      "step size 0.0264\n",
      " 2.309,  3.830\n",
      "step size 0.1117\n",
      " 2.312,  3.834\n",
      " 2.301,  3.830\n",
      " 2.304,  3.830\n",
      "step size 0.0272\n",
      " 2.302,  3.829\n",
      " 2.301,  3.829\n",
      "step size 0.0653\n",
      " 2.292,  3.832\n",
      " 2.267,  3.832\n",
      "step size 0.0562\n",
      " 2.259,  3.837\n",
      "step size 0.0329\n",
      " 2.229,  3.840\n",
      "step size 0.0845\n",
      " 2.216,  3.858\n",
      "step size 0.1049\n",
      " 2.260,  3.851\n",
      "step size 0.1990\n",
      " 2.234,  3.850\n",
      " 2.301,  3.850\n"
     ]
    }
   ],
   "source": [
    "net = dataset.Network()\n",
    "opt = torch.optim.Adam(net.parameters(), lr=1e-2)\n",
    "v = nn.utils.parameters_to_vector(net.parameters()).detach().requires_grad_()\n",
    "\n",
    "accu = util.Accumulator()\n",
    "\n",
    "eps = 1e-3\n",
    "\n",
    "for epoch_idx in range(2):\n",
    "    for x, y in tqdm(ds.dl_train):\n",
    "        f1, v2, s, t = step_epsilon(v, x, y, net, opt, eps)\n",
    "        step_size = 0.\n",
    "        \n",
    "        # if 'step_size' in accu.keys() and (v2-v).norm()>accu['step_size'].mean()+accu['step_size'].std():\n",
    "            # continue\n",
    "        \n",
    "        pv = v\n",
    "        if s>0 and t>0:\n",
    "            print(f'step size {(v2-v).norm():.04f}')\n",
    "            step_size = (v2-v).norm().item()\n",
    "            v = v2\n",
    "        \n",
    "        \n",
    "        # f1, v = step_smart(v, x, y)\n",
    "        # print('mean abs weight ', x1.abs().mean().item())\n",
    "        \n",
    "        yp = net(x)\n",
    "        loss = ds.loss_fn(yp, y)\n",
    "        acc = (yp.argmax(dim=-1)==y).sum().item()/len(x)\n",
    "        print(f'{loss.item(): .03f}, {v.norm(dim=-1): .03f}')\n",
    "        \n",
    "        if 'loss_batch' in accu.keys() and loss.item()>accu['loss_batch'][-1].item():\n",
    "            # goback\n",
    "            v = pv\n",
    "\n",
    "        \n",
    "        if 'loss_batch' in accu.keys() and loss.item()>accu['loss_batch'][-1]+.2:\n",
    "            print('DETECTED SPIKE')\n",
    "            for i, (x, y) in enumerate(ds.dl_train):\n",
    "                yp = net(x)\n",
    "                loss = ds.loss_fn(yp, y)\n",
    "                print(loss.item())\n",
    "                if i==5:\n",
    "                    break\n",
    "            print('\\n\\n\\n\\n')\n",
    "        \n",
    "        wnorm = nn.utils.parameters_to_vector(net.parameters()).norm()\n",
    "        accu.append(loss_batch=loss.item(), acc_batch=acc, wnorm=wnorm.item(), \n",
    "                    step_size=step_size)\n",
    "        \n",
    "data['2man'] = accu"
   ]
  },
  {
   "cell_type": "code",
   "execution_count": null,
   "id": "61e97a10-b787-4d66-938d-6df5cec16994",
   "metadata": {},
   "outputs": [],
   "source": []
  },
  {
   "cell_type": "code",
   "execution_count": null,
   "id": "da19920d-a844-4cde-9d70-f40511984c04",
   "metadata": {},
   "outputs": [],
   "source": []
  },
  {
   "cell_type": "code",
   "execution_count": null,
   "id": "8dd30adb-1d0b-4b91-86a3-01244747da36",
   "metadata": {},
   "outputs": [],
   "source": []
  },
  {
   "cell_type": "code",
   "execution_count": null,
   "id": "2b6a435d-4897-412e-a3dd-1a32fdf4528c",
   "metadata": {},
   "outputs": [],
   "source": []
  },
  {
   "cell_type": "code",
   "execution_count": 146,
   "id": "5bb1339b-eff4-42e2-b818-cf41006dd7a3",
   "metadata": {},
   "outputs": [
    {
     "data": {
      "image/png": "[encoded data removed]",
      "text/plain": [
       "<Figure size 432x288 with 1 Axes>"
      ]
     },
     "metadata": {
      "needs_background": "light"
     },
     "output_type": "display_data"
    },
    {
     "data": {
      "text/plain": [
       "[<matplotlib.lines.Line2D at 0x7f8ef2fc94f0>]"
      ]
     },
     "execution_count": 146,
     "metadata": {},
     "output_type": "execute_result"
    },
    {
     "data": {
      "image/png": "[encoded data removed]",
      "text/plain": [
       "<Figure size 432x288 with 1 Axes>"
      ]
     },
     "metadata": {
      "needs_background": "light"
     },
     "output_type": "display_data"
    }
   ],
   "source": [
    "plt.plot(accu['loss_batch'])\n",
    "plt.show()\n",
    "plt.plot(accu['step_size'])"
   ]
  },
  {
   "cell_type": "code",
   "execution_count": null,
   "id": "d8cfb34e-b2f1-4176-8aa0-38bb5a132902",
   "metadata": {},
   "outputs": [],
   "source": []
  },
  {
   "cell_type": "code",
   "execution_count": null,
   "id": "789a6f7a-b844-441e-ad75-9ec47d20e7ab",
   "metadata": {},
   "outputs": [],
   "source": []
  },
  {
   "cell_type": "code",
   "execution_count": null,
   "id": "872b9ebc-d319-4498-ad6b-bc7e48389d74",
   "metadata": {},
   "outputs": [],
   "source": []
  },
  {
   "cell_type": "code",
   "execution_count": null,
   "id": "33e13030-7db4-4a22-9362-535b6a19112d",
   "metadata": {},
   "outputs": [],
   "source": []
  },
  {
   "cell_type": "code",
   "execution_count": 117,
   "id": "bca0995a-ffb6-4d01-a545-32dae88cb2f8",
   "metadata": {},
   "outputs": [
    {
     "data": {
      "image/png": "[encoded data removed]",
      "text/plain": [
       "<Figure size 720x720 with 3 Axes>"
      ]
     },
     "metadata": {
      "needs_background": "light"
     },
     "output_type": "display_data"
    }
   ],
   "source": [
    "plt.figure(figsize=(10,10))\n",
    "util.plot_accumulators(data)"
   ]
  },
  {
   "cell_type": "code",
   "execution_count": null,
   "id": "4ae173a4-bb51-42dd-b0e3-2a91dbc00038",
   "metadata": {},
   "outputs": [],
   "source": []
  },
  {
   "cell_type": "code",
   "execution_count": null,
   "id": "e989ad48-98d0-4fce-9115-c9e5524c2ecc",
   "metadata": {},
   "outputs": [],
   "source": []
  },
  {
   "cell_type": "code",
   "execution_count": 106,
   "id": "c73041b1-6a73-4cb6-87f6-2a2ed206123b",
   "metadata": {},
   "outputs": [
    {
     "data": {
      "text/plain": [
       "array([2.30300999, 2.30057836, 2.29773331, 2.28252077, 2.27208185,\n",
       "       2.26649904, 2.25515151, 2.22926569, 2.23919535, 2.17760682,\n",
       "       2.15959048, 2.16377497, 2.10470271, 2.0668726 , 2.04922748,\n",
       "       2.1085391 , 2.16638112, 2.02610731, 2.08067012, 2.0153296 ,\n",
       "       2.0199852 , 2.00799465, 2.02447104, 1.9876132 , 1.95002329,\n",
       "       1.95856082, 1.95329726, 1.90004361, 1.95859551, 1.90922701,\n",
       "       1.859635  , 1.84512556, 1.87845254, 1.85103726, 1.80653441,\n",
       "       1.86466706, 1.89585781, 1.85083461, 1.84235334, 1.79475951,\n",
       "       1.84734476, 1.85333419, 1.76693904, 1.77614045, 1.77131689,\n",
       "       1.77547204, 1.82347429, 1.77327907, 1.85058725, 1.73869884])"
      ]
     },
     "execution_count": 106,
     "metadata": {},
     "output_type": "execute_result"
    }
   ],
   "source": []
  },
  {
   "cell_type": "code",
   "execution_count": 107,
   "id": "407ed8d2-0844-4efc-88bd-57ac8d6256fe",
   "metadata": {},
   "outputs": [
    {
     "data": {
      "text/plain": [
       "<matplotlib.legend.Legend at 0x7f8ef89c7e20>"
      ]
     },
     "execution_count": 107,
     "metadata": {},
     "output_type": "execute_result"
    },
    {
     "data": {
      "image/png": "[encoded data removed]",
      "text/plain": [
       "<Figure size 432x288 with 1 Axes>"
      ]
     },
     "metadata": {
      "needs_background": "light"
     },
     "output_type": "display_data"
    }
   ],
   "source": [
    "plt.plot(data['adam']['loss_batch'], label='Adam')\n",
    "plt.plot(data['sgdm']['loss_batch'], label='SGD+momentum')\n",
    "plt.plot(np.arange(len(data['2man']['loss_batch']))*2, \n",
    "         data['2man']['loss_batch'], label='2-Man (scaled)')\n",
    "plt.title('CIFAR Performance'); plt.ylabel('Loss'); plt.xlabel('Batches')\n",
    "plt.legend()"
   ]
  },
  {
   "cell_type": "code",
   "execution_count": 40,
   "id": "cb3568b9-2416-40c4-931a-67380562b4cf",
   "metadata": {},
   "outputs": [
    {
     "data": {
      "text/plain": [
       "<matplotlib.legend.Legend at 0x7f90acee8580>"
      ]
     },
     "execution_count": 40,
     "metadata": {},
     "output_type": "execute_result"
    },
    {
     "data": {
      "image/png": "[encoded data removed]",
      "text/plain": [
       "<Figure size 432x288 with 1 Axes>"
      ]
     },
     "metadata": {
      "needs_background": "light"
     },
     "output_type": "display_data"
    }
   ],
   "source": [
    "plt.plot(np.array(data['sgdm_meter_loss'].data)[:, 0], label='SGD+momentum')\n",
    "plt.plot(np.array(data['adam_meter_loss'].data)[:, 0], label='Adam')\n",
    "plt.plot(np.arange(250)*2, np.array(data['2mansgd_meter_loss'].data)[:, 0], label='2-man (scaled)')\n",
    "plt.title('CIFAR Performance'); plt.ylabel('Loss'); plt.xlabel('Batches')\n",
    "plt.legend()"
   ]
  },
  {
   "cell_type": "code",
   "execution_count": null,
   "id": "8c5b1053-5da8-4e0a-86cc-863135f6a315",
   "metadata": {},
   "outputs": [],
   "source": []
  },
  {
   "cell_type": "markdown",
   "id": "13759e78-3589-4573-afa9-80c5c6bc2bea",
   "metadata": {},
   "source": [
    "# Combining Adam/SGD with momentum to the gradients (delta weights) for 2 man sgd"
   ]
  },
  {
   "cell_type": "code",
   "execution_count": 50,
   "id": "2d62e619-748e-4120-a409-fbfc4d5a1132",
   "metadata": {},
   "outputs": [
    {
     "data": {
      "text/plain": [
       "2306"
      ]
     },
     "execution_count": 50,
     "metadata": {},
     "output_type": "execute_result"
    }
   ],
   "source": [
    "np.sum([p.numel() for p in net.parameters()])"
   ]
  },
  {
   "cell_type": "code",
   "execution_count": 56,
   "id": "7caf0579-9ea9-4df2-aedd-89a6beb8b661",
   "metadata": {},
   "outputs": [],
   "source": [
    "def set_grad(g, net):\n",
    "    i = 0\n",
    "    for p in net.parameters():\n",
    "        if g is None:\n",
    "            p.data = None\n",
    "        else:\n",
    "            gdata = g[i: i+p.numel()].reshape(p.shape)\n",
    "            p.grad = gdata.clone()\n",
    "    \n",
    "set_grad(torch.zeros(2306), net)"
   ]
  },
  {
   "cell_type": "code",
   "execution_count": null,
   "id": "14e3d082-3f33-4bea-9bec-ddf7488bac59",
   "metadata": {},
   "outputs": [],
   "source": []
  },
  {
   "cell_type": "code",
   "execution_count": null,
   "id": "f3c28d4d-3325-4127-9ef6-c3da9e60f922",
   "metadata": {},
   "outputs": [],
   "source": []
  },
  {
   "cell_type": "code",
   "execution_count": 60,
   "id": "73e73f48-7dbf-43a4-b948-a061aaef6e7e",
   "metadata": {},
   "outputs": [
    {
     "data": {
      "application/vnd.jupyter.widget-view+json": {
       "model_id": "c034b5c8982542f4940016d4c1d19580",
       "version_major": 2,
       "version_minor": 0
      },
      "text/plain": [
       "  0%|          | 0/50 [00:00<?, ?it/s]"
      ]
     },
     "metadata": {},
     "output_type": "display_data"
    },
    {
     "name": "stdout",
     "output_type": "stream",
     "text": [
      "2.3124072551727295\n",
      "2.305079698562622\n",
      "2.300426959991455\n",
      "2.3082163333892822\n",
      "2.3035242557525635\n",
      "2.30521821975708\n",
      "2.3046319484710693\n",
      "2.300846815109253\n",
      "2.307983875274658\n",
      "2.3099865913391113\n",
      "2.3053438663482666\n",
      "2.3066904544830322\n",
      "2.3061087131500244\n",
      "2.2977609634399414\n",
      "2.299973726272583\n",
      "2.3055291175842285\n"
     ]
    },
    {
     "ename": "KeyboardInterrupt",
     "evalue": "",
     "output_type": "error",
     "traceback": [
      "\u001b[0;31m---------------------------------------------------------------------------\u001b[0m",
      "\u001b[0;31mKeyboardInterrupt\u001b[0m                         Traceback (most recent call last)",
      "\u001b[0;32m/var/folders/fk/0sthbc6s2zbd1kyry1yjdxzw0000gn/T/ipykernel_82218/76558129.py\u001b[0m in \u001b[0;36m<module>\u001b[0;34m\u001b[0m\n\u001b[1;32m     12\u001b[0m \u001b[0;32mfor\u001b[0m \u001b[0mepoch_idx\u001b[0m \u001b[0;32min\u001b[0m \u001b[0mrange\u001b[0m\u001b[0;34m(\u001b[0m\u001b[0;36m5\u001b[0m\u001b[0;34m)\u001b[0m\u001b[0;34m:\u001b[0m\u001b[0;34m\u001b[0m\u001b[0;34m\u001b[0m\u001b[0m\n\u001b[1;32m     13\u001b[0m     \u001b[0;32mfor\u001b[0m \u001b[0mx\u001b[0m\u001b[0;34m,\u001b[0m \u001b[0my\u001b[0m \u001b[0;32min\u001b[0m \u001b[0mtqdm\u001b[0m\u001b[0;34m(\u001b[0m\u001b[0mds\u001b[0m\u001b[0;34m.\u001b[0m\u001b[0mdl_train\u001b[0m\u001b[0;34m)\u001b[0m\u001b[0;34m:\u001b[0m\u001b[0;34m\u001b[0m\u001b[0;34m\u001b[0m\u001b[0m\n\u001b[0;32m---> 14\u001b[0;31m         \u001b[0mf1\u001b[0m\u001b[0;34m,\u001b[0m \u001b[0mv2\u001b[0m\u001b[0;34m,\u001b[0m \u001b[0ms\u001b[0m\u001b[0;34m,\u001b[0m \u001b[0mt\u001b[0m \u001b[0;34m=\u001b[0m \u001b[0mstep_epsilon\u001b[0m\u001b[0;34m(\u001b[0m\u001b[0mv\u001b[0m\u001b[0;34m,\u001b[0m \u001b[0mx\u001b[0m\u001b[0;34m,\u001b[0m \u001b[0my\u001b[0m\u001b[0;34m,\u001b[0m \u001b[0mnet\u001b[0m\u001b[0;34m,\u001b[0m \u001b[0mopt\u001b[0m\u001b[0;34m,\u001b[0m \u001b[0meps\u001b[0m\u001b[0;34m)\u001b[0m\u001b[0;34m\u001b[0m\u001b[0;34m\u001b[0m\u001b[0m\n\u001b[0m\u001b[1;32m     15\u001b[0m         \u001b[0mnv\u001b[0m \u001b[0;34m=\u001b[0m \u001b[0mv\u001b[0m\u001b[0;34m\u001b[0m\u001b[0;34m\u001b[0m\u001b[0m\n\u001b[1;32m     16\u001b[0m         \u001b[0;32mif\u001b[0m \u001b[0ms\u001b[0m\u001b[0;34m>\u001b[0m\u001b[0;36m0\u001b[0m \u001b[0;32mand\u001b[0m \u001b[0mt\u001b[0m\u001b[0;34m>\u001b[0m\u001b[0;36m0\u001b[0m\u001b[0;34m:\u001b[0m\u001b[0;34m\u001b[0m\u001b[0;34m\u001b[0m\u001b[0m\n",
      "\u001b[0;32m/var/folders/fk/0sthbc6s2zbd1kyry1yjdxzw0000gn/T/ipykernel_82218/3977236183.py\u001b[0m in \u001b[0;36mstep_epsilon\u001b[0;34m(x1, x, y, net, opt, eps)\u001b[0m\n\u001b[1;32m      1\u001b[0m \u001b[0;32mdef\u001b[0m \u001b[0mstep_epsilon\u001b[0m\u001b[0;34m(\u001b[0m\u001b[0mx1\u001b[0m\u001b[0;34m,\u001b[0m \u001b[0mx\u001b[0m\u001b[0;34m,\u001b[0m \u001b[0my\u001b[0m\u001b[0;34m,\u001b[0m \u001b[0mnet\u001b[0m\u001b[0;34m,\u001b[0m \u001b[0mopt\u001b[0m\u001b[0;34m,\u001b[0m \u001b[0meps\u001b[0m\u001b[0;34m=\u001b[0m\u001b[0;36m1e-2\u001b[0m\u001b[0;34m)\u001b[0m\u001b[0;34m:\u001b[0m\u001b[0;34m\u001b[0m\u001b[0;34m\u001b[0m\u001b[0m\n\u001b[0;32m----> 2\u001b[0;31m     \u001b[0mf1\u001b[0m\u001b[0;34m,\u001b[0m \u001b[0mg1\u001b[0m \u001b[0;34m=\u001b[0m \u001b[0mfg_fn_nn\u001b[0m\u001b[0;34m(\u001b[0m\u001b[0mx1\u001b[0m\u001b[0;34m,\u001b[0m \u001b[0mx\u001b[0m\u001b[0;34m,\u001b[0m \u001b[0my\u001b[0m\u001b[0;34m,\u001b[0m \u001b[0mnet\u001b[0m\u001b[0;34m,\u001b[0m \u001b[0mopt\u001b[0m\u001b[0;34m)\u001b[0m\u001b[0;34m\u001b[0m\u001b[0;34m\u001b[0m\u001b[0m\n\u001b[0m\u001b[1;32m      3\u001b[0m \u001b[0;34m\u001b[0m\u001b[0m\n\u001b[1;32m      4\u001b[0m     \u001b[0mg1n\u001b[0m \u001b[0;34m=\u001b[0m \u001b[0mg1\u001b[0m\u001b[0;34m/\u001b[0m\u001b[0mg1\u001b[0m\u001b[0;34m.\u001b[0m\u001b[0mnorm\u001b[0m\u001b[0;34m(\u001b[0m\u001b[0mdim\u001b[0m\u001b[0;34m=\u001b[0m\u001b[0;34m-\u001b[0m\u001b[0;36m1\u001b[0m\u001b[0;34m,\u001b[0m \u001b[0mkeepdim\u001b[0m\u001b[0;34m=\u001b[0m\u001b[0;32mTrue\u001b[0m\u001b[0;34m)\u001b[0m\u001b[0;34m\u001b[0m\u001b[0;34m\u001b[0m\u001b[0m\n\u001b[1;32m      5\u001b[0m     \u001b[0mx2\u001b[0m \u001b[0;34m=\u001b[0m \u001b[0mx1\u001b[0m \u001b[0;34m+\u001b[0m \u001b[0meps\u001b[0m\u001b[0;34m*\u001b[0m\u001b[0mtorch\u001b[0m\u001b[0;34m.\u001b[0m\u001b[0mrandn_like\u001b[0m\u001b[0;34m(\u001b[0m\u001b[0mx1\u001b[0m\u001b[0;34m)\u001b[0m\u001b[0;34m-\u001b[0m\u001b[0mg1n\u001b[0m\u001b[0;34m*\u001b[0m\u001b[0meps\u001b[0m\u001b[0;34m\u001b[0m\u001b[0;34m\u001b[0m\u001b[0m\n",
      "\u001b[0;32m/var/folders/fk/0sthbc6s2zbd1kyry1yjdxzw0000gn/T/ipykernel_82218/4041098888.py\u001b[0m in \u001b[0;36mfg_fn_nn\u001b[0;34m(v, x, y, net, opt)\u001b[0m\n\u001b[1;32m      2\u001b[0m     \u001b[0mnn\u001b[0m\u001b[0;34m.\u001b[0m\u001b[0mutils\u001b[0m\u001b[0;34m.\u001b[0m\u001b[0mvector_to_parameters\u001b[0m\u001b[0;34m(\u001b[0m\u001b[0mv\u001b[0m\u001b[0;34m,\u001b[0m \u001b[0mnet\u001b[0m\u001b[0;34m.\u001b[0m\u001b[0mparameters\u001b[0m\u001b[0;34m(\u001b[0m\u001b[0;34m)\u001b[0m\u001b[0;34m)\u001b[0m\u001b[0;34m\u001b[0m\u001b[0;34m\u001b[0m\u001b[0m\n\u001b[1;32m      3\u001b[0m     \u001b[0mopt\u001b[0m\u001b[0;34m.\u001b[0m\u001b[0mzero_grad\u001b[0m\u001b[0;34m(\u001b[0m\u001b[0;34m)\u001b[0m\u001b[0;34m\u001b[0m\u001b[0;34m\u001b[0m\u001b[0m\n\u001b[0;32m----> 4\u001b[0;31m     \u001b[0myp\u001b[0m \u001b[0;34m=\u001b[0m \u001b[0mnet\u001b[0m\u001b[0;34m(\u001b[0m\u001b[0mx\u001b[0m\u001b[0;34m)\u001b[0m\u001b[0;34m\u001b[0m\u001b[0;34m\u001b[0m\u001b[0m\n\u001b[0m\u001b[1;32m      5\u001b[0m     \u001b[0mloss\u001b[0m \u001b[0;34m=\u001b[0m \u001b[0mds\u001b[0m\u001b[0;34m.\u001b[0m\u001b[0mloss_fn\u001b[0m\u001b[0;34m(\u001b[0m\u001b[0myp\u001b[0m\u001b[0;34m,\u001b[0m \u001b[0my\u001b[0m\u001b[0;34m)\u001b[0m\u001b[0;34m\u001b[0m\u001b[0;34m\u001b[0m\u001b[0m\n\u001b[1;32m      6\u001b[0m     \u001b[0mloss\u001b[0m\u001b[0;34m.\u001b[0m\u001b[0mbackward\u001b[0m\u001b[0;34m(\u001b[0m\u001b[0;34m)\u001b[0m\u001b[0;34m\u001b[0m\u001b[0;34m\u001b[0m\u001b[0m\n",
      "\u001b[0;32m~/miniconda3/lib/python3.9/site-packages/torch/nn/modules/module.py\u001b[0m in \u001b[0;36m_call_impl\u001b[0;34m(self, *input, **kwargs)\u001b[0m\n\u001b[1;32m   1100\u001b[0m         if not (self._backward_hooks or self._forward_hooks or self._forward_pre_hooks or _global_backward_hooks\n\u001b[1;32m   1101\u001b[0m                 or _global_forward_hooks or _global_forward_pre_hooks):\n\u001b[0;32m-> 1102\u001b[0;31m             \u001b[0;32mreturn\u001b[0m \u001b[0mforward_call\u001b[0m\u001b[0;34m(\u001b[0m\u001b[0;34m*\u001b[0m\u001b[0minput\u001b[0m\u001b[0;34m,\u001b[0m \u001b[0;34m**\u001b[0m\u001b[0mkwargs\u001b[0m\u001b[0;34m)\u001b[0m\u001b[0;34m\u001b[0m\u001b[0;34m\u001b[0m\u001b[0m\n\u001b[0m\u001b[1;32m   1103\u001b[0m         \u001b[0;31m# Do not call functions when jit is used\u001b[0m\u001b[0;34m\u001b[0m\u001b[0;34m\u001b[0m\u001b[0;34m\u001b[0m\u001b[0m\n\u001b[1;32m   1104\u001b[0m         \u001b[0mfull_backward_hooks\u001b[0m\u001b[0;34m,\u001b[0m \u001b[0mnon_full_backward_hooks\u001b[0m \u001b[0;34m=\u001b[0m \u001b[0;34m[\u001b[0m\u001b[0;34m]\u001b[0m\u001b[0;34m,\u001b[0m \u001b[0;34m[\u001b[0m\u001b[0;34m]\u001b[0m\u001b[0;34m\u001b[0m\u001b[0;34m\u001b[0m\u001b[0m\n",
      "\u001b[0;32m~/ml-ideas/cifar10.py\u001b[0m in \u001b[0;36mforward\u001b[0;34m(self, x)\u001b[0m\n\u001b[1;32m    100\u001b[0m         )\n\u001b[1;32m    101\u001b[0m     \u001b[0;32mdef\u001b[0m \u001b[0mforward\u001b[0m\u001b[0;34m(\u001b[0m\u001b[0mself\u001b[0m\u001b[0;34m,\u001b[0m \u001b[0mx\u001b[0m\u001b[0;34m)\u001b[0m\u001b[0;34m:\u001b[0m\u001b[0;34m\u001b[0m\u001b[0;34m\u001b[0m\u001b[0m\n\u001b[0;32m--> 102\u001b[0;31m         \u001b[0mx\u001b[0m \u001b[0;34m=\u001b[0m \u001b[0mself\u001b[0m\u001b[0;34m.\u001b[0m\u001b[0mseq\u001b[0m\u001b[0;34m(\u001b[0m\u001b[0mx\u001b[0m\u001b[0;34m)\u001b[0m\u001b[0;34m\u001b[0m\u001b[0;34m\u001b[0m\u001b[0m\n\u001b[0m\u001b[1;32m    103\u001b[0m         \u001b[0mx\u001b[0m \u001b[0;34m=\u001b[0m \u001b[0mx\u001b[0m\u001b[0;34m.\u001b[0m\u001b[0mreshape\u001b[0m\u001b[0;34m(\u001b[0m\u001b[0mlen\u001b[0m\u001b[0;34m(\u001b[0m\u001b[0mx\u001b[0m\u001b[0;34m)\u001b[0m\u001b[0;34m,\u001b[0m \u001b[0;34m-\u001b[0m\u001b[0;36m1\u001b[0m\u001b[0;34m)\u001b[0m\u001b[0;34m\u001b[0m\u001b[0;34m\u001b[0m\u001b[0m\n\u001b[1;32m    104\u001b[0m         \u001b[0mx\u001b[0m \u001b[0;34m=\u001b[0m \u001b[0mself\u001b[0m\u001b[0;34m.\u001b[0m\u001b[0mclassification\u001b[0m\u001b[0;34m(\u001b[0m\u001b[0mx\u001b[0m\u001b[0;34m)\u001b[0m\u001b[0;34m\u001b[0m\u001b[0;34m\u001b[0m\u001b[0m\n",
      "\u001b[0;32m~/miniconda3/lib/python3.9/site-packages/torch/nn/modules/module.py\u001b[0m in \u001b[0;36m_call_impl\u001b[0;34m(self, *input, **kwargs)\u001b[0m\n\u001b[1;32m   1100\u001b[0m         if not (self._backward_hooks or self._forward_hooks or self._forward_pre_hooks or _global_backward_hooks\n\u001b[1;32m   1101\u001b[0m                 or _global_forward_hooks or _global_forward_pre_hooks):\n\u001b[0;32m-> 1102\u001b[0;31m             \u001b[0;32mreturn\u001b[0m \u001b[0mforward_call\u001b[0m\u001b[0;34m(\u001b[0m\u001b[0;34m*\u001b[0m\u001b[0minput\u001b[0m\u001b[0;34m,\u001b[0m \u001b[0;34m**\u001b[0m\u001b[0mkwargs\u001b[0m\u001b[0;34m)\u001b[0m\u001b[0;34m\u001b[0m\u001b[0;34m\u001b[0m\u001b[0m\n\u001b[0m\u001b[1;32m   1103\u001b[0m         \u001b[0;31m# Do not call functions when jit is used\u001b[0m\u001b[0;34m\u001b[0m\u001b[0;34m\u001b[0m\u001b[0;34m\u001b[0m\u001b[0m\n\u001b[1;32m   1104\u001b[0m         \u001b[0mfull_backward_hooks\u001b[0m\u001b[0;34m,\u001b[0m \u001b[0mnon_full_backward_hooks\u001b[0m \u001b[0;34m=\u001b[0m \u001b[0;34m[\u001b[0m\u001b[0;34m]\u001b[0m\u001b[0;34m,\u001b[0m \u001b[0;34m[\u001b[0m\u001b[0;34m]\u001b[0m\u001b[0;34m\u001b[0m\u001b[0;34m\u001b[0m\u001b[0m\n",
      "\u001b[0;32m~/miniconda3/lib/python3.9/site-packages/torch/nn/modules/container.py\u001b[0m in \u001b[0;36mforward\u001b[0;34m(self, input)\u001b[0m\n\u001b[1;32m    139\u001b[0m     \u001b[0;32mdef\u001b[0m \u001b[0mforward\u001b[0m\u001b[0;34m(\u001b[0m\u001b[0mself\u001b[0m\u001b[0;34m,\u001b[0m \u001b[0minput\u001b[0m\u001b[0;34m)\u001b[0m\u001b[0;34m:\u001b[0m\u001b[0;34m\u001b[0m\u001b[0;34m\u001b[0m\u001b[0m\n\u001b[1;32m    140\u001b[0m         \u001b[0;32mfor\u001b[0m \u001b[0mmodule\u001b[0m \u001b[0;32min\u001b[0m \u001b[0mself\u001b[0m\u001b[0;34m:\u001b[0m\u001b[0;34m\u001b[0m\u001b[0;34m\u001b[0m\u001b[0m\n\u001b[0;32m--> 141\u001b[0;31m             \u001b[0minput\u001b[0m \u001b[0;34m=\u001b[0m \u001b[0mmodule\u001b[0m\u001b[0;34m(\u001b[0m\u001b[0minput\u001b[0m\u001b[0;34m)\u001b[0m\u001b[0;34m\u001b[0m\u001b[0;34m\u001b[0m\u001b[0m\n\u001b[0m\u001b[1;32m    142\u001b[0m         \u001b[0;32mreturn\u001b[0m \u001b[0minput\u001b[0m\u001b[0;34m\u001b[0m\u001b[0;34m\u001b[0m\u001b[0m\n\u001b[1;32m    143\u001b[0m \u001b[0;34m\u001b[0m\u001b[0m\n",
      "\u001b[0;32m~/miniconda3/lib/python3.9/site-packages/torch/nn/modules/module.py\u001b[0m in \u001b[0;36m_call_impl\u001b[0;34m(self, *input, **kwargs)\u001b[0m\n\u001b[1;32m   1100\u001b[0m         if not (self._backward_hooks or self._forward_hooks or self._forward_pre_hooks or _global_backward_hooks\n\u001b[1;32m   1101\u001b[0m                 or _global_forward_hooks or _global_forward_pre_hooks):\n\u001b[0;32m-> 1102\u001b[0;31m             \u001b[0;32mreturn\u001b[0m \u001b[0mforward_call\u001b[0m\u001b[0;34m(\u001b[0m\u001b[0;34m*\u001b[0m\u001b[0minput\u001b[0m\u001b[0;34m,\u001b[0m \u001b[0;34m**\u001b[0m\u001b[0mkwargs\u001b[0m\u001b[0;34m)\u001b[0m\u001b[0;34m\u001b[0m\u001b[0;34m\u001b[0m\u001b[0m\n\u001b[0m\u001b[1;32m   1103\u001b[0m         \u001b[0;31m# Do not call functions when jit is used\u001b[0m\u001b[0;34m\u001b[0m\u001b[0;34m\u001b[0m\u001b[0;34m\u001b[0m\u001b[0m\n\u001b[1;32m   1104\u001b[0m         \u001b[0mfull_backward_hooks\u001b[0m\u001b[0;34m,\u001b[0m \u001b[0mnon_full_backward_hooks\u001b[0m \u001b[0;34m=\u001b[0m \u001b[0;34m[\u001b[0m\u001b[0;34m]\u001b[0m\u001b[0;34m,\u001b[0m \u001b[0;34m[\u001b[0m\u001b[0;34m]\u001b[0m\u001b[0;34m\u001b[0m\u001b[0;34m\u001b[0m\u001b[0m\n",
      "\u001b[0;32m~/miniconda3/lib/python3.9/site-packages/torch/nn/modules/pooling.py\u001b[0m in \u001b[0;36mforward\u001b[0;34m(self, input)\u001b[0m\n\u001b[1;32m    160\u001b[0m \u001b[0;34m\u001b[0m\u001b[0m\n\u001b[1;32m    161\u001b[0m     \u001b[0;32mdef\u001b[0m \u001b[0mforward\u001b[0m\u001b[0;34m(\u001b[0m\u001b[0mself\u001b[0m\u001b[0;34m,\u001b[0m \u001b[0minput\u001b[0m\u001b[0;34m:\u001b[0m \u001b[0mTensor\u001b[0m\u001b[0;34m)\u001b[0m \u001b[0;34m->\u001b[0m \u001b[0mTensor\u001b[0m\u001b[0;34m:\u001b[0m\u001b[0;34m\u001b[0m\u001b[0;34m\u001b[0m\u001b[0m\n\u001b[0;32m--> 162\u001b[0;31m         return F.max_pool2d(input, self.kernel_size, self.stride,\n\u001b[0m\u001b[1;32m    163\u001b[0m                             \u001b[0mself\u001b[0m\u001b[0;34m.\u001b[0m\u001b[0mpadding\u001b[0m\u001b[0;34m,\u001b[0m \u001b[0mself\u001b[0m\u001b[0;34m.\u001b[0m\u001b[0mdilation\u001b[0m\u001b[0;34m,\u001b[0m \u001b[0mself\u001b[0m\u001b[0;34m.\u001b[0m\u001b[0mceil_mode\u001b[0m\u001b[0;34m,\u001b[0m\u001b[0;34m\u001b[0m\u001b[0;34m\u001b[0m\u001b[0m\n\u001b[1;32m    164\u001b[0m                             self.return_indices)\n",
      "\u001b[0;32m~/miniconda3/lib/python3.9/site-packages/torch/_jit_internal.py\u001b[0m in \u001b[0;36mfn\u001b[0;34m(*args, **kwargs)\u001b[0m\n\u001b[1;32m    420\u001b[0m             \u001b[0;32mreturn\u001b[0m \u001b[0mif_true\u001b[0m\u001b[0;34m(\u001b[0m\u001b[0;34m*\u001b[0m\u001b[0margs\u001b[0m\u001b[0;34m,\u001b[0m \u001b[0;34m**\u001b[0m\u001b[0mkwargs\u001b[0m\u001b[0;34m)\u001b[0m\u001b[0;34m\u001b[0m\u001b[0;34m\u001b[0m\u001b[0m\n\u001b[1;32m    421\u001b[0m         \u001b[0;32melse\u001b[0m\u001b[0;34m:\u001b[0m\u001b[0;34m\u001b[0m\u001b[0;34m\u001b[0m\u001b[0m\n\u001b[0;32m--> 422\u001b[0;31m             \u001b[0;32mreturn\u001b[0m \u001b[0mif_false\u001b[0m\u001b[0;34m(\u001b[0m\u001b[0;34m*\u001b[0m\u001b[0margs\u001b[0m\u001b[0;34m,\u001b[0m \u001b[0;34m**\u001b[0m\u001b[0mkwargs\u001b[0m\u001b[0;34m)\u001b[0m\u001b[0;34m\u001b[0m\u001b[0;34m\u001b[0m\u001b[0m\n\u001b[0m\u001b[1;32m    423\u001b[0m \u001b[0;34m\u001b[0m\u001b[0m\n\u001b[1;32m    424\u001b[0m     \u001b[0;32mif\u001b[0m \u001b[0mif_true\u001b[0m\u001b[0;34m.\u001b[0m\u001b[0m__doc__\u001b[0m \u001b[0;32mis\u001b[0m \u001b[0;32mNone\u001b[0m \u001b[0;32mand\u001b[0m \u001b[0mif_false\u001b[0m\u001b[0;34m.\u001b[0m\u001b[0m__doc__\u001b[0m \u001b[0;32mis\u001b[0m \u001b[0;32mnot\u001b[0m \u001b[0;32mNone\u001b[0m\u001b[0;34m:\u001b[0m\u001b[0;34m\u001b[0m\u001b[0;34m\u001b[0m\u001b[0m\n",
      "\u001b[0;32m~/miniconda3/lib/python3.9/site-packages/torch/nn/functional.py\u001b[0m in \u001b[0;36m_max_pool2d\u001b[0;34m(input, kernel_size, stride, padding, dilation, ceil_mode, return_indices)\u001b[0m\n\u001b[1;32m    717\u001b[0m     \u001b[0;32mif\u001b[0m \u001b[0mstride\u001b[0m \u001b[0;32mis\u001b[0m \u001b[0;32mNone\u001b[0m\u001b[0;34m:\u001b[0m\u001b[0;34m\u001b[0m\u001b[0;34m\u001b[0m\u001b[0m\n\u001b[1;32m    718\u001b[0m         \u001b[0mstride\u001b[0m \u001b[0;34m=\u001b[0m \u001b[0mtorch\u001b[0m\u001b[0;34m.\u001b[0m\u001b[0mjit\u001b[0m\u001b[0;34m.\u001b[0m\u001b[0mannotate\u001b[0m\u001b[0;34m(\u001b[0m\u001b[0mList\u001b[0m\u001b[0;34m[\u001b[0m\u001b[0mint\u001b[0m\u001b[0;34m]\u001b[0m\u001b[0;34m,\u001b[0m \u001b[0;34m[\u001b[0m\u001b[0;34m]\u001b[0m\u001b[0;34m)\u001b[0m\u001b[0;34m\u001b[0m\u001b[0;34m\u001b[0m\u001b[0m\n\u001b[0;32m--> 719\u001b[0;31m     \u001b[0;32mreturn\u001b[0m \u001b[0mtorch\u001b[0m\u001b[0;34m.\u001b[0m\u001b[0mmax_pool2d\u001b[0m\u001b[0;34m(\u001b[0m\u001b[0minput\u001b[0m\u001b[0;34m,\u001b[0m \u001b[0mkernel_size\u001b[0m\u001b[0;34m,\u001b[0m \u001b[0mstride\u001b[0m\u001b[0;34m,\u001b[0m \u001b[0mpadding\u001b[0m\u001b[0;34m,\u001b[0m \u001b[0mdilation\u001b[0m\u001b[0;34m,\u001b[0m \u001b[0mceil_mode\u001b[0m\u001b[0;34m)\u001b[0m\u001b[0;34m\u001b[0m\u001b[0;34m\u001b[0m\u001b[0m\n\u001b[0m\u001b[1;32m    720\u001b[0m \u001b[0;34m\u001b[0m\u001b[0m\n\u001b[1;32m    721\u001b[0m \u001b[0;34m\u001b[0m\u001b[0m\n",
      "\u001b[0;31mKeyboardInterrupt\u001b[0m: "
     ]
    }
   ],
   "source": [
    "net = dataset.Network()\n",
    "# opt = torch.optim.Adam(net.parameters(), lr=1e-2)\n",
    "opt = torch.optim.SGD(net.parameters(), lr=1, momentum=0.9)\n",
    "# opt = torch.optim.SGD(net.parameters(), lr=1, momentum=0)\n",
    "v = nn.utils.parameters_to_vector(net.parameters()).detach().requires_grad_()\n",
    "\n",
    "meter_acc = metrics.AverageMeter(keep_verbose_stats=True)\n",
    "meter_loss = metrics.AverageMeter(keep_verbose_stats=True)\n",
    "\n",
    "eps = 1e-2\n",
    "\n",
    "for epoch_idx in range(5):\n",
    "    for x, y in tqdm(ds.dl_train):\n",
    "        f1, v2, s, t = step_epsilon(v, x, y, net, opt, eps)\n",
    "        nv = v\n",
    "        if s>0 and t>0:\n",
    "            nv = v2\n",
    "        g = -(nv-v)\n",
    "        \n",
    "        set_grad(g, net)\n",
    "        opt.step()\n",
    "        opt.zero_grad()\n",
    "        \n",
    "        \n",
    "        \n",
    "        \n",
    "        yp = net(x)\n",
    "        loss = ds.loss_fn(yp, y)\n",
    "        acc = (yp.argmax(dim=-1)==y).sum().item()/len(x)\n",
    "        print(loss.item())\n",
    "\n",
    "        meter_acc.update(acc, len(x))\n",
    "        meter_loss.update(loss.item(), len(x))\n",
    "    \n",
    "data['2mansgd_meter_loss'] = meter_loss\n",
    "data['2mansgd_meter_acc'] = meter_acc"
   ]
  },
  {
   "cell_type": "code",
   "execution_count": null,
   "id": "b9b007f9-44b9-41eb-ac2e-aa8095c0335b",
   "metadata": {},
   "outputs": [],
   "source": []
  },
  {
   "cell_type": "code",
   "execution_count": null,
   "id": "c1c8cc81-e48f-40e8-bb26-c13901602d42",
   "metadata": {},
   "outputs": [],
   "source": []
  },
  {
   "cell_type": "code",
   "execution_count": null,
   "id": "64dcffa2-2d33-43db-a5ba-15c0291b68bc",
   "metadata": {},
   "outputs": [],
   "source": []
  },
  {
   "cell_type": "code",
   "execution_count": null,
   "id": "06e4e939-75a9-4766-8158-b450b1d7a78a",
   "metadata": {},
   "outputs": [],
   "source": []
  },
  {
   "cell_type": "code",
   "execution_count": null,
   "id": "metallic-gibraltar",
   "metadata": {},
   "outputs": [],
   "source": []
  },
  {
   "cell_type": "code",
   "execution_count": null,
   "id": "worldwide-membrane",
   "metadata": {},
   "outputs": [],
   "source": []
  },
  {
   "cell_type": "markdown",
   "id": "18bc4a15-a37a-4ffa-9d6e-35accf32d50e",
   "metadata": {},
   "source": [
    "# TODO: sample noise not randomly, but towards negative grad\n",
    "\n",
    "# TODO: ignore intersection if line s or t values are negative\n",
    "# (this means go away from the negative grad)"
   ]
  },
  {
   "cell_type": "code",
   "execution_count": null,
   "id": "choice-education",
   "metadata": {},
   "outputs": [],
   "source": []
  },
  {
   "cell_type": "code",
   "execution_count": null,
   "id": "assured-yemen",
   "metadata": {},
   "outputs": [],
   "source": []
  }
 ],
 "metadata": {
  "kernelspec": {
   "display_name": "Python 3 (ipykernel)",
   "language": "python",
   "name": "python3"
  },
  "language_info": {
   "codemirror_mode": {
    "name": "ipython",
    "version": 3
   },
   "file_extension": ".py",
   "mimetype": "text/x-python",
   "name": "python",
   "nbconvert_exporter": "python",
   "pygments_lexer": "ipython3",
   "version": "3.9.5"
  }
 },
 "nbformat": 4,
 "nbformat_minor": 5
}
