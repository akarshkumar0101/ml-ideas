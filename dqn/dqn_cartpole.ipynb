{
 "cells": [
  {
   "cell_type": "code",
   "execution_count": 1,
   "id": "increasing-mixer",
   "metadata": {},
   "outputs": [],
   "source": [
    "import numpy as np\n",
    "import random\n",
    "import torch\n",
    "import gym\n",
    "import matplotlib.pyplot as plt\n",
    "import copy\n",
    "\n",
    "from tqdm.notebook import tqdm"
   ]
  },
  {
   "cell_type": "code",
   "execution_count": 2,
   "id": "affected-girlfriend",
   "metadata": {},
   "outputs": [],
   "source": [
    "class DQNAgent():\n",
    "    def __init__(self):\n",
    "        self.q_net = torch.nn.Sequential(*[\n",
    "                                            torch.nn.Linear(4,64),\n",
    "                                            torch.nn.Tanh(),\n",
    "                                            torch.nn.Linear(64, 2),\n",
    "                                           ])\n",
    "        self.target_net = copy.deepcopy(self.q_net)\n",
    "        \n",
    "        self.replay_mem = []\n",
    "        \n",
    "        self.sync_freq_i = 0\n",
    "        \n",
    "        self.opt = torch.optim.Adam(self.q_net.parameters(), lr=0.01)\n",
    "        \n",
    "    def add_experience(self, s, a, r, ns):\n",
    "        self.replay_mem.append((s, a, r, ns))\n",
    "        self.replay_mem = self.replay_mem[-256:]\n",
    "        \n",
    "    def train(self):\n",
    "        self.sync_freq_i += 1\n",
    "        if self.sync_freq_i%5==0:\n",
    "            self.target_net.load_state_dict(self.q_net.state_dict())\n",
    "\n",
    "        batch = random.sample(self.replay_mem, 16)\n",
    "        s_batch, a_batch, r_batch, ns_batch = [], [], [], []\n",
    "        for t in batch:\n",
    "            s, a, r, ns = t\n",
    "            s_batch.append(s)\n",
    "            a_batch.append(a)\n",
    "            r_batch.append(r)\n",
    "            ns_batch.append(ns)\n",
    "\n",
    "        s_batch = torch.from_numpy(np.stack(s_batch)).float()\n",
    "        a_batch = torch.from_numpy(np.stack(a_batch)).long()\n",
    "        r_batch = torch.from_numpy(np.stack(r_batch)).float()\n",
    "        ns_batch = torch.from_numpy(np.stack(ns_batch)).float()\n",
    "\n",
    "        s_val = self.q_net(s_batch)\n",
    "        s_val = s_val[torch.arange(len(a_batch)), a_batch]\n",
    "        ns_val, ns_a = self.target_net(ns_batch).max(dim=-1)\n",
    "\n",
    "        loss = (s_val - (r_batch+gamma*ns_val)).pow(2).mean()\n",
    "        self.opt.zero_grad()\n",
    "        loss.backward(retain_graph=True)\n",
    "        self.opt.step()\n",
    "        \n",
    "    \n",
    "    def get_action(self, state):\n",
    "        Q, A = self.q_net(torch.from_numpy(state).float()[None, :])[0, :].max(dim=-1)\n",
    "        return A.item()\n",
    "        \n",
    "agent = DQNAgent()"
   ]
  },
  {
   "cell_type": "code",
   "execution_count": 3,
   "id": "champion-kitty",
   "metadata": {},
   "outputs": [
    {
     "name": "stdout",
     "output_type": "stream",
     "text": [
      "250\n",
      "22.309236947791163  -------- eps:  0.9524000000000052\n",
      "500\n",
      "22.844  -------- eps:  0.9024000000000107\n",
      "750\n",
      "23.38  -------- eps:  0.8524000000000163\n",
      "1000\n",
      "24.972  -------- eps:  0.8024000000000218\n",
      "1250\n",
      "24.864  -------- eps:  0.7524000000000273\n",
      "1500\n",
      "28.612  -------- eps:  0.7024000000000328\n",
      "1750\n",
      "27.32  -------- eps:  0.6524000000000383\n",
      "2000\n",
      "30.832  -------- eps:  0.6024000000000438\n",
      "2250\n",
      "34.516  -------- eps:  0.5524000000000493\n",
      "2500\n",
      "48.808  -------- eps:  0.5024000000000548\n",
      "2750\n",
      "58.268  -------- eps:  0.4524000000000603\n",
      "3000\n",
      "54.056  -------- eps:  0.4024000000000658\n",
      "3250\n",
      "18.748  -------- eps:  0.3524000000000713\n",
      "3500\n",
      "86.204  -------- eps:  0.30240000000007683\n",
      "3750\n",
      "54.964  -------- eps:  0.25240000000008234\n",
      "4000\n",
      "29.568  -------- eps:  0.20240000000008124\n",
      "4250\n",
      "32.04  -------- eps:  0.1524000000000798\n",
      "4500\n",
      "42.108  -------- eps:  0.10240000000007837\n",
      "4750\n",
      "72.544  -------- eps:  0.052400000000077294\n",
      "5000\n",
      "66.668  -------- eps:  0.0024000000000775016\n",
      "5250\n",
      "34.892  -------- eps:  -0.00019999999992249902\n",
      "5500\n",
      "71.98  -------- eps:  -0.00019999999992249902\n",
      "5750\n",
      "37.104  -------- eps:  -0.00019999999992249902\n",
      "6000\n",
      "55.396  -------- eps:  -0.00019999999992249902\n",
      "6250\n",
      "105.6  -------- eps:  -0.00019999999992249902\n",
      "6500\n",
      "82.576  -------- eps:  -0.00019999999992249902\n",
      "6750\n",
      "38.764  -------- eps:  -0.00019999999992249902\n",
      "7000\n",
      "91.212  -------- eps:  -0.00019999999992249902\n",
      "7250\n",
      "67.56  -------- eps:  -0.00019999999992249902\n",
      "7500\n",
      "109.472  -------- eps:  -0.00019999999992249902\n",
      "7750\n",
      "43.268  -------- eps:  -0.00019999999992249902\n",
      "8000\n",
      "63.272  -------- eps:  -0.00019999999992249902\n",
      "8250\n",
      "62.396  -------- eps:  -0.00019999999992249902\n",
      "8500\n",
      "46.964  -------- eps:  -0.00019999999992249902\n",
      "8750\n",
      "63.46  -------- eps:  -0.00019999999992249902\n",
      "9000\n",
      "25.532  -------- eps:  -0.00019999999992249902\n",
      "9250\n",
      "36.864  -------- eps:  -0.00019999999992249902\n",
      "9500\n",
      "43.372  -------- eps:  -0.00019999999992249902\n",
      "9750\n",
      "42.312  -------- eps:  -0.00019999999992249902\n"
     ]
    }
   ],
   "source": [
    "env = gym.make('CartPole-v0')\n",
    "\n",
    "gamma = 0.95\n",
    "epsilon = 1\n",
    "\n",
    "train_actions = []\n",
    "train_episode_len = []\n",
    "train_epsilons = []\n",
    "\n",
    "global_t = 0\n",
    "for i_episode in range(1, 10000):\n",
    "    s = env.reset()\n",
    "    actions = []\n",
    "    for t in range(200):\n",
    "        global_t += 1\n",
    "#         env.render()\n",
    "\n",
    "        if np.random.uniform()<epsilon:\n",
    "            a = env.action_space.sample()\n",
    "        else:\n",
    "            a = agent.get_action(s)\n",
    "        actions.append(a)\n",
    "        \n",
    "        ns, r, done, info = env.step(a)\n",
    "        \n",
    "        agent.add_experience(s, a, r, ns)\n",
    "        \n",
    "        if global_t%128==0 and len(agent.replay_mem)>=256:\n",
    "            for _ in range(4):\n",
    "                agent.train()\n",
    "        \n",
    "        s = ns\n",
    "        if done:\n",
    "            break\n",
    "            \n",
    "    if epsilon>0.00 and len(agent.replay_mem)>=256:\n",
    "#         epsilon = epsilon* .999\n",
    "        epsilon -= (1/5000)\n",
    "            \n",
    "    if i_episode%250 == 0:\n",
    "        print(i_episode)\n",
    "        print(np.array(train_episode_len)[-250:].mean(), ' -------- eps: ',epsilon)\n",
    "    \n",
    "    train_actions.append(np.array(actions).mean())\n",
    "    train_episode_len.append(t+1)\n",
    "    train_epsilons.append(epsilon)\n",
    "env.close()"
   ]
  },
  {
   "cell_type": "code",
   "execution_count": 4,
   "id": "several-effectiveness",
   "metadata": {},
   "outputs": [
    {
     "data": {
      "image/png": "[encoded data removed]",
      "text/plain": [
       "<Figure size 432x288 with 1 Axes>"
      ]
     },
     "metadata": {
      "needs_background": "light"
     },
     "output_type": "display_data"
    },
    {
     "data": {
      "image/png": "[encoded data removed]",
      "text/plain": [
       "<Figure size 432x288 with 1 Axes>"
      ]
     },
     "metadata": {
      "needs_background": "light"
     },
     "output_type": "display_data"
    }
   ],
   "source": [
    "plt.plot(train_actions)\n",
    "plt.plot(train_epsilons)\n",
    "plt.show()\n",
    "plt.plot(train_episode_len)\n",
    "plt.show()"
   ]
  },
  {
   "cell_type": "code",
   "execution_count": null,
   "id": "aware-phase",
   "metadata": {},
   "outputs": [],
   "source": []
  },
  {
   "cell_type": "code",
   "execution_count": null,
   "id": "valuable-silly",
   "metadata": {},
   "outputs": [],
   "source": []
  },
  {
   "cell_type": "code",
   "execution_count": null,
   "id": "partial-carry",
   "metadata": {},
   "outputs": [],
   "source": []
  },
  {
   "cell_type": "code",
   "execution_count": null,
   "id": "lucky-silence",
   "metadata": {},
   "outputs": [],
   "source": []
  },
  {
   "cell_type": "code",
   "execution_count": null,
   "id": "behavioral-entry",
   "metadata": {},
   "outputs": [],
   "source": []
  },
  {
   "cell_type": "code",
   "execution_count": null,
   "id": "primary-helping",
   "metadata": {},
   "outputs": [],
   "source": []
  },
  {
   "cell_type": "code",
   "execution_count": null,
   "id": "afraid-architecture",
   "metadata": {},
   "outputs": [],
   "source": [
    "print(env.action_space)\n",
    "#> Discrete(2)\n",
    "print(env.observation_space)\n"
   ]
  },
  {
   "cell_type": "code",
   "execution_count": null,
   "id": "absolute-container",
   "metadata": {},
   "outputs": [],
   "source": []
  },
  {
   "cell_type": "code",
   "execution_count": null,
   "id": "regulated-spending",
   "metadata": {},
   "outputs": [],
   "source": []
  }
 ],
 "metadata": {
  "kernelspec": {
   "display_name": "Python 3",
   "language": "python",
   "name": "python3"
  },
  "language_info": {
   "codemirror_mode": {
    "name": "ipython",
    "version": 3
   },
   "file_extension": ".py",
   "mimetype": "text/x-python",
   "name": "python",
   "nbconvert_exporter": "python",
   "pygments_lexer": "ipython3",
   "version": "3.8.2"
  }
 },
 "nbformat": 4,
 "nbformat_minor": 5
}
