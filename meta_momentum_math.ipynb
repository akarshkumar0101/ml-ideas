{
 "cells": [
  {
   "cell_type": "code",
   "execution_count": 2,
   "id": "49deecb5-8d93-4fa5-beb6-6e905d4463d1",
   "metadata": {},
   "outputs": [],
   "source": [
    "from sympy import *"
   ]
  },
  {
   "cell_type": "code",
   "execution_count": 80,
   "id": "9bcf3312-e198-47c3-9d9e-7cc23768195d",
   "metadata": {},
   "outputs": [],
   "source": [
    "time_steps = 10"
   ]
  },
  {
   "cell_type": "code",
   "execution_count": 81,
   "id": "91587943-0a71-46b8-8d83-bf6aa0bdbbdc",
   "metadata": {},
   "outputs": [],
   "source": [
    "gamma, mu_0, theta_0, b_0 = symbols('gamma, mu_0, theta_0, b_0')\n",
    "gamma_mu = symbols('gamma_mu')\n",
    "mus = [mu_0]\n",
    "thetas = [theta_0]\n",
    "bs = [b_0]"
   ]
  },
  {
   "cell_type": "code",
   "execution_count": 82,
   "id": "43330c3b-a854-4b16-9e29-1eb84d225902",
   "metadata": {},
   "outputs": [
    {
     "data": {
      "text/plain": [
       "[g_0, g_1, g_2, g_3, g_4, g_5, g_6, g_7, g_8, g_9]"
      ]
     },
     "execution_count": 82,
     "metadata": {},
     "output_type": "execute_result"
    }
   ],
   "source": [
    "gs = [symbols(f'g_{i}') for i in range(time_steps)]\n",
    "gs"
   ]
  },
  {
   "cell_type": "code",
   "execution_count": 83,
   "id": "5b26a606-bcce-4daa-85b6-e0ed91030954",
   "metadata": {},
   "outputs": [],
   "source": [
    "for t in range(1, time_steps):\n",
    "    b_t = gs[t]+mus[t-1]*bs[t-1]\n",
    "    bs.append(b_t)\n",
    "    theta_t = thetas[t-1]-gamma_mu*bs[t]\n",
    "    thetas.append(theta_t)\n",
    "    \n",
    "    mu_t = mus[t-1]\n",
    "    mus.append(mu_t)"
   ]
  },
  {
   "cell_type": "code",
   "execution_count": 84,
   "id": "617e0a1d-c580-4c9c-8fe9-1ebda0800807",
   "metadata": {},
   "outputs": [],
   "source": [
    "ds = [diff(theta_i, mu_0) for theta_i in thetas]"
   ]
  },
  {
   "cell_type": "code",
   "execution_count": 85,
   "id": "d38b1c64-1c50-42fd-88e6-a7c7825e7584",
   "metadata": {},
   "outputs": [
    {
     "data": {
      "text/latex": [
       "$\\displaystyle - 2 g_{1} \\gamma_{\\mu} \\mu_{0} - g_{1} \\gamma_{\\mu} - g_{2} \\gamma_{\\mu}$"
      ],
      "text/plain": [
       "-2*g_1*gamma_mu*mu_0 - g_1*gamma_mu - g_2*gamma_mu"
      ]
     },
     "execution_count": 85,
     "metadata": {},
     "output_type": "execute_result"
    }
   ],
   "source": [
    "ds[3].subs(b_0, 0).expand()"
   ]
  },
  {
   "cell_type": "code",
   "execution_count": 86,
   "id": "a94c7eb6-9923-48c1-b5a5-fbc0001c4cd5",
   "metadata": {},
   "outputs": [
    {
     "data": {
      "text/latex": [
       "$\\displaystyle - 3 g_{1} \\gamma_{\\mu} \\mu_{0}^{2} - 2 g_{1} \\gamma_{\\mu} \\mu_{0} - g_{1} \\gamma_{\\mu} - 2 g_{2} \\gamma_{\\mu} \\mu_{0} - g_{2} \\gamma_{\\mu} - g_{3} \\gamma_{\\mu}$"
      ],
      "text/plain": [
       "-3*g_1*gamma_mu*mu_0**2 - 2*g_1*gamma_mu*mu_0 - g_1*gamma_mu - 2*g_2*gamma_mu*mu_0 - g_2*gamma_mu - g_3*gamma_mu"
      ]
     },
     "execution_count": 86,
     "metadata": {},
     "output_type": "execute_result"
    }
   ],
   "source": [
    "ds[4].subs(b_0, 0).expand()"
   ]
  },
  {
   "cell_type": "code",
   "execution_count": 87,
   "id": "d7644e33-8756-42b1-bed2-d1ffc391962b",
   "metadata": {},
   "outputs": [
    {
     "data": {
      "text/latex": [
       "$\\displaystyle - 4 g_{1} \\gamma_{\\mu} \\mu_{0}^{3} - 3 g_{1} \\gamma_{\\mu} \\mu_{0}^{2} - 2 g_{1} \\gamma_{\\mu} \\mu_{0} - g_{1} \\gamma_{\\mu} - 3 g_{2} \\gamma_{\\mu} \\mu_{0}^{2} - 2 g_{2} \\gamma_{\\mu} \\mu_{0} - g_{2} \\gamma_{\\mu} - 2 g_{3} \\gamma_{\\mu} \\mu_{0} - g_{3} \\gamma_{\\mu} - g_{4} \\gamma_{\\mu}$"
      ],
      "text/plain": [
       "-4*g_1*gamma_mu*mu_0**3 - 3*g_1*gamma_mu*mu_0**2 - 2*g_1*gamma_mu*mu_0 - g_1*gamma_mu - 3*g_2*gamma_mu*mu_0**2 - 2*g_2*gamma_mu*mu_0 - g_2*gamma_mu - 2*g_3*gamma_mu*mu_0 - g_3*gamma_mu - g_4*gamma_mu"
      ]
     },
     "execution_count": 87,
     "metadata": {},
     "output_type": "execute_result"
    }
   ],
   "source": [
    "ds[5].subs(b_0, 0).expand()"
   ]
  },
  {
   "cell_type": "code",
   "execution_count": 88,
   "id": "ce23f842-e170-470e-8802-0c5005a4d242",
   "metadata": {},
   "outputs": [
    {
     "data": {
      "text/latex": [
       "$\\displaystyle - 5 g_{1} \\gamma_{\\mu} \\mu_{0}^{4} - 4 g_{1} \\gamma_{\\mu} \\mu_{0}^{3} - 3 g_{1} \\gamma_{\\mu} \\mu_{0}^{2} - 2 g_{1} \\gamma_{\\mu} \\mu_{0} - g_{1} \\gamma_{\\mu} - 4 g_{2} \\gamma_{\\mu} \\mu_{0}^{3} - 3 g_{2} \\gamma_{\\mu} \\mu_{0}^{2} - 2 g_{2} \\gamma_{\\mu} \\mu_{0} - g_{2} \\gamma_{\\mu} - 3 g_{3} \\gamma_{\\mu} \\mu_{0}^{2} - 2 g_{3} \\gamma_{\\mu} \\mu_{0} - g_{3} \\gamma_{\\mu} - 2 g_{4} \\gamma_{\\mu} \\mu_{0} - g_{4} \\gamma_{\\mu} - g_{5} \\gamma_{\\mu}$"
      ],
      "text/plain": [
       "-5*g_1*gamma_mu*mu_0**4 - 4*g_1*gamma_mu*mu_0**3 - 3*g_1*gamma_mu*mu_0**2 - 2*g_1*gamma_mu*mu_0 - g_1*gamma_mu - 4*g_2*gamma_mu*mu_0**3 - 3*g_2*gamma_mu*mu_0**2 - 2*g_2*gamma_mu*mu_0 - g_2*gamma_mu - 3*g_3*gamma_mu*mu_0**2 - 2*g_3*gamma_mu*mu_0 - g_3*gamma_mu - 2*g_4*gamma_mu*mu_0 - g_4*gamma_mu - g_5*gamma_mu"
      ]
     },
     "execution_count": 88,
     "metadata": {},
     "output_type": "execute_result"
    }
   ],
   "source": [
    "ds[6].subs(b_0, 0).expand()"
   ]
  },
  {
   "cell_type": "code",
   "execution_count": 89,
   "id": "836a78c7-de5d-48a6-868b-172b81618abe",
   "metadata": {},
   "outputs": [
    {
     "data": {
      "text/latex": [
       "$\\displaystyle - b_{0} \\gamma_{\\mu} - \\gamma_{\\mu} \\left(2 b_{0} \\mu_{0} + g_{1}\\right) - \\gamma_{\\mu} \\left(g_{2} + \\mu_{0} \\left(b_{0} \\mu_{0} + g_{1}\\right) + \\mu_{0} \\left(2 b_{0} \\mu_{0} + g_{1}\\right)\\right) - \\gamma_{\\mu} \\left(g_{3} + \\mu_{0} \\left(g_{2} + \\mu_{0} \\left(b_{0} \\mu_{0} + g_{1}\\right)\\right) + \\mu_{0} \\left(g_{2} + \\mu_{0} \\left(b_{0} \\mu_{0} + g_{1}\\right) + \\mu_{0} \\left(2 b_{0} \\mu_{0} + g_{1}\\right)\\right)\\right) - \\gamma_{\\mu} \\left(g_{4} + \\mu_{0} \\left(g_{3} + \\mu_{0} \\left(g_{2} + \\mu_{0} \\left(b_{0} \\mu_{0} + g_{1}\\right)\\right)\\right) + \\mu_{0} \\left(g_{3} + \\mu_{0} \\left(g_{2} + \\mu_{0} \\left(b_{0} \\mu_{0} + g_{1}\\right)\\right) + \\mu_{0} \\left(g_{2} + \\mu_{0} \\left(b_{0} \\mu_{0} + g_{1}\\right) + \\mu_{0} \\left(2 b_{0} \\mu_{0} + g_{1}\\right)\\right)\\right)\\right) - \\gamma_{\\mu} \\left(g_{5} + \\mu_{0} \\left(g_{4} + \\mu_{0} \\left(g_{3} + \\mu_{0} \\left(g_{2} + \\mu_{0} \\left(b_{0} \\mu_{0} + g_{1}\\right)\\right)\\right)\\right) + \\mu_{0} \\left(g_{4} + \\mu_{0} \\left(g_{3} + \\mu_{0} \\left(g_{2} + \\mu_{0} \\left(b_{0} \\mu_{0} + g_{1}\\right)\\right)\\right) + \\mu_{0} \\left(g_{3} + \\mu_{0} \\left(g_{2} + \\mu_{0} \\left(b_{0} \\mu_{0} + g_{1}\\right)\\right) + \\mu_{0} \\left(g_{2} + \\mu_{0} \\left(b_{0} \\mu_{0} + g_{1}\\right) + \\mu_{0} \\left(2 b_{0} \\mu_{0} + g_{1}\\right)\\right)\\right)\\right)\\right) - \\gamma_{\\mu} \\left(g_{6} + \\mu_{0} \\left(g_{5} + \\mu_{0} \\left(g_{4} + \\mu_{0} \\left(g_{3} + \\mu_{0} \\left(g_{2} + \\mu_{0} \\left(b_{0} \\mu_{0} + g_{1}\\right)\\right)\\right)\\right)\\right) + \\mu_{0} \\left(g_{5} + \\mu_{0} \\left(g_{4} + \\mu_{0} \\left(g_{3} + \\mu_{0} \\left(g_{2} + \\mu_{0} \\left(b_{0} \\mu_{0} + g_{1}\\right)\\right)\\right)\\right) + \\mu_{0} \\left(g_{4} + \\mu_{0} \\left(g_{3} + \\mu_{0} \\left(g_{2} + \\mu_{0} \\left(b_{0} \\mu_{0} + g_{1}\\right)\\right)\\right) + \\mu_{0} \\left(g_{3} + \\mu_{0} \\left(g_{2} + \\mu_{0} \\left(b_{0} \\mu_{0} + g_{1}\\right)\\right) + \\mu_{0} \\left(g_{2} + \\mu_{0} \\left(b_{0} \\mu_{0} + g_{1}\\right) + \\mu_{0} \\left(2 b_{0} \\mu_{0} + g_{1}\\right)\\right)\\right)\\right)\\right)\\right) - \\gamma_{\\mu} \\left(g_{7} + \\mu_{0} \\left(g_{6} + \\mu_{0} \\left(g_{5} + \\mu_{0} \\left(g_{4} + \\mu_{0} \\left(g_{3} + \\mu_{0} \\left(g_{2} + \\mu_{0} \\left(b_{0} \\mu_{0} + g_{1}\\right)\\right)\\right)\\right)\\right)\\right) + \\mu_{0} \\left(g_{6} + \\mu_{0} \\left(g_{5} + \\mu_{0} \\left(g_{4} + \\mu_{0} \\left(g_{3} + \\mu_{0} \\left(g_{2} + \\mu_{0} \\left(b_{0} \\mu_{0} + g_{1}\\right)\\right)\\right)\\right)\\right) + \\mu_{0} \\left(g_{5} + \\mu_{0} \\left(g_{4} + \\mu_{0} \\left(g_{3} + \\mu_{0} \\left(g_{2} + \\mu_{0} \\left(b_{0} \\mu_{0} + g_{1}\\right)\\right)\\right)\\right) + \\mu_{0} \\left(g_{4} + \\mu_{0} \\left(g_{3} + \\mu_{0} \\left(g_{2} + \\mu_{0} \\left(b_{0} \\mu_{0} + g_{1}\\right)\\right)\\right) + \\mu_{0} \\left(g_{3} + \\mu_{0} \\left(g_{2} + \\mu_{0} \\left(b_{0} \\mu_{0} + g_{1}\\right)\\right) + \\mu_{0} \\left(g_{2} + \\mu_{0} \\left(b_{0} \\mu_{0} + g_{1}\\right) + \\mu_{0} \\left(2 b_{0} \\mu_{0} + g_{1}\\right)\\right)\\right)\\right)\\right)\\right)\\right) - \\gamma_{\\mu} \\left(g_{8} + \\mu_{0} \\left(g_{7} + \\mu_{0} \\left(g_{6} + \\mu_{0} \\left(g_{5} + \\mu_{0} \\left(g_{4} + \\mu_{0} \\left(g_{3} + \\mu_{0} \\left(g_{2} + \\mu_{0} \\left(b_{0} \\mu_{0} + g_{1}\\right)\\right)\\right)\\right)\\right)\\right)\\right) + \\mu_{0} \\left(g_{7} + \\mu_{0} \\left(g_{6} + \\mu_{0} \\left(g_{5} + \\mu_{0} \\left(g_{4} + \\mu_{0} \\left(g_{3} + \\mu_{0} \\left(g_{2} + \\mu_{0} \\left(b_{0} \\mu_{0} + g_{1}\\right)\\right)\\right)\\right)\\right)\\right) + \\mu_{0} \\left(g_{6} + \\mu_{0} \\left(g_{5} + \\mu_{0} \\left(g_{4} + \\mu_{0} \\left(g_{3} + \\mu_{0} \\left(g_{2} + \\mu_{0} \\left(b_{0} \\mu_{0} + g_{1}\\right)\\right)\\right)\\right)\\right) + \\mu_{0} \\left(g_{5} + \\mu_{0} \\left(g_{4} + \\mu_{0} \\left(g_{3} + \\mu_{0} \\left(g_{2} + \\mu_{0} \\left(b_{0} \\mu_{0} + g_{1}\\right)\\right)\\right)\\right) + \\mu_{0} \\left(g_{4} + \\mu_{0} \\left(g_{3} + \\mu_{0} \\left(g_{2} + \\mu_{0} \\left(b_{0} \\mu_{0} + g_{1}\\right)\\right)\\right) + \\mu_{0} \\left(g_{3} + \\mu_{0} \\left(g_{2} + \\mu_{0} \\left(b_{0} \\mu_{0} + g_{1}\\right)\\right) + \\mu_{0} \\left(g_{2} + \\mu_{0} \\left(b_{0} \\mu_{0} + g_{1}\\right) + \\mu_{0} \\left(2 b_{0} \\mu_{0} + g_{1}\\right)\\right)\\right)\\right)\\right)\\right)\\right)\\right)$"
      ],
      "text/plain": [
       "-b_0*gamma_mu - gamma_mu*(2*b_0*mu_0 + g_1) - gamma_mu*(g_2 + mu_0*(b_0*mu_0 + g_1) + mu_0*(2*b_0*mu_0 + g_1)) - gamma_mu*(g_3 + mu_0*(g_2 + mu_0*(b_0*mu_0 + g_1)) + mu_0*(g_2 + mu_0*(b_0*mu_0 + g_1) + mu_0*(2*b_0*mu_0 + g_1))) - gamma_mu*(g_4 + mu_0*(g_3 + mu_0*(g_2 + mu_0*(b_0*mu_0 + g_1))) + mu_0*(g_3 + mu_0*(g_2 + mu_0*(b_0*mu_0 + g_1)) + mu_0*(g_2 + mu_0*(b_0*mu_0 + g_1) + mu_0*(2*b_0*mu_0 + g_1)))) - gamma_mu*(g_5 + mu_0*(g_4 + mu_0*(g_3 + mu_0*(g_2 + mu_0*(b_0*mu_0 + g_1)))) + mu_0*(g_4 + mu_0*(g_3 + mu_0*(g_2 + mu_0*(b_0*mu_0 + g_1))) + mu_0*(g_3 + mu_0*(g_2 + mu_0*(b_0*mu_0 + g_1)) + mu_0*(g_2 + mu_0*(b_0*mu_0 + g_1) + mu_0*(2*b_0*mu_0 + g_1))))) - gamma_mu*(g_6 + mu_0*(g_5 + mu_0*(g_4 + mu_0*(g_3 + mu_0*(g_2 + mu_0*(b_0*mu_0 + g_1))))) + mu_0*(g_5 + mu_0*(g_4 + mu_0*(g_3 + mu_0*(g_2 + mu_0*(b_0*mu_0 + g_1)))) + mu_0*(g_4 + mu_0*(g_3 + mu_0*(g_2 + mu_0*(b_0*mu_0 + g_1))) + mu_0*(g_3 + mu_0*(g_2 + mu_0*(b_0*mu_0 + g_1)) + mu_0*(g_2 + mu_0*(b_0*mu_0 + g_1) + mu_0*(2*b_0*mu_0 + g_1)))))) - gamma_mu*(g_7 + mu_0*(g_6 + mu_0*(g_5 + mu_0*(g_4 + mu_0*(g_3 + mu_0*(g_2 + mu_0*(b_0*mu_0 + g_1)))))) + mu_0*(g_6 + mu_0*(g_5 + mu_0*(g_4 + mu_0*(g_3 + mu_0*(g_2 + mu_0*(b_0*mu_0 + g_1))))) + mu_0*(g_5 + mu_0*(g_4 + mu_0*(g_3 + mu_0*(g_2 + mu_0*(b_0*mu_0 + g_1)))) + mu_0*(g_4 + mu_0*(g_3 + mu_0*(g_2 + mu_0*(b_0*mu_0 + g_1))) + mu_0*(g_3 + mu_0*(g_2 + mu_0*(b_0*mu_0 + g_1)) + mu_0*(g_2 + mu_0*(b_0*mu_0 + g_1) + mu_0*(2*b_0*mu_0 + g_1))))))) - gamma_mu*(g_8 + mu_0*(g_7 + mu_0*(g_6 + mu_0*(g_5 + mu_0*(g_4 + mu_0*(g_3 + mu_0*(g_2 + mu_0*(b_0*mu_0 + g_1))))))) + mu_0*(g_7 + mu_0*(g_6 + mu_0*(g_5 + mu_0*(g_4 + mu_0*(g_3 + mu_0*(g_2 + mu_0*(b_0*mu_0 + g_1)))))) + mu_0*(g_6 + mu_0*(g_5 + mu_0*(g_4 + mu_0*(g_3 + mu_0*(g_2 + mu_0*(b_0*mu_0 + g_1))))) + mu_0*(g_5 + mu_0*(g_4 + mu_0*(g_3 + mu_0*(g_2 + mu_0*(b_0*mu_0 + g_1)))) + mu_0*(g_4 + mu_0*(g_3 + mu_0*(g_2 + mu_0*(b_0*mu_0 + g_1))) + mu_0*(g_3 + mu_0*(g_2 + mu_0*(b_0*mu_0 + g_1)) + mu_0*(g_2 + mu_0*(b_0*mu_0 + g_1) + mu_0*(2*b_0*mu_0 + g_1))))))))"
      ]
     },
     "execution_count": 89,
     "metadata": {},
     "output_type": "execute_result"
    }
   ],
   "source": [
    "ds[9]"
   ]
  },
  {
   "cell_type": "code",
   "execution_count": null,
   "id": "367335c7-00ae-4a86-ba62-602c9d360ded",
   "metadata": {},
   "outputs": [],
   "source": []
  },
  {
   "cell_type": "code",
   "execution_count": null,
   "id": "df70f7d1-3c7c-47e8-954e-4899c192b1e8",
   "metadata": {},
   "outputs": [],
   "source": []
  },
  {
   "cell_type": "code",
   "execution_count": null,
   "id": "41fae3ab-3789-41d3-9157-f9fef84ff2a4",
   "metadata": {},
   "outputs": [],
   "source": []
  },
  {
   "cell_type": "code",
   "execution_count": null,
   "id": "2ceb1394-cf90-4f42-8d3e-64535e5bb707",
   "metadata": {},
   "outputs": [],
   "source": []
  },
  {
   "cell_type": "markdown",
   "id": "9a0d8f2d-496c-4e26-8be4-c879c050b3a0",
   "metadata": {},
   "source": [
    "$b_{t} = g_t + \\mu b_{t-1} = \\mu^0 g_t + \\mu^1 g_{t-1} + \\mu^2 g_{t-2} + \\mu^3 g_{t-3} + \\dots + \\mu^{t} g_0 = \\sum_{i=0}^{t} \\mu^{i} g_{t-i}$"
   ]
  },
  {
   "cell_type": "markdown",
   "id": "54236368-bffa-4951-b123-e873644550c0",
   "metadata": {},
   "source": [
    "$ \\theta_t = \\theta_{t-1} - \\gamma b_{t} = \\theta_{t-1} - \\gamma g_t - \\gamma \\mu b_{t-1} = $\n",
    "$ \\theta_{t-2} - \\gamma g_{t-1} - \\gamma \\mu b_{t-2} - \\gamma g_t - \\gamma \\mu b_{t-1} $"
   ]
  },
  {
   "cell_type": "code",
   "execution_count": 21,
   "id": "c69a2b20-e0df-4350-8a44-f14cf213dad9",
   "metadata": {},
   "outputs": [],
   "source": [
    "a, b = symbols('a b')"
   ]
  },
  {
   "cell_type": "code",
   "execution_count": null,
   "id": "5208fb73-5132-4b86-92e0-cb95eeeb98fe",
   "metadata": {},
   "outputs": [],
   "source": []
  },
  {
   "cell_type": "code",
   "execution_count": null,
   "id": "596dfec5-4ae4-43a5-bce4-a92d2e884824",
   "metadata": {},
   "outputs": [],
   "source": []
  },
  {
   "cell_type": "code",
   "execution_count": null,
   "id": "5fe0ee0f-0fe8-43b6-b38e-ce5cc7d7ddf7",
   "metadata": {},
   "outputs": [],
   "source": []
  },
  {
   "cell_type": "code",
   "execution_count": null,
   "id": "f87bc77e-963c-4cfe-984f-b62fe9628385",
   "metadata": {},
   "outputs": [],
   "source": []
  },
  {
   "cell_type": "code",
   "execution_count": null,
   "id": "f8239ad3-c061-4093-a323-f2d970884b95",
   "metadata": {},
   "outputs": [],
   "source": []
  },
  {
   "cell_type": "code",
   "execution_count": null,
   "id": "358958de-f1e7-403e-a21c-0179b210a8c9",
   "metadata": {},
   "outputs": [],
   "source": []
  },
  {
   "cell_type": "code",
   "execution_count": null,
   "id": "79e736f9-b35d-4d47-9782-d83bde201c82",
   "metadata": {},
   "outputs": [],
   "source": []
  },
  {
   "cell_type": "code",
   "execution_count": null,
   "id": "593be15a-d40e-4b12-b8f5-43daf595ebf0",
   "metadata": {},
   "outputs": [],
   "source": []
  },
  {
   "cell_type": "code",
   "execution_count": null,
   "id": "24937727-67ac-4ff7-8b99-88ee0ed63bd9",
   "metadata": {},
   "outputs": [],
   "source": []
  },
  {
   "cell_type": "code",
   "execution_count": null,
   "id": "8cfd88fd-b617-4768-b747-218610e12ed5",
   "metadata": {},
   "outputs": [],
   "source": []
  }
 ],
 "metadata": {
  "kernelspec": {
   "display_name": "Python 3 (ipykernel)",
   "language": "python",
   "name": "python3"
  },
  "language_info": {
   "codemirror_mode": {
    "name": "ipython",
    "version": 3
   },
   "file_extension": ".py",
   "mimetype": "text/x-python",
   "name": "python",
   "nbconvert_exporter": "python",
   "pygments_lexer": "ipython3",
   "version": "3.9.5"
  }
 },
 "nbformat": 4,
 "nbformat_minor": 5
}
