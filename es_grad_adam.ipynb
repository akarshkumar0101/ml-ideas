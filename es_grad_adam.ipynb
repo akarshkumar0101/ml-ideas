{
 "cells": [
  {
   "cell_type": "code",
   "execution_count": 1,
   "id": "ef0e028e-0f8a-4802-9a56-6cb6c6cceacf",
   "metadata": {},
   "outputs": [],
   "source": [
    "# ES finds gradient feeds it into Adam"
   ]
  },
  {
   "cell_type": "code",
   "execution_count": 2,
   "id": "f49abe9f-1caf-4c74-98b7-de4b384bdee8",
   "metadata": {},
   "outputs": [],
   "source": [
    "%run imports.py"
   ]
  },
  {
   "cell_type": "code",
   "execution_count": 136,
   "id": "34490186-a82b-4567-9944-45bf8b87c67c",
   "metadata": {},
   "outputs": [],
   "source": [
    "import gym\n",
    "import numpy as np\n",
    "import torch\n",
    "\n",
    "INPUTS = 4\n",
    "HIDDEN = 8\n",
    "OUTPUTS = 2\n",
    "TARGET = 190\n",
    "POPULATION = 5\n",
    "\n",
    "env = gym.make('CartPole-v0')\n",
    "seed = 10\n",
    "# env.seed(seed); torch.manual_seed(seed); np.random.seed(seed)\n",
    "env.seed(9); torch.manual_seed(seed); np.random.seed(seed)\n",
    "\n",
    "def do_seed(seed):\n",
    "    env.seed(seed); torch.manual_seed(seed); np.random.seed(seed)\n",
    "    \n",
    "\n",
    "class Net(torch.nn.Module):\n",
    "\tdef __init__(self, inputs, hidden, outputs, target, population):\n",
    "\t\tsuper().__init__()\n",
    "\t\tself.linear1 = torch.nn.Linear(inputs, hidden)\n",
    "\t\tself.linear2 = torch.nn.Linear(hidden, outputs)\n",
    "        \n",
    "\tdef forward(self, x):\n",
    "\t\tx = torch.relu(self.linear1(x))\n",
    "\t\treturn self.linear2(x)\n",
    "        \n",
    "steps = 200\n",
    "net = Net(INPUTS, HIDDEN, OUTPUTS, TARGET, POPULATION)\n",
    "v_original = nn.utils.parameters_to_vector(net.parameters()).detach()\n",
    "\n",
    "def calc_fitness(v, net=net):\n",
    "    nn.utils.vector_to_parameters(v, net.parameters())\n",
    "    episode_reward = 0\t\n",
    "    state = env.reset()\n",
    "    for s in range(steps):\n",
    "        # env.render()\n",
    "        action = torch.argmax(net.forward(torch.FloatTensor(state)))\n",
    "        state, reward, done, _ = env.step(int(action))\n",
    "        episode_reward += reward\n",
    "        if done:\n",
    "            break\n",
    "    return episode_reward\n",
    "\n",
    "sigma = 1e-1\n",
    "lr=1e-4\n",
    "\n",
    "def calc_grad(v, n_pop=5):\n",
    "    eps = torch.randn(n_pop, *v.shape)\n",
    "    vs = v+eps*sigma\n",
    "    Fs = torch.tensor([calc_fitness(vi) for vi in vs])\n",
    "    Fns = (Fs-Fs.mean())/Fs.std()\n",
    "    \n",
    "    grad = 1./(n_pop*sigma)*(Fs[:, None]*eps).sum(dim=0)\n",
    "    return Fs, grad\n",
    "\n",
    "def run_es(v, n_gen=100, n_pop=5, tqdm=lambda x: x):\n",
    "    v = v.clone()\n",
    "    Fss = []\n",
    "    pbar = tqdm(range(n_gen))\n",
    "    for i in pbar:\n",
    "        Fs, grad = calc_grad(v, n_pop=n_pop)\n",
    "        # print(Fs.min().item(), Fs.mean().item(), Fs.max().item())\n",
    "        v += lr*grad\n",
    "        Fss.append(Fs)\n",
    "        \n",
    "        thresh = 180\n",
    "        if Fs.mean()>thresh and (torch.stack(Fss)[-10:].mean(dim=1)>thresh).all():\n",
    "            Fss.extend([torch.full((n_pop,), fill_value=Fs.mean().item()) for _ in range(n_gen-len(Fss))])\n",
    "            break\n",
    "        pbar.set_postfix({'Fs': Fs.mean().item()})\n",
    "    return torch.stack(Fss)\n",
    "\n",
    "\n",
    "def run_es_adam(v, n_gen=100, n_pop=5, tqdm=lambda x: x):\n",
    "    v = v.clone()\n",
    "    opt = torch.optim.Adam([v], lr=1e-1)\n",
    "    Fss = []\n",
    "    pbar = tqdm(range(n_gen))\n",
    "    for i in pbar:\n",
    "        Fs, grad = calc_grad(v.detach().clone(), n_pop=n_pop)\n",
    "        # print(Fs.min().item(), Fs.mean().item(), Fs.max().item())\n",
    "        v.grad = -grad\n",
    "        opt.step()\n",
    "        Fss.append(Fs)\n",
    "        thresh = 180\n",
    "        if Fs.mean()>thresh and (torch.stack(Fss)[-10:].mean(dim=1)>thresh).all():\n",
    "            Fss.extend([torch.full((n_pop,), fill_value=Fs.mean().item()) for _ in range(n_gen-len(Fss))])\n",
    "            break\n",
    "        pbar.set_postfix({'Fs': Fs.mean().item()})\n",
    "    return torch.stack(Fss)"
   ]
  },
  {
   "cell_type": "code",
   "execution_count": 137,
   "id": "e23a3f0a-fcc8-4308-ba4b-47dfe84761d7",
   "metadata": {},
   "outputs": [],
   "source": [
    "# fits = run_es_adam(v, n_gen=n_gen, n_pop=n_pop, tqdm=tqdm)"
   ]
  },
  {
   "cell_type": "code",
   "execution_count": 138,
   "id": "2d5d7f3a-6ef4-44d1-86f3-487afa9c5e95",
   "metadata": {},
   "outputs": [],
   "source": [
    "# plt.plot(fits.mean(dim=-1).numpy())"
   ]
  },
  {
   "cell_type": "code",
   "execution_count": null,
   "id": "8ea03e1e-256d-4058-8479-197a0dc1d209",
   "metadata": {},
   "outputs": [],
   "source": []
  },
  {
   "cell_type": "code",
   "execution_count": null,
   "id": "5596f134-c9ef-4786-b8a9-82df0ff6a3b6",
   "metadata": {},
   "outputs": [],
   "source": []
  },
  {
   "cell_type": "code",
   "execution_count": 146,
   "id": "7956e9f2-add3-458f-a2a5-6e25c2f1c144",
   "metadata": {},
   "outputs": [
    {
     "data": {
      "application/vnd.jupyter.widget-view+json": {
       "model_id": "5462c2bbf93a48dd8c7ff0b6843d551b",
       "version_major": 2,
       "version_minor": 0
      },
      "text/plain": [
       "  0%|          | 0/40 [00:00<?, ?it/s]"
      ]
     },
     "metadata": {},
     "output_type": "display_data"
    },
    {
     "data": {
      "application/vnd.jupyter.widget-view+json": {
       "model_id": "b94906e30e344361bd55319dbe0a09aa",
       "version_major": 2,
       "version_minor": 0
      },
      "text/plain": [
       "  0%|          | 0/100 [00:00<?, ?it/s]"
      ]
     },
     "metadata": {},
     "output_type": "display_data"
    },
    {
     "data": {
      "application/vnd.jupyter.widget-view+json": {
       "model_id": "721655fab8964731aa2a9d95d32d93f7",
       "version_major": 2,
       "version_minor": 0
      },
      "text/plain": [
       "  0%|          | 0/100 [00:00<?, ?it/s]"
      ]
     },
     "metadata": {},
     "output_type": "display_data"
    },
    {
     "data": {
      "application/vnd.jupyter.widget-view+json": {
       "model_id": "ea4bb61fa8c143ea8c080bbbc8e61016",
       "version_major": 2,
       "version_minor": 0
      },
      "text/plain": [
       "  0%|          | 0/100 [00:00<?, ?it/s]"
      ]
     },
     "metadata": {},
     "output_type": "display_data"
    },
    {
     "data": {
      "application/vnd.jupyter.widget-view+json": {
       "model_id": "2e3adc230ea7408e89a203a8250c3666",
       "version_major": 2,
       "version_minor": 0
      },
      "text/plain": [
       "  0%|          | 0/100 [00:00<?, ?it/s]"
      ]
     },
     "metadata": {},
     "output_type": "display_data"
    },
    {
     "data": {
      "application/vnd.jupyter.widget-view+json": {
       "model_id": "1e5eadc649624f47b19e31fe37393f15",
       "version_major": 2,
       "version_minor": 0
      },
      "text/plain": [
       "  0%|          | 0/100 [00:00<?, ?it/s]"
      ]
     },
     "metadata": {},
     "output_type": "display_data"
    },
    {
     "data": {
      "application/vnd.jupyter.widget-view+json": {
       "model_id": "c61ddc68e4c24e3a832952dd22deafdb",
       "version_major": 2,
       "version_minor": 0
      },
      "text/plain": [
       "  0%|          | 0/100 [00:00<?, ?it/s]"
      ]
     },
     "metadata": {},
     "output_type": "display_data"
    },
    {
     "data": {
      "application/vnd.jupyter.widget-view+json": {
       "model_id": "7a76b49a006949b5a01d1746836f406f",
       "version_major": 2,
       "version_minor": 0
      },
      "text/plain": [
       "  0%|          | 0/100 [00:00<?, ?it/s]"
      ]
     },
     "metadata": {},
     "output_type": "display_data"
    },
    {
     "data": {
      "application/vnd.jupyter.widget-view+json": {
       "model_id": "54e23e495ef14172ae91af202cc0ad22",
       "version_major": 2,
       "version_minor": 0
      },
      "text/plain": [
       "  0%|          | 0/100 [00:00<?, ?it/s]"
      ]
     },
     "metadata": {},
     "output_type": "display_data"
    },
    {
     "data": {
      "application/vnd.jupyter.widget-view+json": {
       "model_id": "578bf06106e54bbe97c34fbed42f426f",
       "version_major": 2,
       "version_minor": 0
      },
      "text/plain": [
       "  0%|          | 0/100 [00:00<?, ?it/s]"
      ]
     },
     "metadata": {},
     "output_type": "display_data"
    },
    {
     "data": {
      "application/vnd.jupyter.widget-view+json": {
       "model_id": "d4a0e639f3c34949b0ecafa403faf9bf",
       "version_major": 2,
       "version_minor": 0
      },
      "text/plain": [
       "  0%|          | 0/100 [00:00<?, ?it/s]"
      ]
     },
     "metadata": {},
     "output_type": "display_data"
    },
    {
     "data": {
      "application/vnd.jupyter.widget-view+json": {
       "model_id": "a7eaa73944fe48baa0d1df2d99327979",
       "version_major": 2,
       "version_minor": 0
      },
      "text/plain": [
       "  0%|          | 0/100 [00:00<?, ?it/s]"
      ]
     },
     "metadata": {},
     "output_type": "display_data"
    },
    {
     "data": {
      "application/vnd.jupyter.widget-view+json": {
       "model_id": "11ff173134a14d04b0cf4bf07aca3250",
       "version_major": 2,
       "version_minor": 0
      },
      "text/plain": [
       "  0%|          | 0/100 [00:00<?, ?it/s]"
      ]
     },
     "metadata": {},
     "output_type": "display_data"
    },
    {
     "data": {
      "application/vnd.jupyter.widget-view+json": {
       "model_id": "268a3eef6d4b45c6a455b5b9737e1531",
       "version_major": 2,
       "version_minor": 0
      },
      "text/plain": [
       "  0%|          | 0/100 [00:00<?, ?it/s]"
      ]
     },
     "metadata": {},
     "output_type": "display_data"
    },
    {
     "data": {
      "application/vnd.jupyter.widget-view+json": {
       "model_id": "95ebcb84656a486cb38c57b83d714f62",
       "version_major": 2,
       "version_minor": 0
      },
      "text/plain": [
       "  0%|          | 0/100 [00:00<?, ?it/s]"
      ]
     },
     "metadata": {},
     "output_type": "display_data"
    },
    {
     "data": {
      "application/vnd.jupyter.widget-view+json": {
       "model_id": "36239c72547544798b63964dd4163435",
       "version_major": 2,
       "version_minor": 0
      },
      "text/plain": [
       "  0%|          | 0/100 [00:00<?, ?it/s]"
      ]
     },
     "metadata": {},
     "output_type": "display_data"
    },
    {
     "data": {
      "application/vnd.jupyter.widget-view+json": {
       "model_id": "3fdcd7e8818441938314689460f79fcf",
       "version_major": 2,
       "version_minor": 0
      },
      "text/plain": [
       "  0%|          | 0/100 [00:00<?, ?it/s]"
      ]
     },
     "metadata": {},
     "output_type": "display_data"
    },
    {
     "data": {
      "application/vnd.jupyter.widget-view+json": {
       "model_id": "3de5ffd2351247368a530a86f94b2b40",
       "version_major": 2,
       "version_minor": 0
      },
      "text/plain": [
       "  0%|          | 0/100 [00:00<?, ?it/s]"
      ]
     },
     "metadata": {},
     "output_type": "display_data"
    },
    {
     "data": {
      "application/vnd.jupyter.widget-view+json": {
       "model_id": "2f205425cca64147ba9c19719eb3d5c2",
       "version_major": 2,
       "version_minor": 0
      },
      "text/plain": [
       "  0%|          | 0/100 [00:00<?, ?it/s]"
      ]
     },
     "metadata": {},
     "output_type": "display_data"
    },
    {
     "data": {
      "application/vnd.jupyter.widget-view+json": {
       "model_id": "671297dd23f449f580ac2b0416c88a4e",
       "version_major": 2,
       "version_minor": 0
      },
      "text/plain": [
       "  0%|          | 0/100 [00:00<?, ?it/s]"
      ]
     },
     "metadata": {},
     "output_type": "display_data"
    },
    {
     "data": {
      "application/vnd.jupyter.widget-view+json": {
       "model_id": "945337f6d5a44fde87ed82bbf2609077",
       "version_major": 2,
       "version_minor": 0
      },
      "text/plain": [
       "  0%|          | 0/100 [00:00<?, ?it/s]"
      ]
     },
     "metadata": {},
     "output_type": "display_data"
    },
    {
     "data": {
      "application/vnd.jupyter.widget-view+json": {
       "model_id": "ad694efebb2046a5b1a64fd3b8dbd3b0",
       "version_major": 2,
       "version_minor": 0
      },
      "text/plain": [
       "  0%|          | 0/100 [00:00<?, ?it/s]"
      ]
     },
     "metadata": {},
     "output_type": "display_data"
    },
    {
     "data": {
      "application/vnd.jupyter.widget-view+json": {
       "model_id": "42d968498bbb40e8852256905577d882",
       "version_major": 2,
       "version_minor": 0
      },
      "text/plain": [
       "  0%|          | 0/100 [00:00<?, ?it/s]"
      ]
     },
     "metadata": {},
     "output_type": "display_data"
    },
    {
     "data": {
      "application/vnd.jupyter.widget-view+json": {
       "model_id": "6f94ebf7830a4df18e34253266d6b7eb",
       "version_major": 2,
       "version_minor": 0
      },
      "text/plain": [
       "  0%|          | 0/100 [00:00<?, ?it/s]"
      ]
     },
     "metadata": {},
     "output_type": "display_data"
    },
    {
     "data": {
      "application/vnd.jupyter.widget-view+json": {
       "model_id": "cdf2cfbb508949aea1fcea247208379f",
       "version_major": 2,
       "version_minor": 0
      },
      "text/plain": [
       "  0%|          | 0/100 [00:00<?, ?it/s]"
      ]
     },
     "metadata": {},
     "output_type": "display_data"
    },
    {
     "data": {
      "application/vnd.jupyter.widget-view+json": {
       "model_id": "9e1ec6c4a08145ba8a8f3ee1f7f3a154",
       "version_major": 2,
       "version_minor": 0
      },
      "text/plain": [
       "  0%|          | 0/100 [00:00<?, ?it/s]"
      ]
     },
     "metadata": {},
     "output_type": "display_data"
    },
    {
     "data": {
      "application/vnd.jupyter.widget-view+json": {
       "model_id": "2a9c3b59dcbd4c6faacc223f14ca210c",
       "version_major": 2,
       "version_minor": 0
      },
      "text/plain": [
       "  0%|          | 0/100 [00:00<?, ?it/s]"
      ]
     },
     "metadata": {},
     "output_type": "display_data"
    },
    {
     "data": {
      "application/vnd.jupyter.widget-view+json": {
       "model_id": "3291939002aa4b13ac8fd5196bd8c02e",
       "version_major": 2,
       "version_minor": 0
      },
      "text/plain": [
       "  0%|          | 0/100 [00:00<?, ?it/s]"
      ]
     },
     "metadata": {},
     "output_type": "display_data"
    },
    {
     "data": {
      "application/vnd.jupyter.widget-view+json": {
       "model_id": "1847ec5c1f8846338e06e5d08a3b41cd",
       "version_major": 2,
       "version_minor": 0
      },
      "text/plain": [
       "  0%|          | 0/100 [00:00<?, ?it/s]"
      ]
     },
     "metadata": {},
     "output_type": "display_data"
    },
    {
     "data": {
      "application/vnd.jupyter.widget-view+json": {
       "model_id": "20454252b970494aba4b85d2559f93a6",
       "version_major": 2,
       "version_minor": 0
      },
      "text/plain": [
       "  0%|          | 0/100 [00:00<?, ?it/s]"
      ]
     },
     "metadata": {},
     "output_type": "display_data"
    },
    {
     "data": {
      "application/vnd.jupyter.widget-view+json": {
       "model_id": "4d654a1f252a45a6afc1034b30633af8",
       "version_major": 2,
       "version_minor": 0
      },
      "text/plain": [
       "  0%|          | 0/100 [00:00<?, ?it/s]"
      ]
     },
     "metadata": {},
     "output_type": "display_data"
    },
    {
     "data": {
      "application/vnd.jupyter.widget-view+json": {
       "model_id": "a003c904284c45659cc0ade2f513a947",
       "version_major": 2,
       "version_minor": 0
      },
      "text/plain": [
       "  0%|          | 0/100 [00:00<?, ?it/s]"
      ]
     },
     "metadata": {},
     "output_type": "display_data"
    },
    {
     "data": {
      "application/vnd.jupyter.widget-view+json": {
       "model_id": "ba9d61d4a2e443a6a1da3f5ed6fe59cc",
       "version_major": 2,
       "version_minor": 0
      },
      "text/plain": [
       "  0%|          | 0/100 [00:00<?, ?it/s]"
      ]
     },
     "metadata": {},
     "output_type": "display_data"
    },
    {
     "data": {
      "application/vnd.jupyter.widget-view+json": {
       "model_id": "a00b6f11345e447189d8da7e743ec129",
       "version_major": 2,
       "version_minor": 0
      },
      "text/plain": [
       "  0%|          | 0/100 [00:00<?, ?it/s]"
      ]
     },
     "metadata": {},
     "output_type": "display_data"
    },
    {
     "data": {
      "application/vnd.jupyter.widget-view+json": {
       "model_id": "7d42e347322c40b0a6e45161e0cf665b",
       "version_major": 2,
       "version_minor": 0
      },
      "text/plain": [
       "  0%|          | 0/100 [00:00<?, ?it/s]"
      ]
     },
     "metadata": {},
     "output_type": "display_data"
    },
    {
     "data": {
      "application/vnd.jupyter.widget-view+json": {
       "model_id": "d0b41adb8ff04c14bacf4edd1d28dd9f",
       "version_major": 2,
       "version_minor": 0
      },
      "text/plain": [
       "  0%|          | 0/100 [00:00<?, ?it/s]"
      ]
     },
     "metadata": {},
     "output_type": "display_data"
    },
    {
     "data": {
      "application/vnd.jupyter.widget-view+json": {
       "model_id": "34962a7a6c6c4770ae42218994a91c6d",
       "version_major": 2,
       "version_minor": 0
      },
      "text/plain": [
       "  0%|          | 0/100 [00:00<?, ?it/s]"
      ]
     },
     "metadata": {},
     "output_type": "display_data"
    },
    {
     "data": {
      "application/vnd.jupyter.widget-view+json": {
       "model_id": "5ebe9d0f98cf4d99bd76afa0c0fee56d",
       "version_major": 2,
       "version_minor": 0
      },
      "text/plain": [
       "  0%|          | 0/100 [00:00<?, ?it/s]"
      ]
     },
     "metadata": {},
     "output_type": "display_data"
    },
    {
     "data": {
      "application/vnd.jupyter.widget-view+json": {
       "model_id": "2c2a959616354108b755da0976aa6ac4",
       "version_major": 2,
       "version_minor": 0
      },
      "text/plain": [
       "  0%|          | 0/100 [00:00<?, ?it/s]"
      ]
     },
     "metadata": {},
     "output_type": "display_data"
    },
    {
     "data": {
      "application/vnd.jupyter.widget-view+json": {
       "model_id": "5269a871e7f547958a40f5ba9e28585e",
       "version_major": 2,
       "version_minor": 0
      },
      "text/plain": [
       "  0%|          | 0/100 [00:00<?, ?it/s]"
      ]
     },
     "metadata": {},
     "output_type": "display_data"
    },
    {
     "data": {
      "application/vnd.jupyter.widget-view+json": {
       "model_id": "c91ea1501dd843888bcd4edea364108e",
       "version_major": 2,
       "version_minor": 0
      },
      "text/plain": [
       "  0%|          | 0/100 [00:00<?, ?it/s]"
      ]
     },
     "metadata": {},
     "output_type": "display_data"
    },
    {
     "data": {
      "application/vnd.jupyter.widget-view+json": {
       "model_id": "f3136a69218a45d8825a4a2c96bd3b3b",
       "version_major": 2,
       "version_minor": 0
      },
      "text/plain": [
       "  0%|          | 0/100 [00:00<?, ?it/s]"
      ]
     },
     "metadata": {},
     "output_type": "display_data"
    },
    {
     "data": {
      "application/vnd.jupyter.widget-view+json": {
       "model_id": "1e2682b2b65a4d5b93b5ff5660275a9d",
       "version_major": 2,
       "version_minor": 0
      },
      "text/plain": [
       "  0%|          | 0/100 [00:00<?, ?it/s]"
      ]
     },
     "metadata": {},
     "output_type": "display_data"
    },
    {
     "data": {
      "application/vnd.jupyter.widget-view+json": {
       "model_id": "1b35cb69f094466db9a796a6c3c749a3",
       "version_major": 2,
       "version_minor": 0
      },
      "text/plain": [
       "  0%|          | 0/100 [00:00<?, ?it/s]"
      ]
     },
     "metadata": {},
     "output_type": "display_data"
    },
    {
     "data": {
      "application/vnd.jupyter.widget-view+json": {
       "model_id": "ed5e67871dd944d88d4ab8b438e927d4",
       "version_major": 2,
       "version_minor": 0
      },
      "text/plain": [
       "  0%|          | 0/100 [00:00<?, ?it/s]"
      ]
     },
     "metadata": {},
     "output_type": "display_data"
    },
    {
     "data": {
      "application/vnd.jupyter.widget-view+json": {
       "model_id": "7a7a693560354208bccab159bc2a5dcc",
       "version_major": 2,
       "version_minor": 0
      },
      "text/plain": [
       "  0%|          | 0/100 [00:00<?, ?it/s]"
      ]
     },
     "metadata": {},
     "output_type": "display_data"
    },
    {
     "data": {
      "application/vnd.jupyter.widget-view+json": {
       "model_id": "984b645b4369404a823f1fa4dd8755d7",
       "version_major": 2,
       "version_minor": 0
      },
      "text/plain": [
       "  0%|          | 0/100 [00:00<?, ?it/s]"
      ]
     },
     "metadata": {},
     "output_type": "display_data"
    },
    {
     "data": {
      "application/vnd.jupyter.widget-view+json": {
       "model_id": "e8e7fbd72d994144a1510ffa9dd8df03",
       "version_major": 2,
       "version_minor": 0
      },
      "text/plain": [
       "  0%|          | 0/100 [00:00<?, ?it/s]"
      ]
     },
     "metadata": {},
     "output_type": "display_data"
    },
    {
     "data": {
      "application/vnd.jupyter.widget-view+json": {
       "model_id": "40abae3cd49c46c3b03fc4b1672934a8",
       "version_major": 2,
       "version_minor": 0
      },
      "text/plain": [
       "  0%|          | 0/100 [00:00<?, ?it/s]"
      ]
     },
     "metadata": {},
     "output_type": "display_data"
    },
    {
     "data": {
      "application/vnd.jupyter.widget-view+json": {
       "model_id": "f26f258f72634445a524954970ae48e0",
       "version_major": 2,
       "version_minor": 0
      },
      "text/plain": [
       "  0%|          | 0/100 [00:00<?, ?it/s]"
      ]
     },
     "metadata": {},
     "output_type": "display_data"
    },
    {
     "data": {
      "application/vnd.jupyter.widget-view+json": {
       "model_id": "e41e8ef1c16a4d99b39f841ea18de6b8",
       "version_major": 2,
       "version_minor": 0
      },
      "text/plain": [
       "  0%|          | 0/100 [00:00<?, ?it/s]"
      ]
     },
     "metadata": {},
     "output_type": "display_data"
    },
    {
     "data": {
      "application/vnd.jupyter.widget-view+json": {
       "model_id": "9cf5e39811e14fc1a14eb24734318b2f",
       "version_major": 2,
       "version_minor": 0
      },
      "text/plain": [
       "  0%|          | 0/100 [00:00<?, ?it/s]"
      ]
     },
     "metadata": {},
     "output_type": "display_data"
    },
    {
     "data": {
      "application/vnd.jupyter.widget-view+json": {
       "model_id": "0ceffbf0f7c445d9a166f5893c158fa5",
       "version_major": 2,
       "version_minor": 0
      },
      "text/plain": [
       "  0%|          | 0/100 [00:00<?, ?it/s]"
      ]
     },
     "metadata": {},
     "output_type": "display_data"
    },
    {
     "data": {
      "application/vnd.jupyter.widget-view+json": {
       "model_id": "fe6f76cfd4624a6f956964d5908ca914",
       "version_major": 2,
       "version_minor": 0
      },
      "text/plain": [
       "  0%|          | 0/100 [00:00<?, ?it/s]"
      ]
     },
     "metadata": {},
     "output_type": "display_data"
    },
    {
     "data": {
      "application/vnd.jupyter.widget-view+json": {
       "model_id": "166e48b1d7de4b669479e0af729ef829",
       "version_major": 2,
       "version_minor": 0
      },
      "text/plain": [
       "  0%|          | 0/100 [00:00<?, ?it/s]"
      ]
     },
     "metadata": {},
     "output_type": "display_data"
    },
    {
     "data": {
      "application/vnd.jupyter.widget-view+json": {
       "model_id": "4f79cb26188240c48e1243a20cd23c71",
       "version_major": 2,
       "version_minor": 0
      },
      "text/plain": [
       "  0%|          | 0/100 [00:00<?, ?it/s]"
      ]
     },
     "metadata": {},
     "output_type": "display_data"
    },
    {
     "data": {
      "application/vnd.jupyter.widget-view+json": {
       "model_id": "7f913a065e984d4a87df3bd835d0e3e7",
       "version_major": 2,
       "version_minor": 0
      },
      "text/plain": [
       "  0%|          | 0/100 [00:00<?, ?it/s]"
      ]
     },
     "metadata": {},
     "output_type": "display_data"
    },
    {
     "data": {
      "application/vnd.jupyter.widget-view+json": {
       "model_id": "0310be93943c464185f1d8947357884c",
       "version_major": 2,
       "version_minor": 0
      },
      "text/plain": [
       "  0%|          | 0/100 [00:00<?, ?it/s]"
      ]
     },
     "metadata": {},
     "output_type": "display_data"
    },
    {
     "data": {
      "application/vnd.jupyter.widget-view+json": {
       "model_id": "13bd9dda0b13419fb1a13f41aa41fac4",
       "version_major": 2,
       "version_minor": 0
      },
      "text/plain": [
       "  0%|          | 0/100 [00:00<?, ?it/s]"
      ]
     },
     "metadata": {},
     "output_type": "display_data"
    },
    {
     "data": {
      "application/vnd.jupyter.widget-view+json": {
       "model_id": "b7926316fbc34482a93af871266f1024",
       "version_major": 2,
       "version_minor": 0
      },
      "text/plain": [
       "  0%|          | 0/100 [00:00<?, ?it/s]"
      ]
     },
     "metadata": {},
     "output_type": "display_data"
    },
    {
     "data": {
      "application/vnd.jupyter.widget-view+json": {
       "model_id": "ecdc7574c17d472ca2050ebea3f8fe4d",
       "version_major": 2,
       "version_minor": 0
      },
      "text/plain": [
       "  0%|          | 0/100 [00:00<?, ?it/s]"
      ]
     },
     "metadata": {},
     "output_type": "display_data"
    },
    {
     "data": {
      "application/vnd.jupyter.widget-view+json": {
       "model_id": "78ed638408704a84a0f10965b63910ab",
       "version_major": 2,
       "version_minor": 0
      },
      "text/plain": [
       "  0%|          | 0/100 [00:00<?, ?it/s]"
      ]
     },
     "metadata": {},
     "output_type": "display_data"
    },
    {
     "data": {
      "application/vnd.jupyter.widget-view+json": {
       "model_id": "ff6c8068853d4b9493a6056dfb394fa8",
       "version_major": 2,
       "version_minor": 0
      },
      "text/plain": [
       "  0%|          | 0/100 [00:00<?, ?it/s]"
      ]
     },
     "metadata": {},
     "output_type": "display_data"
    },
    {
     "data": {
      "application/vnd.jupyter.widget-view+json": {
       "model_id": "1ff63d2db65c43878c1016df11d7d613",
       "version_major": 2,
       "version_minor": 0
      },
      "text/plain": [
       "  0%|          | 0/100 [00:00<?, ?it/s]"
      ]
     },
     "metadata": {},
     "output_type": "display_data"
    },
    {
     "data": {
      "application/vnd.jupyter.widget-view+json": {
       "model_id": "67393f847ad746e9bc210d283219d26b",
       "version_major": 2,
       "version_minor": 0
      },
      "text/plain": [
       "  0%|          | 0/100 [00:00<?, ?it/s]"
      ]
     },
     "metadata": {},
     "output_type": "display_data"
    },
    {
     "data": {
      "application/vnd.jupyter.widget-view+json": {
       "model_id": "2573d01f07d2444cb495f8b62875b273",
       "version_major": 2,
       "version_minor": 0
      },
      "text/plain": [
       "  0%|          | 0/100 [00:00<?, ?it/s]"
      ]
     },
     "metadata": {},
     "output_type": "display_data"
    },
    {
     "data": {
      "application/vnd.jupyter.widget-view+json": {
       "model_id": "e63d0bf16152406d9e0a30b577322e8b",
       "version_major": 2,
       "version_minor": 0
      },
      "text/plain": [
       "  0%|          | 0/100 [00:00<?, ?it/s]"
      ]
     },
     "metadata": {},
     "output_type": "display_data"
    },
    {
     "data": {
      "application/vnd.jupyter.widget-view+json": {
       "model_id": "1f0e434c2adc4448bf557729ecce5ef2",
       "version_major": 2,
       "version_minor": 0
      },
      "text/plain": [
       "  0%|          | 0/100 [00:00<?, ?it/s]"
      ]
     },
     "metadata": {},
     "output_type": "display_data"
    },
    {
     "data": {
      "application/vnd.jupyter.widget-view+json": {
       "model_id": "0d4d5d6b6ec2436cbd2feb2e03557ea4",
       "version_major": 2,
       "version_minor": 0
      },
      "text/plain": [
       "  0%|          | 0/100 [00:00<?, ?it/s]"
      ]
     },
     "metadata": {},
     "output_type": "display_data"
    },
    {
     "data": {
      "application/vnd.jupyter.widget-view+json": {
       "model_id": "24b9cd9d87194e7d8342728d141fa789",
       "version_major": 2,
       "version_minor": 0
      },
      "text/plain": [
       "  0%|          | 0/100 [00:00<?, ?it/s]"
      ]
     },
     "metadata": {},
     "output_type": "display_data"
    },
    {
     "data": {
      "application/vnd.jupyter.widget-view+json": {
       "model_id": "11cbbfb25fac40b6af1ab02e155fcdf8",
       "version_major": 2,
       "version_minor": 0
      },
      "text/plain": [
       "  0%|          | 0/100 [00:00<?, ?it/s]"
      ]
     },
     "metadata": {},
     "output_type": "display_data"
    },
    {
     "data": {
      "application/vnd.jupyter.widget-view+json": {
       "model_id": "0875b23c7f6e425d9a5335da26952ffb",
       "version_major": 2,
       "version_minor": 0
      },
      "text/plain": [
       "  0%|          | 0/100 [00:00<?, ?it/s]"
      ]
     },
     "metadata": {},
     "output_type": "display_data"
    },
    {
     "data": {
      "application/vnd.jupyter.widget-view+json": {
       "model_id": "7b54811f5f8548c19c88eef7a64ab6f0",
       "version_major": 2,
       "version_minor": 0
      },
      "text/plain": [
       "  0%|          | 0/100 [00:00<?, ?it/s]"
      ]
     },
     "metadata": {},
     "output_type": "display_data"
    },
    {
     "data": {
      "application/vnd.jupyter.widget-view+json": {
       "model_id": "eb674c84a3f54239ae3804dc093ca6e5",
       "version_major": 2,
       "version_minor": 0
      },
      "text/plain": [
       "  0%|          | 0/100 [00:00<?, ?it/s]"
      ]
     },
     "metadata": {},
     "output_type": "display_data"
    },
    {
     "data": {
      "application/vnd.jupyter.widget-view+json": {
       "model_id": "9938443d870043b1a266a76e1157bf91",
       "version_major": 2,
       "version_minor": 0
      },
      "text/plain": [
       "  0%|          | 0/100 [00:00<?, ?it/s]"
      ]
     },
     "metadata": {},
     "output_type": "display_data"
    },
    {
     "data": {
      "application/vnd.jupyter.widget-view+json": {
       "model_id": "87575d8221e84f47ab38679e97875a1f",
       "version_major": 2,
       "version_minor": 0
      },
      "text/plain": [
       "  0%|          | 0/100 [00:00<?, ?it/s]"
      ]
     },
     "metadata": {},
     "output_type": "display_data"
    },
    {
     "data": {
      "application/vnd.jupyter.widget-view+json": {
       "model_id": "29fd2b28a9b84dcc95e4d6f0a1a1d051",
       "version_major": 2,
       "version_minor": 0
      },
      "text/plain": [
       "  0%|          | 0/100 [00:00<?, ?it/s]"
      ]
     },
     "metadata": {},
     "output_type": "display_data"
    },
    {
     "data": {
      "application/vnd.jupyter.widget-view+json": {
       "model_id": "46104686cef64e588f37510c6683ba79",
       "version_major": 2,
       "version_minor": 0
      },
      "text/plain": [
       "  0%|          | 0/100 [00:00<?, ?it/s]"
      ]
     },
     "metadata": {},
     "output_type": "display_data"
    },
    {
     "data": {
      "application/vnd.jupyter.widget-view+json": {
       "model_id": "844897e920b94b228a4acf35269be9f3",
       "version_major": 2,
       "version_minor": 0
      },
      "text/plain": [
       "  0%|          | 0/100 [00:00<?, ?it/s]"
      ]
     },
     "metadata": {},
     "output_type": "display_data"
    },
    {
     "data": {
      "application/vnd.jupyter.widget-view+json": {
       "model_id": "7ec610790f8a42cb90fbb5bc6b820704",
       "version_major": 2,
       "version_minor": 0
      },
      "text/plain": [
       "  0%|          | 0/100 [00:00<?, ?it/s]"
      ]
     },
     "metadata": {},
     "output_type": "display_data"
    },
    {
     "data": {
      "application/vnd.jupyter.widget-view+json": {
       "model_id": "5f5f5dad479642acbda896805f8acb73",
       "version_major": 2,
       "version_minor": 0
      },
      "text/plain": [
       "  0%|          | 0/100 [00:00<?, ?it/s]"
      ]
     },
     "metadata": {},
     "output_type": "display_data"
    }
   ],
   "source": [
    "fits_es = []\n",
    "fits_adam = []\n",
    "\n",
    "n_pop = 5\n",
    "n_gen = 100\n",
    "for seed in tqdm(range(40)):\n",
    "    do_seed(seed)\n",
    "    v = torch.randn_like(v_original)/10.\n",
    "    fits_es.append(run_es(v, n_gen=n_gen, n_pop=n_pop, tqdm=tqdm))\n",
    "    # plt.plot(fits.mean(dim=-1).numpy(), c='b')\n",
    "    fits_adam.append(run_es_adam(v, n_gen=n_gen, n_pop=n_pop, tqdm=tqdm))\n",
    "    # plt.plot(fits.mean(dim=-1).numpy(), c='r')\n",
    "fits_es = torch.stack(fits_es)\n",
    "fits_adam = torch.stack(fits_adam)"
   ]
  },
  {
   "cell_type": "code",
   "execution_count": 147,
   "id": "ec05e589-c688-4471-a4a6-6e75dce752a0",
   "metadata": {
    "tags": []
   },
   "outputs": [
    {
     "data": {
      "text/plain": [
       "torch.Size([40, 100, 5])"
      ]
     },
     "execution_count": 147,
     "metadata": {},
     "output_type": "execute_result"
    }
   ],
   "source": [
    "fits_es.shape"
   ]
  },
  {
   "cell_type": "code",
   "execution_count": 149,
   "id": "2cdb50bf-4d85-4ebe-bb22-3ba0afaf7a6b",
   "metadata": {},
   "outputs": [
    {
     "data": {
      "image/png": "[encoded data removed]",
      "text/plain": [
       "<Figure size 432x288 with 1 Axes>"
      ]
     },
     "metadata": {
      "needs_background": "light"
     },
     "output_type": "display_data"
    },
    {
     "data": {
      "image/png": "[encoded data removed]",
      "text/plain": [
       "<Figure size 432x288 with 1 Axes>"
      ]
     },
     "metadata": {
      "needs_background": "light"
     },
     "output_type": "display_data"
    }
   ],
   "source": [
    "plt.plot(fits_es.mean(dim=-1).numpy().T, c='b')\n",
    "plt.plot(fits_adam.mean(dim=-1).numpy().T, c='r')\n",
    "plt.show()\n",
    "\n",
    "plt.plot(fits_es.mean(dim=-1).mean(dim=0).numpy(), c='b')\n",
    "plt.plot(fits_adam.mean(dim=-1).mean(dim=0).numpy(), c='r')\n",
    "plt.ylim(0,200)\n",
    "plt.show()"
   ]
  },
  {
   "cell_type": "code",
   "execution_count": null,
   "id": "344e1f5c-812e-4666-bbcf-0336cf5f5804",
   "metadata": {},
   "outputs": [],
   "source": []
  },
  {
   "cell_type": "code",
   "execution_count": 142,
   "id": "536e9514-660a-4d6c-aa0d-aaac91936d78",
   "metadata": {},
   "outputs": [
    {
     "data": {
      "image/png": "[encoded data removed]",
      "text/plain": [
       "<Figure size 432x288 with 1 Axes>"
      ]
     },
     "metadata": {
      "needs_background": "light"
     },
     "output_type": "display_data"
    },
    {
     "data": {
      "image/png": "[encoded data removed]",
      "text/plain": [
       "<Figure size 432x288 with 1 Axes>"
      ]
     },
     "metadata": {
      "needs_background": "light"
     },
     "output_type": "display_data"
    }
   ],
   "source": [
    "plt.plot(fits_es.mean(dim=-1).numpy().T, c='b')\n",
    "plt.plot(fits_adam.mean(dim=-1).numpy().T, c='r')\n",
    "plt.show()\n",
    "\n",
    "plt.plot(fits_es.mean(dim=-1).mean(dim=0).numpy(), c='b')\n",
    "plt.plot(fits_adam.mean(dim=-1).mean(dim=0).numpy(), c='r')\n",
    "plt.show()"
   ]
  },
  {
   "cell_type": "code",
   "execution_count": null,
   "id": "03074528-bac5-4678-8fe6-dc14a30c5785",
   "metadata": {},
   "outputs": [],
   "source": []
  },
  {
   "cell_type": "code",
   "execution_count": null,
   "id": "6d0522e9-1d26-470b-9b03-3b87cdc7287a",
   "metadata": {},
   "outputs": [],
   "source": []
  },
  {
   "cell_type": "code",
   "execution_count": null,
   "id": "d12a7252-470e-4a1b-a768-ad03991fb73e",
   "metadata": {},
   "outputs": [],
   "source": []
  },
  {
   "cell_type": "code",
   "execution_count": null,
   "id": "264cc2a2-478e-45bf-829f-4dc93db0cc58",
   "metadata": {},
   "outputs": [],
   "source": []
  },
  {
   "cell_type": "code",
   "execution_count": null,
   "id": "d207ad4c-7963-464e-bc87-5d7741548ad3",
   "metadata": {},
   "outputs": [],
   "source": []
  },
  {
   "cell_type": "code",
   "execution_count": 5,
   "id": "233cc97d-2039-486b-8915-929d28873f22",
   "metadata": {},
   "outputs": [
    {
     "name": "stdout",
     "output_type": "stream",
     "text": [
      "0 Average reward:  82.0  LR:  0.0001\n",
      "10 Average reward:  72.18181818181819  LR:  0.00023027777777777782\n",
      "20 Average reward:  129.95238095238096  LR:  0.0002462345679012346\n",
      "30 Average reward:  152.5483870967742  LR:  0.0002198851165980796\n",
      "40 Average reward:  164.1219512195122  LR:  0.0001843993865264442\n",
      "50 Average reward:  171.15686274509804  LR:  0.0001498514258285492\n",
      "60 Average reward:  175.88524590163934  LR:  0.00011941071238093694\n",
      "70 Average reward:  179.28169014084506  LR:  9.373607163206092e-05\n",
      "80 Average reward:  181.8395061728395  LR:  7.254241085559787e-05\n",
      "90 Average reward:  183.83516483516485  LR:  5.52296153817469e-05\n",
      "100 Average reward:  186.47  LR:  4.1144104249020154e-05\n",
      "Completed at episode:  106\n"
     ]
    }
   ],
   "source": [
    "import gym\n",
    "import numpy as np\n",
    "import torch\n",
    "from collections import deque\n",
    "\n",
    "\n",
    "INPUTS = 4\n",
    "HIDDEN = 8\n",
    "OUTPUTS = 2\n",
    "TARGET = 190\n",
    "POPULATION = 5\n",
    "\n",
    "ave_reward = deque(maxlen=100)\n",
    "short_ma = deque(maxlen=5)\n",
    "long_ma = deque(maxlen=10)\n",
    "\n",
    "env = gym.make('CartPole-v0')\n",
    "env.seed(9); torch.manual_seed(1); np.random.seed(1)\n",
    "\n",
    "\n",
    "class EvolutionStrategies(torch.nn.Module):\n",
    "\tdef __init__(self, inputs, hidden, outputs, target, population):\n",
    "\t\tsuper(EvolutionStrategies, self).__init__()\n",
    "\t\tself.linear1 = torch.nn.Linear(inputs, hidden)\n",
    "\t\tself.linear2 = torch.nn.Linear(hidden, outputs)\n",
    "\t\tself.population_size = population\n",
    "\t\tself.sigma = 0.1\n",
    "\t\tself.learning_rate = 0.0001\n",
    "\t\tself.counter = 0\n",
    "\t\tself.rewards = []\n",
    "\t\tself.score_tracking = deque(maxlen = 100)\n",
    "\t\tself.master_weights = []\n",
    "\t\tself.target = target\n",
    "\n",
    "\t\tfor param in self.parameters():\n",
    "\t\t\tself.master_weights.append(param.data)\n",
    "\t\tself.populate()\n",
    "\n",
    "\tdef forward(self, x):\n",
    "\t\tx = torch.relu(self.linear1(x))\n",
    "\t\treturn self.linear2(x)\n",
    "\n",
    "\tdef populate(self):\n",
    "\t\tself.population = []\n",
    "\t\tfor _ in range(self.population_size):\n",
    "\t\t\tx = []\n",
    "\t\t\tfor param in self.parameters():\n",
    "\t\t\t\tx.append(np.random.randn(*param.data.size()))\n",
    "\t\t\tself.population.append(x)\n",
    "\n",
    "\tdef add_noise_to_weights(self):\n",
    "\t\tfor i, param in enumerate(self.parameters()):\n",
    "\t\t\tnoise = torch.from_numpy(self.sigma * self.population[self.counter][i]).float()\n",
    "\t\t\tparam.data = self.master_weights[i] + noise\n",
    "\t\tself.counter += 1\n",
    "\n",
    "\tdef log_reward(self, reward):\n",
    "\t\t# When we've got enough rewards, evolve the network and repopulate\n",
    "\t\tself.rewards.append(reward)\n",
    "\t\tif len(self.rewards) >= self.population_size:\n",
    "\t\t\tself.counter = 0\n",
    "\t\t\tself.evolve()\n",
    "\t\t\tself.populate()\n",
    "\t\t\tself.rewards = []\n",
    "\t\tself.add_noise_to_weights()\n",
    "\n",
    "\tdef evolve(self):\n",
    "\t\t# Multiply jittered weights by normalised rewards and apply to network\n",
    "\t\tif np.std(self.rewards) != 0:\n",
    "\t\t\tnormalized_rewards = (self.rewards - np.mean(self.rewards)) / np.std(self.rewards)\n",
    "\t\t\tfor index, param in enumerate(self.parameters()):\n",
    "\t\t\t\tA = np.array([individual[index] for individual in self.population])\n",
    "\t\t\t\trewards_pop = torch.from_numpy(np.dot(A.T, normalized_rewards).T).float()\n",
    "\t\t\t\tparam.data = self.master_weights[index] + self.learning_rate / (self.population_size * self.sigma) * rewards_pop\n",
    "\t\t\t\tself.master_weights[index] = param.data\n",
    "\n",
    "\t\t# Adaptive learning rate (work in progress)\n",
    "\t\thigh_score = np.max(self.rewards)\n",
    "\t\tself.score_tracking.append(high_score)\n",
    "\t\tself.learning_rate = (self.learning_rate*5 + (self.target - np.mean(self.score_tracking))*0.000005)/6\n",
    "\t\tself.sigma = self.learning_rate * 10\n",
    "\n",
    "\n",
    "model = EvolutionStrategies(INPUTS, HIDDEN, OUTPUTS, TARGET, POPULATION)\n",
    "state = env.reset()\n",
    "steps = 200\n",
    "episodes = 30000\n",
    "\n",
    "\n",
    "for episode in range(episodes):\n",
    "\tepisode_reward = 0\t\n",
    "\tstate = env.reset()\n",
    "\n",
    "\tfor s in range(steps):\n",
    "\t\t# env.render()\n",
    "\t\taction = torch.argmax(model.forward(torch.FloatTensor(state)))\n",
    "\t\tstate, reward, done, _ = env.step(int(action))\n",
    "\t\tepisode_reward += reward\n",
    "\t\tif done:\n",
    "\t\t\tmodel.log_reward(episode_reward)\n",
    "\t\t\tbreak\n",
    "\n",
    "\tave_reward.append(episode_reward)\n",
    "\tshort_ma.append(episode_reward)\n",
    "\tlong_ma.append(episode_reward)\n",
    "\n",
    "\n",
    "\tif episode % 10 == 0:\n",
    "\t\tprint(episode, 'Average reward: ', np.mean(ave_reward), ' LR: ', model.learning_rate)\n",
    "\t\tif np.mean(short_ma) < np.mean(long_ma):\n",
    "\t\t\tmodel = EvolutionStrategies(INPUTS, HIDDEN, OUTPUTS, TARGET, POPULATION)\n",
    "\t\t\tshort_ma.clear()\n",
    "\t\t\tlong_ma.clear()\n",
    "\n",
    "\n",
    "\tif np.mean(ave_reward) >= env.spec.reward_threshold:\n",
    "\t\tprint('Completed at episode: ', episode)\n",
    "\t\tbreak\n"
   ]
  },
  {
   "cell_type": "code",
   "execution_count": null,
   "id": "0c7d8cf2-53b3-4db6-9269-60cadb4cc9c4",
   "metadata": {},
   "outputs": [],
   "source": []
  },
  {
   "cell_type": "code",
   "execution_count": null,
   "id": "0561cf63-778f-44f6-bf92-dd413d78ed9c",
   "metadata": {},
   "outputs": [],
   "source": []
  },
  {
   "cell_type": "code",
   "execution_count": null,
   "id": "080694ce-ef46-409c-a96d-81926ec5cb25",
   "metadata": {},
   "outputs": [],
   "source": []
  },
  {
   "cell_type": "code",
   "execution_count": null,
   "id": "4ac0cf2a-8916-4edc-8201-84065a3dddee",
   "metadata": {},
   "outputs": [],
   "source": []
  }
 ],
 "metadata": {
  "kernelspec": {
   "display_name": "Python 3 (ipykernel)",
   "language": "python",
   "name": "python3"
  },
  "language_info": {
   "codemirror_mode": {
    "name": "ipython",
    "version": 3
   },
   "file_extension": ".py",
   "mimetype": "text/x-python",
   "name": "python",
   "nbconvert_exporter": "python",
   "pygments_lexer": "ipython3",
   "version": "3.9.5"
  }
 },
 "nbformat": 4,
 "nbformat_minor": 5
}
