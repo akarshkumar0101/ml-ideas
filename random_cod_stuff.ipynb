{
 "cells": [
  {
   "cell_type": "code",
   "execution_count": null,
   "id": "982a3556-8edc-46ee-8a13-3d6eacba3f22",
   "metadata": {},
   "outputs": [],
   "source": [
    "COD"
   ]
  },
  {
   "cell_type": "code",
   "execution_count": 469,
   "id": "2667d5bb-5180-4e17-9728-8df0ba93f8ab",
   "metadata": {},
   "outputs": [],
   "source": [
    "a = \"11th\\n 16 minutes ago\\n Resurgence Quads\\n Dealt\\n 379\\n Damage\\n Taken\\n 324\\n Kills\\n 0\\n K/D Ratio\\n 0.00\\n 2nd\\n 32 minutes ago\\n Resurgence Quads\\n Lobby K/D\\n 1.12\\n Dealt\\n 2,190\\n Damage\\n Taken\\n 965\\n Kills\\n 5\\n K/D Ratio\\n 2.50\\n Unnetwork\\n 3 Kills\\n OG\\n 3 Kills\\n NormalCoder6255\\n 1 Kill\\n 9th\\n 37 minutes ago\\n Resurgence Quads\\n Lobby K/D\\n 1.13\\n Dealt\\n 799\\n Damage\\n Taken\\n 493\\n Kills\\n 1\\n K/D Ratio\\n 0.33\\n Ed maverick\\n 1 Kill\\n NormalCoder6255\\n 0 Kills\\n beckhram\\n 2 Kills\\n 4th\\n 48 minutes ago\\n Resurgence Quads\\n Lobby K/D\\n 1.05\\n Dealt\\n 1,267\\n Damage\\n Taken\\n 963\\n Kills\\n 2\\n K/D Ratio\\n 0.50\\n ozzwald-\\n 3 Kills\\n NormalCoder6255\\n 2 Kills\\n ThyyLackaim\\n 6 Kills\\n 2nd\\n 1 hour ago\\n Resurgence Quads\\n Lobby K/D\\n 1.14\\n Dealt\\n 2,330\\n Damage\\n Taken\\n 592\\n Kills\\n 6\\n K/D Ratio\\n 3.00\\n RPGesus\\n 8 Kills\\n KingAJ#6945803\\n 4 Kills\\n NormalCoder6255\\n 3 Kills\\n 2nd\\n 1 hour ago\\n Resurgence Quads\\n Lobby K/D\\n 1.01\\n Dealt\\n 4,267\\n Damage\\n Taken\\n 1,439\\n Kills\\n 8\\n K/D Ratio\\n 1.60\\n Superdaniel2000\\n 2 Kills\\n NormalCoder6255\\n 2 Kills\\n IamJoshe\\n 9 Kills\\n 6th\\n 1 hour ago\\n Resurgence Quads\\n Lobby K/D\\n 1.21\\n Dealt\\n 2,787\\n Damage\\n Taken\\n 798\\n Kills\\n 9\\n K/D Ratio\\n 3.00\\n FOX118\\n 3 Kills\\n NormalCoder6255\\n 2 Kills\\n AntraxLXx\\n 0 Kills\\n 6th\\n 1 hour ago\\n Resurgence Quads\\n Lobby K/D\\n 1.00\\n Dealt\\n 1,648\\n Damage\\n Taken\\n 623\\n Kills\\n 2\\n K/D Ratio\\n 1.00\\n iJhay\\n 3 Kills\\n NormalCoder6255\\n 0 Kills\\n PatoVS\\n 2 Kills\\n 7th\\n 1 hour ago\\n Resurgence Quads\\n Lobby K/D\\n 0.96\\n Dealt\\n 1,426\\n Damage\\n Taken\\n 662\\n Kills\\n 2\\n K/D Ratio\\n 0.67\\n Crispin Cream#9985068\\n 3 Kills\\n NormalCoder6255\\n 3 Kills\\n Chefsito\\n 0 Kills\\n 6th\\n 1 hour ago\\n Resurgence Quads\\n Lobby K/D\\n 0.93\\n Dealt\\n 794\\n Damage\\n Taken\\n 840\\n Kills\\n 1\\n K/D Ratio\\n 0.50\\n WAD3WILSON12\\n 2 Kills\\n danijukeoh\\n 1 Kill\\n NormalCoder6255\\n 1 Kill\\n 10th\\n 2 hours ago\\n Resurgence Quads\\n Lobby K/D\\n 1.01\\n Dealt\\n 1,465\\n Damage\\n Taken\\n 218\\n Kills\\n 3\\n K/D Ratio\\n 3.00\\n izahkai#3909973\\n 1 Kill\\n Redheadedjuan\\n 0 Kills\\n NormalCoder6255\\n 0 Kills\\n 9th\\n 2 hours ago\\n Resurgence Quads\\n Lobby K/D\\n 1.04\\n Dealt\\n 1,426\\n Damage\\n Taken\\n 912\\n Kills\\n 2\\n K/D Ratio\\n 0.40\\n izahkai#3909973\\n 4 Kills\\n Redheadedjuan\\n 2 Kills\\n NormalCoder6255\\n 0 Kills\\n 9th\\n 2 hours ago\\n Resurgence Quads\\n Lobby K/D\\n 1.39\\n Dealt\\n 676\\n Damage\\n Taken\\n 275\\n Kills\\n 1\\n K/D Ratio\\n 1.00\\n notanactualking\\n 1 Kill\\n Assmayne#2392655\\n 1 Kill\\n NormalCoder6255\\n 1 Kill\\n 5th\\n 2 hours ago\\n Resurgence Quads\\n Lobby K/D\\n 1.10\\n Dealt\\n 730\\n Damage\\n Taken\\n 846\\n Kills\\n 0\\n K/D Ratio\\n 0.00\\n Umi\\n 0 Kills\\n NormalCoder6255\\n 1 Kill\\n eLgFITO#1667\\n 0 Kills\\n 7th\\n 2 hours ago\\n Resurgence Quads\\n Lobby K/D\\n 1.23\\n Dealt\\n 1,057\\n Damage\\n Taken\\n 561\\n Kills\\n 2\\n K/D Ratio\\n 1.00\\n Acclimated\\n 3 Kills\\n NormalCoder6255\\n 2 Kills\\n Plummy\\n 5 Kills\\n 7th\\n 2 hours ago\\n Resurgence Quads\\n Lobby K/D\\n 1.17\\n Dealt\\n 1,560\\n Damage\\n Taken\\n 1,061\\n Kills\\n 4\\n K/D Ratio\\n 1.00\\n FlyVenz23#4502872\\n 2 Kills\\n NormalCoder6255\\n 2 Kills\\n Str8Loco30\\n 0 Kills\\n 7th\\n 2 hours ago\\n Resurgence Quads\\n Lobby K/D\\n 1.19\\n Dealt\\n 3,565\\n Damage\\n Taken\\n 479\\n Kills\\n 8\\n K/D Ratio\\n 4.00\\n Snavetrain\\n 1 Kill\\n NormalCoder6255\\n 3 Kills\\n BlueGumie\\n 6 Kills\\n Oct 16 3\\n 0 W\\n 2 Top 5\\n Damage\\n 5,798\\n Kills\\n 13\\n K/D\\n 1.08\\n Gulag\\n 0W/0L\\n 4th\\n 3 hours ago\\n br_rebirth_shsnp_name3\\n Dealt\\n 1,274\\n Damage\\n Taken\\n 848\\n Kills\\n 3\\n K/D Ratio\\n 0.75\\n NormalCoder6255\\n 4 Kills\\n Indemnity\\n 2 Kills\\n 12th\\n 3 hours ago\\n br_rebirth_shsnp_name3\\n Dealt\\n 1,007\\n Damage\\n Taken\\n 558\\n Kills\\n 1\\n K/D Ratio\\n 0.33\\n throwawayaddress\\n 3 Kills\\n TizzyGrizzyOG\\n 1 Kill\\n 3rd\\n 10 hours ago\\n Resurgence Quads\\n Lobby K/D\\n 1.02\\n Dealt\\n 3,517\\n Damage\\n Taken\\n 1,826\\n Kills\\n 9\\n K/D Ratio\\n 1.80\\n GarrickGlizzy3\\n 3 Kills\\n ApolloGasBoy\\n 13 Kills\\n PU77YPOPPER\\n 10 Kills\\n\"\n",
    "a = a.split('\\n')"
   ]
  },
  {
   "cell_type": "code",
   "execution_count": 470,
   "id": "1b3536c3-6278-4487-b5bf-5e525b9cac73",
   "metadata": {},
   "outputs": [],
   "source": [
    "kds = []\n",
    "for i, ai in enumerate(a):\n",
    "    if ai==' Lobby K/D':\n",
    "        b = a[i+1].replace(' ', '')\n",
    "        kds.append(float(b))\n",
    "        \n",
    "kds = np.array(kds)"
   ]
  },
  {
   "cell_type": "code",
   "execution_count": 471,
   "id": "6a7eeff2-5a22-41ff-bce3-05ad74d59ec1",
   "metadata": {},
   "outputs": [
    {
     "name": "stdout",
     "output_type": "stream",
     "text": [
      "kds.min(), kds.mean(), kds.std(), kds.max()\n",
      "0.93 1.0999999999999999 0.11277254567856275 1.39\n"
     ]
    },
    {
     "data": {
      "image/png": "[encoded data removed]",
      "text/plain": [
       "<Figure size 432x288 with 1 Axes>"
      ]
     },
     "metadata": {
      "needs_background": "light"
     },
     "output_type": "display_data"
    }
   ],
   "source": [
    "plt.hist(kds);\n",
    "print('kds.min(), kds.mean(), kds.std(), kds.max()')\n",
    "print(kds.min(), kds.mean(), kds.std(), kds.max())"
   ]
  },
  {
   "cell_type": "code",
   "execution_count": 472,
   "id": "70b1ed6b-70b5-46ea-9a0e-2578dcbb704f",
   "metadata": {},
   "outputs": [],
   "source": [
    "a = '0 W\\n 2 Top 5\\n Damage\\n 45,826\\n Kills\\n 102\\n K/D\\n 7.85\\n Gulag\\n 4W/0L\\n 2nd\\n 51 minutes ago\\n Lobby K/D\\n 1.09\\n Dealt\\n 19,897\\n Damage\\n Taken\\n 2,982\\n Kills\\n 35\\n K/D Ratio\\n 17.50\\n Repullze\\n 10 Kills\\n SuperEv#8666049\\n 12 Kills\\n 30th\\n 1 hour ago\\n Lobby K/D\\n 1.09\\n Dealt\\n 7,030\\n Damage\\n Taken\\n 1,102\\n Kills\\n 11\\n K/D Ratio\\n 5.50\\n Repullze\\n 0 Kills\\n SuperEv#8666049\\n 5 Kills\\n 11th\\n 1 hour ago\\n BR Quads\\n Lobby K/D\\n 1.05\\n Dealt\\n 7,607\\n Damage\\n Taken\\n 1,186\\n Kills\\n 17\\n K/D Ratio\\n 5.67\\n Repullze\\n 4 Kills\\n SuperEv#8666049\\n 22 Kills\\n 13th\\n 1 hour ago\\n BR Quads\\n Lobby K/D\\n 1.27\\n Dealt\\n 7,467\\n Damage\\n Taken\\n 527\\n Kills\\n 23\\n K/D Ratio\\n 11.50\\n Repullze\\n 5 Kills\\n SuperEv#8666049\\n 7 Kills\\n 26th\\n 2 hours ago\\n BR Quads\\n Lobby K/D\\n 1.09\\n Dealt\\n 8\\n Damage\\n Taken\\n 184\\n Kills\\n 0\\n K/D Ratio\\n 0.00\\n Repullze\\n 0 Kills\\n SuperEv#8666049\\n 0 Kills\\n 4th\\n 2 hours ago\\n BR Quads\\n Lobby K/D\\n 1.09\\n Dealt\\n 2\\n Damage\\n Taken\\n 263\\n Kills\\n 0\\n K/D Ratio\\n 0.00\\n Repullze\\n 0 Kills\\n SuperEv#8666049\\n 0 Kills\\n 39th\\n 2 hours ago\\n BR Quads\\n Lobby K/D\\n 0.99\\n Dealt\\n 0\\n Damage\\n Taken\\n 0\\n Kills\\n 0\\n K/D Ratio\\n 0.00\\n Repullze\\n 0 Kills\\n SuperEv#8666049\\n 0 Kills\\n 21st\\n 2 hours ago\\n BR Quads\\n Lobby K/D\\n 1.11\\n Dealt\\n 3,815\\n Damage\\n Taken\\n 583\\n Kills\\n 16\\n K/D Ratio\\n 8.00\\n Repullze\\n 3 Kills\\n SuperEv#8666049\\n 12 Kills\\n Oct 16 10\\n 3 W\\n 3 Top 5\\n Damage\\n 93,002\\n Kills\\n 206\\n K/D\\n 12.88\\n Gulag\\n 3W/2L\\n 1st\\n 3 hours ago\\n BR Quads\\n Lobby K/D\\n 0.99\\n Dealt\\n 14,931\\n Damage\\n Taken\\n 1,092\\n Kills\\n 40\\n K/D Ratio\\n 20.00\\n Repullze\\n 26 Kills\\n SuperEv#8666049\\n 3 Kills\\n 22nd\\n 3 hours ago\\n BR Quads\\n Lobby K/D\\n 1.09\\n Dealt\\n 4,918\\n Damage\\n Taken\\n 367\\n Kills\\n 12\\n K/D Ratio\\n 6.00\\n Repullze\\n 8 Kills\\n SuperEv#8666049\\n 4 Kills\\n 7th\\n 4 hours ago\\n Lobby K/D\\n 1.28\\n Dealt\\n 11,049\\n Damage\\n Taken\\n 869\\n Kills\\n 15\\n K/D Ratio\\n 15.00\\n Repullze\\n 7 Kills\\n SuperEv#8666049\\n 8 Kills\\n 11th\\n 4 hours ago\\n Lobby K/D\\n 1.39\\n Dealt\\n 9,132\\n Damage\\n Taken\\n 2,042\\n Kills\\n 16\\n K/D Ratio\\n 8.00\\n Repullze\\n 10 Kills\\n SuperEv#8666049\\n 7 Kills\\n 1st\\n 4 hours ago\\n Lobby K/D\\n 1.03\\n Dealt\\n 15,629\\n Damage\\n Taken\\n 686\\n Kills\\n 23\\n K/D Ratio\\n 23.00\\n Repullze\\n 12 Kills\\n SuperEv#8666049\\n 23 Kills\\n 43rd\\n 4 hours ago\\n Lobby K/D\\n 1.41\\n Dealt\\n 0\\n Damage\\n Taken\\n 0\\n Kills\\n 0\\n K/D Ratio\\n 0.00\\n 2nd\\n 5 hours ago\\n BR Quads\\n Lobby K/D\\n 1.11\\n Dealt\\n 12,542\\n Damage\\n Taken\\n 388\\n Kills\\n 33\\n K/D Ratio\\n 33.00\\n Repullze\\n 6 Kills\\n SuperEv#8666049\\n 10 Kills\\n 1st\\n 5 hours ago\\n BR Quads\\n Lobby K/D\\n 0.98\\n Dealt\\n 12,343\\n Damage\\n Taken\\n 989\\n Kills\\n 32\\n K/D Ratio\\n 10.67\\n Repullze\\n 12 Kills\\n SuperEv#8666049\\n 42 Kills\\n 2nd\\n 1 day ago\\n BR Quads\\n Lobby K/D\\n 1.13\\n Dealt\\n 4,356\\n Damage\\n Taken\\n 584\\n Kills\\n 10\\n K/D Ratio\\n 5.00\\n Repullze\\n 2 Kills\\n SuperEv#8666049\\n 29 Kills\\n lucky#16343\\n 2 Kills\\n 4th\\n 1 day ago\\n BR Quads\\n Lobby K/D\\n 1.16\\n Dealt\\n 8,102\\n Damage\\n Taken\\n 523\\n Kills\\n 25\\n K/D Ratio\\n 12.50\\n Repullze\\n 6 Kills\\n SuperEv#8666049\\n 25 Kills\\n lucky#16343\\n 2 Kills\\n Oct 15 2\\n 1 W\\n 0 Top 5\\n Damage\\n 6,126\\n Kills\\n 20\\n K/D\\n 5.00\\n Gulag\\n 1W/0L\\n 1st\\n 1 day ago\\n BR Quads\\n Lobby K/D\\n 1.20\\n Dealt\\n 2,686\\n Damage\\n Taken\\n 652\\n Kills\\n 14\\n K/D Ratio\\n 4.67\\n Repullze\\n 21 Kills\\n SuperEv#8666049\\n 29 Kills\\n lucky#16343\\n 10 Kills\\n 19th\\n 1 day ago\\n Lobby K/D\\n 1.06\\n Dealt\\n 3,440\\n Damage\\n Taken\\n 619\\n Kills\\n 6\\n K/D Ratio\\n 6.00\\n Cpt_Schnoodle\\n 0 Kills\\n L0USPAWN\\n 0 Kills\\n Repullze\\n 10 Kills\\n SuperEv#8666049\\n 3 Kills\\n'\n",
    "a = a.split('\\n')"
   ]
  },
  {
   "cell_type": "code",
   "execution_count": 473,
   "id": "da9bc205-de48-45af-ac16-6f89b8c8d0a6",
   "metadata": {},
   "outputs": [],
   "source": [
    "kds = []\n",
    "for i, ai in enumerate(a):\n",
    "    if ai==' Lobby K/D':\n",
    "        b = a[i+1].replace(' ', '')\n",
    "        kds.append(float(b))\n",
    "        \n",
    "kds = np.array(kds)"
   ]
  },
  {
   "cell_type": "code",
   "execution_count": 474,
   "id": "b6f3092e-a58f-4640-8135-17bf328e5b31",
   "metadata": {},
   "outputs": [
    {
     "name": "stdout",
     "output_type": "stream",
     "text": [
      "kds.min(), kds.mean(), kds.std(), kds.max()\n",
      "0.98 1.1304999999999998 0.11951882696880851 1.41\n"
     ]
    },
    {
     "data": {
      "image/png": "[encoded data removed]",
      "text/plain": [
       "<Figure size 432x288 with 1 Axes>"
      ]
     },
     "metadata": {
      "needs_background": "light"
     },
     "output_type": "display_data"
    }
   ],
   "source": [
    "plt.hist(kds);\n",
    "print('kds.min(), kds.mean(), kds.std(), kds.max()')\n",
    "print(kds.min(), kds.mean(), kds.std(), kds.max())"
   ]
  },
  {
   "cell_type": "code",
   "execution_count": null,
   "id": "df9ea085-10d1-42eb-af32-bab22c1cf34a",
   "metadata": {},
   "outputs": [],
   "source": []
  }
 ],
 "metadata": {
  "kernelspec": {
   "display_name": "Python 3",
   "language": "python",
   "name": "python3"
  },
  "language_info": {
   "codemirror_mode": {
    "name": "ipython",
    "version": 3
   },
   "file_extension": ".py",
   "mimetype": "text/x-python",
   "name": "python",
   "nbconvert_exporter": "python",
   "pygments_lexer": "ipython3",
   "version": "3.6.13"
  }
 },
 "nbformat": 4,
 "nbformat_minor": 5
}
