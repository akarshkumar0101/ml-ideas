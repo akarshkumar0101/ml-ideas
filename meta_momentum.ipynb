{
 "cells": [
  {
   "cell_type": "markdown",
   "id": "b822ab4b-88ef-493d-aaa1-eb1b88e96cac",
   "metadata": {},
   "source": [
    "# Meta learning momentum parameter\n",
    "Can we learn/meta-learn the momentum parameter using the gradient of the loss during training?\n",
    "\n",
    "\n",
    "Later on, can we learn/meta-learn all the hardcoded parameters? maybe even look ahead of the optimization using meta-learning of the past history of weights?"
   ]
  },
  {
   "cell_type": "code",
   "execution_count": 6,
   "id": "219ac81c-225a-40d4-b0fd-490a55eee5eb",
   "metadata": {},
   "outputs": [],
   "source": [
    "%load_ext autoreload\n",
    "%autoreload 2"
   ]
  },
  {
   "cell_type": "code",
   "execution_count": 7,
   "id": "87e8fb79-4391-43c1-82e0-ef8a0c4230a1",
   "metadata": {},
   "outputs": [],
   "source": [
    "%run imports.py"
   ]
  },
  {
   "cell_type": "code",
   "execution_count": 9,
   "id": "23a060cf-7fa9-458d-97e3-efe098bb00bc",
   "metadata": {},
   "outputs": [
    {
     "data": {
      "text/plain": [
       "<mnist.MNIST at 0x7fe5ca156b20>"
      ]
     },
     "execution_count": 9,
     "metadata": {},
     "output_type": "execute_result"
    }
   ],
   "source": [
    "import util"
   ]
  },
  {
   "cell_type": "code",
   "execution_count": 163,
   "id": "ac7bb1e1-0f49-49ec-8eeb-b10bb5b99502",
   "metadata": {},
   "outputs": [
    {
     "name": "stdout",
     "output_type": "stream",
     "text": [
      "Files already downloaded and verified\n",
      "Files already downloaded and verified\n"
     ]
    }
   ],
   "source": [
    "ds = cifar10.CIFAR10()\n",
    "# ds = mnist.MNIST()\n",
    "model = cifar10.BigNetwork"
   ]
  },
  {
   "cell_type": "code",
   "execution_count": 164,
   "id": "e797cc58-f1ee-42b7-b35c-363860583fc8",
   "metadata": {},
   "outputs": [],
   "source": [
    "net = model()"
   ]
  },
  {
   "cell_type": "code",
   "execution_count": null,
   "id": "a250557e-5004-4f53-a2ce-9d791d93196f",
   "metadata": {},
   "outputs": [],
   "source": []
  },
  {
   "cell_type": "code",
   "execution_count": null,
   "id": "0bb5d96e-18e2-49f4-aefe-ff90f8d7f51b",
   "metadata": {},
   "outputs": [],
   "source": []
  },
  {
   "cell_type": "code",
   "execution_count": 166,
   "id": "6488430b-c33e-460e-95bf-b8d9f94ea71b",
   "metadata": {},
   "outputs": [],
   "source": [
    "def train_adam(net, accu, lr=1e-2):\n",
    "    opt = torch.optim.Adam(net.parameters(), lr=lr)\n",
    "    \n",
    "    for epoch_idx in range(5):\n",
    "        for x, y in tqdm(ds.dl_train):\n",
    "            yp = net(x)\n",
    "            loss = ds.loss_fn(yp, y)\n",
    "            \n",
    "            opt.zero_grad()\n",
    "            loss.backward()\n",
    "            opt.step()\n",
    "            print(loss.item())\n",
    "            accu.append(loss_batch=loss.item())\n",
    "            \n",
    "def train_sgd(net, accu, lr=1e-2, momentum=0):\n",
    "    m = None\n",
    "    for epoch_idx in range(5):\n",
    "        for x, y in tqdm(ds.dl_train):\n",
    "            yp = net(x)\n",
    "            loss = ds.loss_fn(yp, y)\n",
    "            \n",
    "            for pi in net.parameters():\n",
    "                pi.grad = None\n",
    "                \n",
    "            loss.backward()\n",
    "            \n",
    "            if m is None:\n",
    "                m = [pi.grad.detach() for pi in net.parameters()]\n",
    "            else:\n",
    "                m = [momentum*mi+pi.grad.detach() for mi, pi in zip(m, net.parameters())]\n",
    "                \n",
    "            for pi, mi in zip(net.parameters(), m):\n",
    "                pi.data -= lr*mi\n",
    "            \n",
    "            # print(loss.item())\n",
    "            accu.append(loss_batch=loss.item(), momentum=momentum)\n",
    "            \n",
    "def train_meta(net, accu, lr=1e-2, momentum=0, lr_momentum=1e-2):\n",
    "    \n",
    "    momentum = torch.tensor(momentum).float().requires_grad_()\n",
    "    \n",
    "    opt = torch.optim.Adam([momentum], lr=lr_momentum)\n",
    "    \n",
    "    vp = torch.cat([pi.flatten().detach() for pi in net.parameters()]).detach()\n",
    "    m = torch.zeros_like(vp)\n",
    "    g = torch.zeros_like(vp)\n",
    "    for epoch_idx in range(10):\n",
    "        for x, y in tqdm(ds.dl_train):\n",
    "            m = momentum.sigmoid()*m.detach() + g\n",
    "                \n",
    "            v = vp.detach() - lr*m\n",
    "            \n",
    "            nn.utils.vector_to_parameters(v, net.parameters())\n",
    "            yp = net(x)\n",
    "            loss = ds.loss_fn(yp, y)\n",
    "            \n",
    "            for pi in net.parameters():\n",
    "                pi.grad = None\n",
    "            # momentum.grad = None\n",
    "            opt.zero_grad()\n",
    "                \n",
    "            loss.backward()\n",
    "            g = torch.cat([pi.grad.flatten().detach() for pi in net.parameters()]).detach()\n",
    "            \n",
    "            if v.grad_fn is not None:\n",
    "                v.backward(g)\n",
    "                mg = momentum.grad\n",
    "                # print(mg.item())\n",
    "                # momentum = (momentum.detach() - lr_momentum*mg).requires_grad_()\n",
    "                opt.step()\n",
    "            \n",
    "            vp = v\n",
    "                \n",
    "            # momentum -= lr_momentum*(-lr*np.sum([torch.sum(mi) for mi in m]))\n",
    "            \n",
    "            print(loss.item(), momentum.sigmoid())\n",
    "            accu.append(loss_batch=loss.item(), momentum=momentum.sigmoid().item())\n",
    "            \n",
    "            \n"
   ]
  },
  {
   "cell_type": "code",
   "execution_count": null,
   "id": "e6d6d76a-a600-44ec-8ec4-1eba5ab5a459",
   "metadata": {},
   "outputs": [],
   "source": []
  },
  {
   "cell_type": "code",
   "execution_count": null,
   "id": "69e6950e-d981-49ab-8790-278b9a4047fe",
   "metadata": {},
   "outputs": [],
   "source": []
  },
  {
   "cell_type": "code",
   "execution_count": null,
   "id": "a939b05f-a340-4b40-9353-d62ef96250a3",
   "metadata": {},
   "outputs": [],
   "source": []
  },
  {
   "cell_type": "code",
   "execution_count": null,
   "id": "8abd2e75-ba68-444f-9546-b6874c35cddd",
   "metadata": {},
   "outputs": [],
   "source": []
  },
  {
   "cell_type": "code",
   "execution_count": 170,
   "id": "bcdd2ebe-fb42-425a-bce7-02d82165e48c",
   "metadata": {},
   "outputs": [
    {
     "data": {
      "application/vnd.jupyter.widget-view+json": {
       "model_id": "69d0c2aa25e3470fafa9342b1775650c",
       "version_major": 2,
       "version_minor": 0
      },
      "text/plain": [
       "  0%|          | 0/50 [00:00<?, ?it/s]"
      ]
     },
     "metadata": {},
     "output_type": "display_data"
    },
    {
     "name": "stdout",
     "output_type": "stream",
     "text": [
      "2.3066694736480713\n",
      "2.308208465576172\n",
      "2.2998387813568115\n",
      "2.3202600479125977\n",
      "2.296872854232788\n",
      "2.295726776123047\n",
      "2.264211416244507\n",
      "2.1928749084472656\n",
      "2.3851404190063477\n",
      "2.552947759628296\n",
      "2.1713709831237793\n",
      "2.23350191116333\n",
      "2.2409257888793945\n",
      "2.2360305786132812\n",
      "2.228644371032715\n",
      "2.1937222480773926\n",
      "2.1663572788238525\n",
      "2.106297254562378\n",
      "2.1204512119293213\n",
      "2.1115009784698486\n",
      "2.07768177986145\n",
      "2.044428825378418\n",
      "2.0712902545928955\n",
      "2.0226447582244873\n",
      "2.0135669708251953\n",
      "1.992177963256836\n",
      "1.9772331714630127\n",
      "1.9722092151641846\n",
      "1.9255508184432983\n",
      "1.8866232633590698\n",
      "2.0223634243011475\n",
      "1.9077752828598022\n",
      "1.841286063194275\n",
      "1.9655160903930664\n",
      "1.8744423389434814\n",
      "1.820263147354126\n",
      "1.81963312625885\n",
      "1.818922996520996\n",
      "1.7929080724716187\n",
      "1.780966877937317\n",
      "1.8059749603271484\n",
      "1.7544469833374023\n",
      "1.7509125471115112\n",
      "1.7742778062820435\n",
      "1.819007158279419\n",
      "1.9881479740142822\n",
      "1.763730525970459\n",
      "1.8450061082839966\n",
      "1.709405541419983\n",
      "1.7788691520690918\n"
     ]
    },
    {
     "data": {
      "application/vnd.jupyter.widget-view+json": {
       "model_id": "4d173fbde5af40a0897ce302051b3e88",
       "version_major": 2,
       "version_minor": 0
      },
      "text/plain": [
       "  0%|          | 0/50 [00:00<?, ?it/s]"
      ]
     },
     "metadata": {},
     "output_type": "display_data"
    },
    {
     "name": "stdout",
     "output_type": "stream",
     "text": [
      "1.7758939266204834\n",
      "1.8090507984161377\n",
      "1.766975998878479\n",
      "1.7219414710998535\n",
      "1.7301257848739624\n",
      "1.7040181159973145\n",
      "1.7462536096572876\n",
      "1.717441201210022\n",
      "1.7189351320266724\n",
      "1.7029768228530884\n",
      "1.6794800758361816\n",
      "1.6725808382034302\n",
      "1.6200752258300781\n",
      "1.6331305503845215\n",
      "1.6061515808105469\n",
      "1.5922995805740356\n",
      "1.6215603351593018\n",
      "1.5725982189178467\n",
      "1.5483204126358032\n",
      "1.5944668054580688\n",
      "1.5477948188781738\n",
      "1.553147792816162\n",
      "1.588266372680664\n",
      "1.579323410987854\n",
      "1.567495584487915\n",
      "1.5419354438781738\n",
      "1.5231082439422607\n",
      "1.6008124351501465\n",
      "1.5175392627716064\n",
      "1.558905005455017\n",
      "1.523191213607788\n",
      "1.5510587692260742\n",
      "1.496039867401123\n",
      "1.4547309875488281\n",
      "1.4783180952072144\n",
      "1.563341498374939\n",
      "1.7192238569259644\n",
      "1.421628713607788\n",
      "1.633508324623108\n",
      "1.5205241441726685\n",
      "1.4569034576416016\n",
      "1.5179564952850342\n",
      "1.542014479637146\n",
      "1.505432367324829\n",
      "1.4722135066986084\n",
      "1.4782098531723022\n",
      "1.5011347532272339\n",
      "1.560872197151184\n",
      "1.427419662475586\n",
      "1.4398034811019897\n"
     ]
    },
    {
     "data": {
      "application/vnd.jupyter.widget-view+json": {
       "model_id": "de00694119674aebbe4183299ababa55",
       "version_major": 2,
       "version_minor": 0
      },
      "text/plain": [
       "  0%|          | 0/50 [00:00<?, ?it/s]"
      ]
     },
     "metadata": {},
     "output_type": "display_data"
    },
    {
     "name": "stdout",
     "output_type": "stream",
     "text": [
      "1.4174443483352661\n",
      "1.3771677017211914\n",
      "1.4005801677703857\n",
      "1.4383403062820435\n",
      "1.4703882932662964\n",
      "1.5002708435058594\n",
      "1.4362459182739258\n",
      "1.5306674242019653\n",
      "1.4229159355163574\n",
      "1.4795762300491333\n",
      "1.3446383476257324\n",
      "1.4122258424758911\n",
      "1.355285406112671\n",
      "1.4147192239761353\n",
      "1.4457595348358154\n",
      "1.3328598737716675\n",
      "1.412315845489502\n",
      "1.450978398323059\n",
      "1.3954670429229736\n",
      "1.412721872329712\n",
      "1.4394574165344238\n",
      "1.32667076587677\n",
      "1.406242847442627\n",
      "1.3263309001922607\n",
      "1.3015835285186768\n",
      "1.3208425045013428\n",
      "1.3138153553009033\n",
      "1.3682299852371216\n",
      "1.350472092628479\n",
      "1.3796466588974\n",
      "1.2568671703338623\n",
      "1.3188916444778442\n",
      "1.3433183431625366\n",
      "1.3191694021224976\n",
      "1.306684970855713\n",
      "1.3653379678726196\n",
      "1.318619966506958\n",
      "1.3742064237594604\n",
      "1.4119759798049927\n",
      "1.3320690393447876\n",
      "1.2692688703536987\n",
      "1.3597698211669922\n",
      "1.250747799873352\n",
      "1.3970390558242798\n",
      "1.2401388883590698\n",
      "1.3082443475723267\n",
      "1.3645920753479004\n",
      "1.3911690711975098\n",
      "1.2407629489898682\n",
      "1.3099217414855957\n"
     ]
    },
    {
     "data": {
      "application/vnd.jupyter.widget-view+json": {
       "model_id": "1dd60c9a049045478faa2601f24bc51d",
       "version_major": 2,
       "version_minor": 0
      },
      "text/plain": [
       "  0%|          | 0/50 [00:00<?, ?it/s]"
      ]
     },
     "metadata": {},
     "output_type": "display_data"
    },
    {
     "name": "stdout",
     "output_type": "stream",
     "text": [
      "1.3738362789154053\n",
      "1.2495774030685425\n",
      "1.2972121238708496\n",
      "1.3364766836166382\n",
      "1.2435028553009033\n",
      "1.3083699941635132\n",
      "1.2786836624145508\n",
      "1.252955436706543\n",
      "1.297607183456421\n",
      "1.232840895652771\n",
      "1.2106820344924927\n",
      "1.193884253501892\n",
      "1.2449862957000732\n",
      "1.2057795524597168\n",
      "1.1613538265228271\n",
      "1.2068300247192383\n",
      "1.2978215217590332\n",
      "1.2872633934020996\n",
      "1.1461788415908813\n",
      "1.2422271966934204\n",
      "1.203616738319397\n",
      "1.2630327939987183\n",
      "1.257696509361267\n",
      "1.1890676021575928\n",
      "1.2723608016967773\n",
      "1.2465498447418213\n",
      "1.2286858558654785\n",
      "1.173343539237976\n",
      "1.2419710159301758\n",
      "1.1370376348495483\n",
      "1.19643235206604\n",
      "1.2817602157592773\n",
      "1.2142891883850098\n",
      "1.1774392127990723\n",
      "1.14873206615448\n",
      "1.1273610591888428\n",
      "1.1543077230453491\n",
      "1.1348847150802612\n",
      "1.1677305698394775\n",
      "1.1699448823928833\n",
      "1.1511012315750122\n",
      "1.1741913557052612\n",
      "1.1539186239242554\n",
      "1.1501665115356445\n",
      "1.1767258644104004\n",
      "1.152433156967163\n",
      "1.1718803644180298\n",
      "1.075394630432129\n",
      "1.1470043659210205\n",
      "1.1603983640670776\n"
     ]
    },
    {
     "data": {
      "application/vnd.jupyter.widget-view+json": {
       "model_id": "265958e3ce4a46f4902b8521bc72d2e3",
       "version_major": 2,
       "version_minor": 0
      },
      "text/plain": [
       "  0%|          | 0/50 [00:00<?, ?it/s]"
      ]
     },
     "metadata": {},
     "output_type": "display_data"
    },
    {
     "name": "stdout",
     "output_type": "stream",
     "text": [
      "1.143585443496704\n",
      "1.098076581954956\n",
      "1.02261221408844\n",
      "1.1141252517700195\n",
      "1.0918829441070557\n",
      "1.0404380559921265\n",
      "1.0570085048675537\n",
      "1.0244120359420776\n",
      "1.1067982912063599\n",
      "1.0708526372909546\n",
      "1.1091344356536865\n",
      "1.0476638078689575\n",
      "1.0939749479293823\n",
      "1.0160188674926758\n",
      "1.0430742502212524\n",
      "1.1475627422332764\n",
      "1.0888619422912598\n",
      "1.0975263118743896\n",
      "1.0259684324264526\n",
      "1.0860902070999146\n",
      "1.0746943950653076\n",
      "1.0194686651229858\n",
      "1.0192162990570068\n",
      "1.065758228302002\n",
      "1.055585503578186\n",
      "1.0954416990280151\n",
      "1.0593010187149048\n",
      "1.0779776573181152\n",
      "1.1046338081359863\n",
      "1.1369339227676392\n",
      "1.2659170627593994\n",
      "1.1041984558105469\n",
      "1.187919020652771\n",
      "1.2164181470870972\n",
      "1.129400372505188\n",
      "1.1910738945007324\n",
      "1.2040495872497559\n",
      "1.1040886640548706\n",
      "1.1247785091400146\n",
      "1.1108512878417969\n",
      "1.0685126781463623\n",
      "1.0937278270721436\n",
      "1.0867165327072144\n",
      "1.1053358316421509\n",
      "1.1313612461090088\n",
      "1.1043585538864136\n",
      "1.1206023693084717\n",
      "1.1468335390090942\n",
      "1.0755548477172852\n",
      "1.0532077550888062\n"
     ]
    }
   ],
   "source": [
    "train_adam(model(), util.Accumulator(), lr=1e-2)"
   ]
  },
  {
   "cell_type": "code",
   "execution_count": null,
   "id": "5d9d9a55-c780-498e-b635-de41ccc94810",
   "metadata": {},
   "outputs": [],
   "source": []
  },
  {
   "cell_type": "code",
   "execution_count": null,
   "id": "e3984759-c3e9-4849-9b2c-47135ed7849d",
   "metadata": {},
   "outputs": [],
   "source": []
  },
  {
   "cell_type": "code",
   "execution_count": null,
   "id": "ad656c56-4777-48f1-a86c-63ef24674cd5",
   "metadata": {},
   "outputs": [],
   "source": []
  },
  {
   "cell_type": "code",
   "execution_count": null,
   "id": "3b2d1d31-2882-4143-b4c5-a7a25eec5b74",
   "metadata": {},
   "outputs": [],
   "source": []
  },
  {
   "cell_type": "code",
   "execution_count": null,
   "id": "b8e5cb6a-ca22-4637-9f21-5749f53c0035",
   "metadata": {},
   "outputs": [],
   "source": []
  },
  {
   "cell_type": "code",
   "execution_count": null,
   "id": "361fe3da-7497-4b7d-97c2-a3221e165f1c",
   "metadata": {},
   "outputs": [],
   "source": []
  },
  {
   "cell_type": "code",
   "execution_count": null,
   "id": "1394f8a1-86a4-4b53-80c7-57cc751924da",
   "metadata": {},
   "outputs": [],
   "source": []
  },
  {
   "cell_type": "code",
   "execution_count": null,
   "id": "496495df-7077-41ce-98bc-b7624986c388",
   "metadata": {},
   "outputs": [],
   "source": []
  },
  {
   "cell_type": "code",
   "execution_count": 153,
   "id": "ed3e31db-7f51-4863-b49d-2a04140adfc0",
   "metadata": {},
   "outputs": [
    {
     "data": {
      "application/vnd.jupyter.widget-view+json": {
       "model_id": "0faff7de22b1494ea14d66a264d78ce9",
       "version_major": 2,
       "version_minor": 0
      },
      "text/plain": [
       "  0%|          | 0/50 [00:00<?, ?it/s]"
      ]
     },
     "metadata": {},
     "output_type": "display_data"
    },
    {
     "name": "stdout",
     "output_type": "stream",
     "text": [
      "2.3067383766174316 tensor(0.2689, grad_fn=<SigmoidBackward0>)\n",
      "2.3106906414031982 tensor(0.2689, grad_fn=<SigmoidBackward0>)\n",
      "2.3092284202575684 tensor(0.2702, grad_fn=<SigmoidBackward0>)\n",
      "2.3072946071624756 tensor(0.2717, grad_fn=<SigmoidBackward0>)\n",
      "2.311000108718872 tensor(0.2734, grad_fn=<SigmoidBackward0>)\n",
      "2.3116979598999023 tensor(0.2751, grad_fn=<SigmoidBackward0>)\n",
      "2.3115134239196777 tensor(0.2770, grad_fn=<SigmoidBackward0>)\n",
      "2.303755521774292 tensor(0.2788, grad_fn=<SigmoidBackward0>)\n",
      "2.309750556945801 tensor(0.2807, grad_fn=<SigmoidBackward0>)\n",
      "2.3104660511016846 tensor(0.2826, grad_fn=<SigmoidBackward0>)\n",
      "2.309832811355591 tensor(0.2845, grad_fn=<SigmoidBackward0>)\n",
      "2.3092429637908936 tensor(0.2865, grad_fn=<SigmoidBackward0>)\n",
      "2.3064935207366943 tensor(0.2885, grad_fn=<SigmoidBackward0>)\n",
      "2.3098902702331543 tensor(0.2905, grad_fn=<SigmoidBackward0>)\n",
      "2.3047616481781006 tensor(0.2925, grad_fn=<SigmoidBackward0>)\n",
      "2.3134427070617676 tensor(0.2946, grad_fn=<SigmoidBackward0>)\n",
      "2.313577890396118 tensor(0.2967, grad_fn=<SigmoidBackward0>)\n",
      "2.3095176219940186 tensor(0.2988, grad_fn=<SigmoidBackward0>)\n",
      "2.302828073501587 tensor(0.3009, grad_fn=<SigmoidBackward0>)\n",
      "2.3064935207366943 tensor(0.3030, grad_fn=<SigmoidBackward0>)\n",
      "2.312012195587158 tensor(0.3051, grad_fn=<SigmoidBackward0>)\n",
      "2.3078081607818604 tensor(0.3072, grad_fn=<SigmoidBackward0>)\n",
      "2.310786724090576 tensor(0.3094, grad_fn=<SigmoidBackward0>)\n",
      "2.308398485183716 tensor(0.3116, grad_fn=<SigmoidBackward0>)\n",
      "2.3093373775482178 tensor(0.3138, grad_fn=<SigmoidBackward0>)\n",
      "2.3106393814086914 tensor(0.3160, grad_fn=<SigmoidBackward0>)\n",
      "2.3059229850769043 tensor(0.3182, grad_fn=<SigmoidBackward0>)\n",
      "2.304001808166504 tensor(0.3204, grad_fn=<SigmoidBackward0>)\n",
      "2.3149797916412354 tensor(0.3226, grad_fn=<SigmoidBackward0>)\n",
      "2.303443193435669 tensor(0.3246, grad_fn=<SigmoidBackward0>)\n",
      "2.311068058013916 tensor(0.3268, grad_fn=<SigmoidBackward0>)\n",
      "2.3074839115142822 tensor(0.3290, grad_fn=<SigmoidBackward0>)\n",
      "2.3060874938964844 tensor(0.3311, grad_fn=<SigmoidBackward0>)\n",
      "2.311314105987549 tensor(0.3333, grad_fn=<SigmoidBackward0>)\n",
      "2.308495044708252 tensor(0.3355, grad_fn=<SigmoidBackward0>)\n",
      "2.3048105239868164 tensor(0.3378, grad_fn=<SigmoidBackward0>)\n",
      "2.307640314102173 tensor(0.3401, grad_fn=<SigmoidBackward0>)\n",
      "2.311126232147217 tensor(0.3424, grad_fn=<SigmoidBackward0>)\n",
      "2.3066084384918213 tensor(0.3447, grad_fn=<SigmoidBackward0>)\n",
      "2.3105244636535645 tensor(0.3470, grad_fn=<SigmoidBackward0>)\n",
      "2.30839467048645 tensor(0.3494, grad_fn=<SigmoidBackward0>)\n",
      "2.3084006309509277 tensor(0.3518, grad_fn=<SigmoidBackward0>)\n",
      "2.3123395442962646 tensor(0.3543, grad_fn=<SigmoidBackward0>)\n",
      "2.305225133895874 tensor(0.3568, grad_fn=<SigmoidBackward0>)\n",
      "2.3048059940338135 tensor(0.3594, grad_fn=<SigmoidBackward0>)\n",
      "2.3025362491607666 tensor(0.3617, grad_fn=<SigmoidBackward0>)\n",
      "2.3026554584503174 tensor(0.3641, grad_fn=<SigmoidBackward0>)\n",
      "2.310018301010132 tensor(0.3664, grad_fn=<SigmoidBackward0>)\n",
      "2.307119846343994 tensor(0.3687, grad_fn=<SigmoidBackward0>)\n",
      "2.312744140625 tensor(0.3711, grad_fn=<SigmoidBackward0>)\n"
     ]
    },
    {
     "data": {
      "application/vnd.jupyter.widget-view+json": {
       "model_id": "6ad931df5c3a4754a0cea0615c9a9352",
       "version_major": 2,
       "version_minor": 0
      },
      "text/plain": [
       "  0%|          | 0/50 [00:00<?, ?it/s]"
      ]
     },
     "metadata": {},
     "output_type": "display_data"
    },
    {
     "name": "stdout",
     "output_type": "stream",
     "text": [
      "2.309032678604126 tensor(0.3735, grad_fn=<SigmoidBackward0>)\n",
      "2.3072969913482666 tensor(0.3758, grad_fn=<SigmoidBackward0>)\n",
      "2.314378261566162 tensor(0.3784, grad_fn=<SigmoidBackward0>)\n",
      "2.3112642765045166 tensor(0.3810, grad_fn=<SigmoidBackward0>)\n",
      "2.30700421333313 tensor(0.3836, grad_fn=<SigmoidBackward0>)\n",
      "2.3021843433380127 tensor(0.3862, grad_fn=<SigmoidBackward0>)\n",
      "2.309767961502075 tensor(0.3888, grad_fn=<SigmoidBackward0>)\n",
      "2.3096604347229004 tensor(0.3915, grad_fn=<SigmoidBackward0>)\n",
      "2.3075430393218994 tensor(0.3940, grad_fn=<SigmoidBackward0>)\n",
      "2.309297561645508 tensor(0.3967, grad_fn=<SigmoidBackward0>)\n",
      "2.3103225231170654 tensor(0.3994, grad_fn=<SigmoidBackward0>)\n",
      "2.3089494705200195 tensor(0.4022, grad_fn=<SigmoidBackward0>)\n",
      "2.308406114578247 tensor(0.4050, grad_fn=<SigmoidBackward0>)\n",
      "2.311743974685669 tensor(0.4078, grad_fn=<SigmoidBackward0>)\n",
      "2.3070731163024902 tensor(0.4107, grad_fn=<SigmoidBackward0>)\n",
      "2.303440809249878 tensor(0.4134, grad_fn=<SigmoidBackward0>)\n",
      "2.2990715503692627 tensor(0.4160, grad_fn=<SigmoidBackward0>)\n",
      "2.305161237716675 tensor(0.4185, grad_fn=<SigmoidBackward0>)\n",
      "2.3073413372039795 tensor(0.4208, grad_fn=<SigmoidBackward0>)\n",
      "2.306906223297119 tensor(0.4231, grad_fn=<SigmoidBackward0>)\n",
      "2.309633255004883 tensor(0.4255, grad_fn=<SigmoidBackward0>)\n",
      "2.3070731163024902 tensor(0.4278, grad_fn=<SigmoidBackward0>)\n",
      "2.3053839206695557 tensor(0.4302, grad_fn=<SigmoidBackward0>)\n",
      "2.312168598175049 tensor(0.4327, grad_fn=<SigmoidBackward0>)\n",
      "2.3064067363739014 tensor(0.4353, grad_fn=<SigmoidBackward0>)\n",
      "2.300295114517212 tensor(0.4377, grad_fn=<SigmoidBackward0>)\n",
      "2.307455539703369 tensor(0.4401, grad_fn=<SigmoidBackward0>)\n",
      "2.31021785736084 tensor(0.4425, grad_fn=<SigmoidBackward0>)\n",
      "2.3036983013153076 tensor(0.4448, grad_fn=<SigmoidBackward0>)\n",
      "2.306941509246826 tensor(0.4472, grad_fn=<SigmoidBackward0>)\n",
      "2.3041224479675293 tensor(0.4497, grad_fn=<SigmoidBackward0>)\n",
      "2.3129384517669678 tensor(0.4523, grad_fn=<SigmoidBackward0>)\n",
      "2.306725263595581 tensor(0.4548, grad_fn=<SigmoidBackward0>)\n",
      "2.3073840141296387 tensor(0.4575, grad_fn=<SigmoidBackward0>)\n",
      "2.2987167835235596 tensor(0.4599, grad_fn=<SigmoidBackward0>)\n",
      "2.307293653488159 tensor(0.4624, grad_fn=<SigmoidBackward0>)\n",
      "2.308424472808838 tensor(0.4648, grad_fn=<SigmoidBackward0>)\n",
      "2.3095123767852783 tensor(0.4672, grad_fn=<SigmoidBackward0>)\n",
      "2.3132266998291016 tensor(0.4698, grad_fn=<SigmoidBackward0>)\n",
      "2.308178663253784 tensor(0.4725, grad_fn=<SigmoidBackward0>)\n",
      "2.3077454566955566 tensor(0.4753, grad_fn=<SigmoidBackward0>)\n",
      "2.304849863052368 tensor(0.4781, grad_fn=<SigmoidBackward0>)\n",
      "2.3086349964141846 tensor(0.4810, grad_fn=<SigmoidBackward0>)\n",
      "2.308950424194336 tensor(0.4838, grad_fn=<SigmoidBackward0>)\n",
      "2.299792766571045 tensor(0.4865, grad_fn=<SigmoidBackward0>)\n",
      "2.3027100563049316 tensor(0.4892, grad_fn=<SigmoidBackward0>)\n",
      "2.304746627807617 tensor(0.4918, grad_fn=<SigmoidBackward0>)\n",
      "2.3077328205108643 tensor(0.4943, grad_fn=<SigmoidBackward0>)\n",
      "2.3083198070526123 tensor(0.4967, grad_fn=<SigmoidBackward0>)\n",
      "2.3003971576690674 tensor(0.4990, grad_fn=<SigmoidBackward0>)\n"
     ]
    },
    {
     "data": {
      "application/vnd.jupyter.widget-view+json": {
       "model_id": "42c11fa213084f818445076a1c752ffd",
       "version_major": 2,
       "version_minor": 0
      },
      "text/plain": [
       "  0%|          | 0/50 [00:00<?, ?it/s]"
      ]
     },
     "metadata": {},
     "output_type": "display_data"
    },
    {
     "name": "stdout",
     "output_type": "stream",
     "text": [
      "2.3077902793884277 tensor(0.5014, grad_fn=<SigmoidBackward0>)\n",
      "2.2980778217315674 tensor(0.5036, grad_fn=<SigmoidBackward0>)\n",
      "2.310997486114502 tensor(0.5059, grad_fn=<SigmoidBackward0>)\n",
      "2.3032772541046143 tensor(0.5081, grad_fn=<SigmoidBackward0>)\n",
      "2.3096282482147217 tensor(0.5104, grad_fn=<SigmoidBackward0>)\n",
      "2.303598165512085 tensor(0.5127, grad_fn=<SigmoidBackward0>)\n",
      "2.3052003383636475 tensor(0.5150, grad_fn=<SigmoidBackward0>)\n",
      "2.3080503940582275 tensor(0.5174, grad_fn=<SigmoidBackward0>)\n",
      "2.301922559738159 tensor(0.5198, grad_fn=<SigmoidBackward0>)\n",
      "2.3053605556488037 tensor(0.5221, grad_fn=<SigmoidBackward0>)\n",
      "2.304962396621704 tensor(0.5245, grad_fn=<SigmoidBackward0>)\n",
      "2.3044686317443848 tensor(0.5268, grad_fn=<SigmoidBackward0>)\n",
      "2.3042080402374268 tensor(0.5290, grad_fn=<SigmoidBackward0>)\n",
      "2.3041067123413086 tensor(0.5312, grad_fn=<SigmoidBackward0>)\n",
      "2.3072192668914795 tensor(0.5334, grad_fn=<SigmoidBackward0>)\n",
      "2.3045220375061035 tensor(0.5355, grad_fn=<SigmoidBackward0>)\n",
      "2.3024837970733643 tensor(0.5376, grad_fn=<SigmoidBackward0>)\n",
      "2.3060920238494873 tensor(0.5397, grad_fn=<SigmoidBackward0>)\n",
      "2.3054358959198 tensor(0.5418, grad_fn=<SigmoidBackward0>)\n",
      "2.3078773021698 tensor(0.5439, grad_fn=<SigmoidBackward0>)\n",
      "2.310300827026367 tensor(0.5463, grad_fn=<SigmoidBackward0>)\n",
      "2.307088851928711 tensor(0.5487, grad_fn=<SigmoidBackward0>)\n",
      "2.3101131916046143 tensor(0.5513, grad_fn=<SigmoidBackward0>)\n",
      "2.3041107654571533 tensor(0.5540, grad_fn=<SigmoidBackward0>)\n",
      "2.305145502090454 tensor(0.5568, grad_fn=<SigmoidBackward0>)\n",
      "2.309846878051758 tensor(0.5596, grad_fn=<SigmoidBackward0>)\n",
      "2.3033928871154785 tensor(0.5625, grad_fn=<SigmoidBackward0>)\n",
      "2.3051695823669434 tensor(0.5653, grad_fn=<SigmoidBackward0>)\n",
      "2.305922508239746 tensor(0.5682, grad_fn=<SigmoidBackward0>)\n",
      "2.308209180831909 tensor(0.5711, grad_fn=<SigmoidBackward0>)\n",
      "2.30159592628479 tensor(0.5737, grad_fn=<SigmoidBackward0>)\n",
      "2.3078203201293945 tensor(0.5764, grad_fn=<SigmoidBackward0>)\n",
      "2.3106091022491455 tensor(0.5791, grad_fn=<SigmoidBackward0>)\n",
      "2.3046905994415283 tensor(0.5819, grad_fn=<SigmoidBackward0>)\n",
      "2.3054039478302 tensor(0.5845, grad_fn=<SigmoidBackward0>)\n",
      "2.3091001510620117 tensor(0.5872, grad_fn=<SigmoidBackward0>)\n",
      "2.301245927810669 tensor(0.5898, grad_fn=<SigmoidBackward0>)\n",
      "2.3044261932373047 tensor(0.5923, grad_fn=<SigmoidBackward0>)\n",
      "2.3051304817199707 tensor(0.5947, grad_fn=<SigmoidBackward0>)\n",
      "2.304856300354004 tensor(0.5970, grad_fn=<SigmoidBackward0>)\n",
      "2.3056325912475586 tensor(0.5993, grad_fn=<SigmoidBackward0>)\n",
      "2.30655574798584 tensor(0.6016, grad_fn=<SigmoidBackward0>)\n",
      "2.2998640537261963 tensor(0.6037, grad_fn=<SigmoidBackward0>)\n",
      "2.3041019439697266 tensor(0.6059, grad_fn=<SigmoidBackward0>)\n",
      "2.3075196743011475 tensor(0.6080, grad_fn=<SigmoidBackward0>)\n",
      "2.304553508758545 tensor(0.6100, grad_fn=<SigmoidBackward0>)\n",
      "2.3055310249328613 tensor(0.6121, grad_fn=<SigmoidBackward0>)\n",
      "2.308683395385742 tensor(0.6142, grad_fn=<SigmoidBackward0>)\n",
      "2.3091728687286377 tensor(0.6164, grad_fn=<SigmoidBackward0>)\n",
      "2.3051552772521973 tensor(0.6187, grad_fn=<SigmoidBackward0>)\n"
     ]
    },
    {
     "data": {
      "application/vnd.jupyter.widget-view+json": {
       "model_id": "d0595a79d5854f5e986aa14624004806",
       "version_major": 2,
       "version_minor": 0
      },
      "text/plain": [
       "  0%|          | 0/50 [00:00<?, ?it/s]"
      ]
     },
     "metadata": {},
     "output_type": "display_data"
    },
    {
     "name": "stdout",
     "output_type": "stream",
     "text": [
      "2.306022882461548 tensor(0.6211, grad_fn=<SigmoidBackward0>)\n",
      "2.3020098209381104 tensor(0.6234, grad_fn=<SigmoidBackward0>)\n",
      "2.305481195449829 tensor(0.6258, grad_fn=<SigmoidBackward0>)\n",
      "2.305784225463867 tensor(0.6281, grad_fn=<SigmoidBackward0>)\n",
      "2.3091681003570557 tensor(0.6305, grad_fn=<SigmoidBackward0>)\n",
      "2.3043668270111084 tensor(0.6329, grad_fn=<SigmoidBackward0>)\n",
      "2.3040778636932373 tensor(0.6353, grad_fn=<SigmoidBackward0>)\n",
      "2.304307460784912 tensor(0.6377, grad_fn=<SigmoidBackward0>)\n",
      "2.3079869747161865 tensor(0.6401, grad_fn=<SigmoidBackward0>)\n",
      "2.306410551071167 tensor(0.6425, grad_fn=<SigmoidBackward0>)\n",
      "2.30993390083313 tensor(0.6452, grad_fn=<SigmoidBackward0>)\n",
      "2.303886651992798 tensor(0.6479, grad_fn=<SigmoidBackward0>)\n",
      "2.303518056869507 tensor(0.6505, grad_fn=<SigmoidBackward0>)\n",
      "2.3034262657165527 tensor(0.6531, grad_fn=<SigmoidBackward0>)\n",
      "2.306664228439331 tensor(0.6557, grad_fn=<SigmoidBackward0>)\n",
      "2.3042774200439453 tensor(0.6582, grad_fn=<SigmoidBackward0>)\n",
      "2.3043880462646484 tensor(0.6605, grad_fn=<SigmoidBackward0>)\n",
      "2.298706531524658 tensor(0.6627, grad_fn=<SigmoidBackward0>)\n",
      "2.303379535675049 tensor(0.6648, grad_fn=<SigmoidBackward0>)\n",
      "2.3010616302490234 tensor(0.6668, grad_fn=<SigmoidBackward0>)\n",
      "2.304124116897583 tensor(0.6688, grad_fn=<SigmoidBackward0>)\n",
      "2.30317759513855 tensor(0.6707, grad_fn=<SigmoidBackward0>)\n",
      "2.3009536266326904 tensor(0.6725, grad_fn=<SigmoidBackward0>)\n",
      "2.309365749359131 tensor(0.6744, grad_fn=<SigmoidBackward0>)\n",
      "2.3047969341278076 tensor(0.6762, grad_fn=<SigmoidBackward0>)\n",
      "2.302468776702881 tensor(0.6779, grad_fn=<SigmoidBackward0>)\n",
      "2.3030965328216553 tensor(0.6796, grad_fn=<SigmoidBackward0>)\n",
      "2.3005714416503906 tensor(0.6812, grad_fn=<SigmoidBackward0>)\n",
      "2.3033111095428467 tensor(0.6828, grad_fn=<SigmoidBackward0>)\n",
      "2.3065385818481445 tensor(0.6844, grad_fn=<SigmoidBackward0>)\n",
      "2.3052830696105957 tensor(0.6861, grad_fn=<SigmoidBackward0>)\n",
      "2.307600259780884 tensor(0.6879, grad_fn=<SigmoidBackward0>)\n",
      "2.301903009414673 tensor(0.6897, grad_fn=<SigmoidBackward0>)\n",
      "2.305050849914551 tensor(0.6917, grad_fn=<SigmoidBackward0>)\n",
      "2.3020617961883545 tensor(0.6936, grad_fn=<SigmoidBackward0>)\n",
      "2.3040452003479004 tensor(0.6955, grad_fn=<SigmoidBackward0>)\n",
      "2.3055336475372314 tensor(0.6975, grad_fn=<SigmoidBackward0>)\n",
      "2.3032338619232178 tensor(0.6993, grad_fn=<SigmoidBackward0>)\n",
      "2.3035452365875244 tensor(0.7012, grad_fn=<SigmoidBackward0>)\n",
      "2.304502248764038 tensor(0.7032, grad_fn=<SigmoidBackward0>)\n",
      "2.3069443702697754 tensor(0.7052, grad_fn=<SigmoidBackward0>)\n",
      "2.3021717071533203 tensor(0.7071, grad_fn=<SigmoidBackward0>)\n",
      "2.3035571575164795 tensor(0.7091, grad_fn=<SigmoidBackward0>)\n",
      "2.303684711456299 tensor(0.7110, grad_fn=<SigmoidBackward0>)\n",
      "2.3031630516052246 tensor(0.7129, grad_fn=<SigmoidBackward0>)\n",
      "2.3040616512298584 tensor(0.7149, grad_fn=<SigmoidBackward0>)\n",
      "2.3040785789489746 tensor(0.7169, grad_fn=<SigmoidBackward0>)\n",
      "2.304328203201294 tensor(0.7188, grad_fn=<SigmoidBackward0>)\n",
      "2.3045413494110107 tensor(0.7208, grad_fn=<SigmoidBackward0>)\n",
      "2.3019652366638184 tensor(0.7227, grad_fn=<SigmoidBackward0>)\n"
     ]
    },
    {
     "data": {
      "application/vnd.jupyter.widget-view+json": {
       "model_id": "d354242c9c59427e8144d91e4b72b756",
       "version_major": 2,
       "version_minor": 0
      },
      "text/plain": [
       "  0%|          | 0/50 [00:00<?, ?it/s]"
      ]
     },
     "metadata": {},
     "output_type": "display_data"
    },
    {
     "name": "stdout",
     "output_type": "stream",
     "text": [
      "2.3036305904388428 tensor(0.7245, grad_fn=<SigmoidBackward0>)\n",
      "2.3013453483581543 tensor(0.7263, grad_fn=<SigmoidBackward0>)\n",
      "2.304180860519409 tensor(0.7280, grad_fn=<SigmoidBackward0>)\n",
      "2.3046436309814453 tensor(0.7297, grad_fn=<SigmoidBackward0>)\n",
      "2.3063673973083496 tensor(0.7314, grad_fn=<SigmoidBackward0>)\n",
      "2.3010308742523193 tensor(0.7331, grad_fn=<SigmoidBackward0>)\n",
      "2.302924394607544 tensor(0.7348, grad_fn=<SigmoidBackward0>)\n",
      "2.3050107955932617 tensor(0.7364, grad_fn=<SigmoidBackward0>)\n",
      "2.3027422428131104 tensor(0.7381, grad_fn=<SigmoidBackward0>)\n",
      "2.3005943298339844 tensor(0.7397, grad_fn=<SigmoidBackward0>)\n",
      "2.3046445846557617 tensor(0.7414, grad_fn=<SigmoidBackward0>)\n",
      "2.3042120933532715 tensor(0.7432, grad_fn=<SigmoidBackward0>)\n",
      "2.304065227508545 tensor(0.7450, grad_fn=<SigmoidBackward0>)\n",
      "2.3056023120880127 tensor(0.7468, grad_fn=<SigmoidBackward0>)\n",
      "2.308281183242798 tensor(0.7488, grad_fn=<SigmoidBackward0>)\n",
      "2.30202054977417 tensor(0.7508, grad_fn=<SigmoidBackward0>)\n",
      "2.3030951023101807 tensor(0.7528, grad_fn=<SigmoidBackward0>)\n",
      "2.300868272781372 tensor(0.7547, grad_fn=<SigmoidBackward0>)\n",
      "2.3005528450012207 tensor(0.7566, grad_fn=<SigmoidBackward0>)\n",
      "2.303332805633545 tensor(0.7584, grad_fn=<SigmoidBackward0>)\n",
      "2.3014166355133057 tensor(0.7601, grad_fn=<SigmoidBackward0>)\n",
      "2.3029866218566895 tensor(0.7619, grad_fn=<SigmoidBackward0>)\n",
      "2.3031418323516846 tensor(0.7636, grad_fn=<SigmoidBackward0>)\n",
      "2.301323652267456 tensor(0.7653, grad_fn=<SigmoidBackward0>)\n",
      "2.3057475090026855 tensor(0.7671, grad_fn=<SigmoidBackward0>)\n",
      "2.3021585941314697 tensor(0.7689, grad_fn=<SigmoidBackward0>)\n",
      "2.303283929824829 tensor(0.7707, grad_fn=<SigmoidBackward0>)\n",
      "2.3041627407073975 tensor(0.7725, grad_fn=<SigmoidBackward0>)\n",
      "2.3024933338165283 tensor(0.7743, grad_fn=<SigmoidBackward0>)\n",
      "2.3038809299468994 tensor(0.7763, grad_fn=<SigmoidBackward0>)\n",
      "2.3018178939819336 tensor(0.7781, grad_fn=<SigmoidBackward0>)\n",
      "2.3019840717315674 tensor(0.7798, grad_fn=<SigmoidBackward0>)\n",
      "2.3030340671539307 tensor(0.7816, grad_fn=<SigmoidBackward0>)\n",
      "2.299579381942749 tensor(0.7832, grad_fn=<SigmoidBackward0>)\n",
      "2.3039169311523438 tensor(0.7850, grad_fn=<SigmoidBackward0>)\n",
      "2.302718162536621 tensor(0.7868, grad_fn=<SigmoidBackward0>)\n",
      "2.3002302646636963 tensor(0.7884, grad_fn=<SigmoidBackward0>)\n",
      "2.300863742828369 tensor(0.7901, grad_fn=<SigmoidBackward0>)\n",
      "2.3007254600524902 tensor(0.7916, grad_fn=<SigmoidBackward0>)\n",
      "2.3025598526000977 tensor(0.7933, grad_fn=<SigmoidBackward0>)\n",
      "2.297990322113037 tensor(0.7949, grad_fn=<SigmoidBackward0>)\n",
      "2.301975965499878 tensor(0.7965, grad_fn=<SigmoidBackward0>)\n",
      "2.3013880252838135 tensor(0.7981, grad_fn=<SigmoidBackward0>)\n",
      "2.301314353942871 tensor(0.7997, grad_fn=<SigmoidBackward0>)\n",
      "2.3027503490448 tensor(0.8012, grad_fn=<SigmoidBackward0>)\n",
      "2.3020882606506348 tensor(0.8028, grad_fn=<SigmoidBackward0>)\n",
      "2.299429416656494 tensor(0.8044, grad_fn=<SigmoidBackward0>)\n",
      "2.3004674911499023 tensor(0.8060, grad_fn=<SigmoidBackward0>)\n",
      "2.3026084899902344 tensor(0.8075, grad_fn=<SigmoidBackward0>)\n",
      "2.3023900985717773 tensor(0.8092, grad_fn=<SigmoidBackward0>)\n"
     ]
    },
    {
     "data": {
      "application/vnd.jupyter.widget-view+json": {
       "model_id": "f6e8b181d73943c9a6daf9a6913ca7b5",
       "version_major": 2,
       "version_minor": 0
      },
      "text/plain": [
       "  0%|          | 0/50 [00:00<?, ?it/s]"
      ]
     },
     "metadata": {},
     "output_type": "display_data"
    },
    {
     "name": "stdout",
     "output_type": "stream",
     "text": [
      "2.3008949756622314 tensor(0.8109, grad_fn=<SigmoidBackward0>)\n",
      "2.300039291381836 tensor(0.8126, grad_fn=<SigmoidBackward0>)\n",
      "2.3003056049346924 tensor(0.8143, grad_fn=<SigmoidBackward0>)\n",
      "2.301391839981079 tensor(0.8160, grad_fn=<SigmoidBackward0>)\n",
      "2.301100015640259 tensor(0.8178, grad_fn=<SigmoidBackward0>)\n",
      "2.3018686771392822 tensor(0.8195, grad_fn=<SigmoidBackward0>)\n",
      "2.3017284870147705 tensor(0.8213, grad_fn=<SigmoidBackward0>)\n",
      "2.299633502960205 tensor(0.8231, grad_fn=<SigmoidBackward0>)\n",
      "2.2993438243865967 tensor(0.8250, grad_fn=<SigmoidBackward0>)\n",
      "2.300708055496216 tensor(0.8268, grad_fn=<SigmoidBackward0>)\n",
      "2.301957368850708 tensor(0.8287, grad_fn=<SigmoidBackward0>)\n",
      "2.2990195751190186 tensor(0.8306, grad_fn=<SigmoidBackward0>)\n",
      "2.2993228435516357 tensor(0.8326, grad_fn=<SigmoidBackward0>)\n",
      "2.300614833831787 tensor(0.8345, grad_fn=<SigmoidBackward0>)\n",
      "2.29967999458313 tensor(0.8365, grad_fn=<SigmoidBackward0>)\n",
      "2.3004891872406006 tensor(0.8386, grad_fn=<SigmoidBackward0>)\n",
      "2.300424337387085 tensor(0.8407, grad_fn=<SigmoidBackward0>)\n",
      "2.2999775409698486 tensor(0.8428, grad_fn=<SigmoidBackward0>)\n",
      "2.298964262008667 tensor(0.8450, grad_fn=<SigmoidBackward0>)\n",
      "2.3000617027282715 tensor(0.8472, grad_fn=<SigmoidBackward0>)\n",
      "2.2990612983703613 tensor(0.8494, grad_fn=<SigmoidBackward0>)\n",
      "2.297657012939453 tensor(0.8518, grad_fn=<SigmoidBackward0>)\n",
      "2.3013999462127686 tensor(0.8541, grad_fn=<SigmoidBackward0>)\n",
      "2.3005852699279785 tensor(0.8565, grad_fn=<SigmoidBackward0>)\n",
      "2.298388957977295 tensor(0.8588, grad_fn=<SigmoidBackward0>)\n",
      "2.2989914417266846 tensor(0.8612, grad_fn=<SigmoidBackward0>)\n",
      "2.300281524658203 tensor(0.8636, grad_fn=<SigmoidBackward0>)\n",
      "2.299420118331909 tensor(0.8660, grad_fn=<SigmoidBackward0>)\n",
      "2.2965595722198486 tensor(0.8683, grad_fn=<SigmoidBackward0>)\n",
      "2.2978427410125732 tensor(0.8707, grad_fn=<SigmoidBackward0>)\n",
      "2.2963345050811768 tensor(0.8732, grad_fn=<SigmoidBackward0>)\n",
      "2.296795606613159 tensor(0.8757, grad_fn=<SigmoidBackward0>)\n",
      "2.2947466373443604 tensor(0.8783, grad_fn=<SigmoidBackward0>)\n",
      "2.29591965675354 tensor(0.8810, grad_fn=<SigmoidBackward0>)\n",
      "2.2980287075042725 tensor(0.8836, grad_fn=<SigmoidBackward0>)\n",
      "2.294645071029663 tensor(0.8863, grad_fn=<SigmoidBackward0>)\n",
      "2.294142961502075 tensor(0.8890, grad_fn=<SigmoidBackward0>)\n",
      "2.2956197261810303 tensor(0.8918, grad_fn=<SigmoidBackward0>)\n",
      "2.2969584465026855 tensor(0.8945, grad_fn=<SigmoidBackward0>)\n",
      "2.290987968444824 tensor(0.8972, grad_fn=<SigmoidBackward0>)\n",
      "2.2949717044830322 tensor(0.8999, grad_fn=<SigmoidBackward0>)\n",
      "2.29252028465271 tensor(0.9026, grad_fn=<SigmoidBackward0>)\n",
      "2.2925193309783936 tensor(0.9052, grad_fn=<SigmoidBackward0>)\n",
      "2.2900445461273193 tensor(0.9078, grad_fn=<SigmoidBackward0>)\n",
      "2.2898623943328857 tensor(0.9104, grad_fn=<SigmoidBackward0>)\n",
      "2.2931392192840576 tensor(0.9128, grad_fn=<SigmoidBackward0>)\n",
      "2.2875964641571045 tensor(0.9152, grad_fn=<SigmoidBackward0>)\n",
      "2.2888998985290527 tensor(0.9175, grad_fn=<SigmoidBackward0>)\n",
      "2.2899351119995117 tensor(0.9198, grad_fn=<SigmoidBackward0>)\n",
      "2.2840735912323 tensor(0.9220, grad_fn=<SigmoidBackward0>)\n"
     ]
    },
    {
     "data": {
      "application/vnd.jupyter.widget-view+json": {
       "model_id": "0185843831084c6491d444c92fdc978d",
       "version_major": 2,
       "version_minor": 0
      },
      "text/plain": [
       "  0%|          | 0/50 [00:00<?, ?it/s]"
      ]
     },
     "metadata": {},
     "output_type": "display_data"
    },
    {
     "name": "stdout",
     "output_type": "stream",
     "text": [
      "2.285108804702759 tensor(0.9242, grad_fn=<SigmoidBackward0>)\n",
      "2.282989501953125 tensor(0.9264, grad_fn=<SigmoidBackward0>)\n",
      "2.2825815677642822 tensor(0.9285, grad_fn=<SigmoidBackward0>)\n",
      "2.2788314819335938 tensor(0.9306, grad_fn=<SigmoidBackward0>)\n",
      "2.270951271057129 tensor(0.9327, grad_fn=<SigmoidBackward0>)\n",
      "2.275968313217163 tensor(0.9348, grad_fn=<SigmoidBackward0>)\n",
      "2.26956844329834 tensor(0.9368, grad_fn=<SigmoidBackward0>)\n",
      "2.2803661823272705 tensor(0.9387, grad_fn=<SigmoidBackward0>)\n",
      "2.2673263549804688 tensor(0.9407, grad_fn=<SigmoidBackward0>)\n",
      "2.2687652111053467 tensor(0.9425, grad_fn=<SigmoidBackward0>)\n",
      "2.2601585388183594 tensor(0.9444, grad_fn=<SigmoidBackward0>)\n",
      "2.261597156524658 tensor(0.9461, grad_fn=<SigmoidBackward0>)\n",
      "2.261685848236084 tensor(0.9479, grad_fn=<SigmoidBackward0>)\n",
      "2.2553188800811768 tensor(0.9495, grad_fn=<SigmoidBackward0>)\n",
      "2.249870777130127 tensor(0.9512, grad_fn=<SigmoidBackward0>)\n",
      "2.253262996673584 tensor(0.9528, grad_fn=<SigmoidBackward0>)\n",
      "2.244434118270874 tensor(0.9543, grad_fn=<SigmoidBackward0>)\n",
      "2.2282421588897705 tensor(0.9559, grad_fn=<SigmoidBackward0>)\n",
      "2.221677541732788 tensor(0.9573, grad_fn=<SigmoidBackward0>)\n",
      "2.22979474067688 tensor(0.9587, grad_fn=<SigmoidBackward0>)\n",
      "2.230527877807617 tensor(0.9601, grad_fn=<SigmoidBackward0>)\n",
      "2.2061285972595215 tensor(0.9615, grad_fn=<SigmoidBackward0>)\n",
      "2.209785223007202 tensor(0.9627, grad_fn=<SigmoidBackward0>)\n",
      "2.1878368854522705 tensor(0.9640, grad_fn=<SigmoidBackward0>)\n",
      "2.185242176055908 tensor(0.9652, grad_fn=<SigmoidBackward0>)\n",
      "2.171266794204712 tensor(0.9663, grad_fn=<SigmoidBackward0>)\n",
      "2.1848528385162354 tensor(0.9674, grad_fn=<SigmoidBackward0>)\n",
      "2.165332555770874 tensor(0.9684, grad_fn=<SigmoidBackward0>)\n",
      "2.1607625484466553 tensor(0.9694, grad_fn=<SigmoidBackward0>)\n",
      "2.1527156829833984 tensor(0.9703, grad_fn=<SigmoidBackward0>)\n",
      "2.1506924629211426 tensor(0.9711, grad_fn=<SigmoidBackward0>)\n",
      "2.1504569053649902 tensor(0.9717, grad_fn=<SigmoidBackward0>)\n",
      "2.140733242034912 tensor(0.9724, grad_fn=<SigmoidBackward0>)\n",
      "2.128840446472168 tensor(0.9729, grad_fn=<SigmoidBackward0>)\n",
      "2.134739637374878 tensor(0.9733, grad_fn=<SigmoidBackward0>)\n",
      "2.112375497817993 tensor(0.9737, grad_fn=<SigmoidBackward0>)\n",
      "2.1000771522521973 tensor(0.9739, grad_fn=<SigmoidBackward0>)\n",
      "2.1319634914398193 tensor(0.9742, grad_fn=<SigmoidBackward0>)\n",
      "2.094454050064087 tensor(0.9745, grad_fn=<SigmoidBackward0>)\n",
      "2.1098058223724365 tensor(0.9746, grad_fn=<SigmoidBackward0>)\n",
      "2.1543593406677246 tensor(0.9749, grad_fn=<SigmoidBackward0>)\n",
      "2.111786127090454 tensor(0.9747, grad_fn=<SigmoidBackward0>)\n",
      "2.145735263824463 tensor(0.9745, grad_fn=<SigmoidBackward0>)\n",
      "2.1387417316436768 tensor(0.9743, grad_fn=<SigmoidBackward0>)\n",
      "2.1225528717041016 tensor(0.9741, grad_fn=<SigmoidBackward0>)\n",
      "2.066007137298584 tensor(0.9738, grad_fn=<SigmoidBackward0>)\n",
      "2.096928596496582 tensor(0.9735, grad_fn=<SigmoidBackward0>)\n",
      "2.1077356338500977 tensor(0.9731, grad_fn=<SigmoidBackward0>)\n",
      "2.134808301925659 tensor(0.9727, grad_fn=<SigmoidBackward0>)\n",
      "2.0522115230560303 tensor(0.9722, grad_fn=<SigmoidBackward0>)\n"
     ]
    },
    {
     "data": {
      "application/vnd.jupyter.widget-view+json": {
       "model_id": "d2a6328ac8024b19ac7bc3f9e9a0f16d",
       "version_major": 2,
       "version_minor": 0
      },
      "text/plain": [
       "  0%|          | 0/50 [00:00<?, ?it/s]"
      ]
     },
     "metadata": {},
     "output_type": "display_data"
    },
    {
     "name": "stdout",
     "output_type": "stream",
     "text": [
      "2.089229106903076 tensor(0.9717, grad_fn=<SigmoidBackward0>)\n",
      "2.0578653812408447 tensor(0.9710, grad_fn=<SigmoidBackward0>)\n",
      "2.0533483028411865 tensor(0.9704, grad_fn=<SigmoidBackward0>)\n",
      "2.0609824657440186 tensor(0.9697, grad_fn=<SigmoidBackward0>)\n",
      "2.0523550510406494 tensor(0.9690, grad_fn=<SigmoidBackward0>)\n",
      "2.092998504638672 tensor(0.9683, grad_fn=<SigmoidBackward0>)\n",
      "2.059384346008301 tensor(0.9675, grad_fn=<SigmoidBackward0>)\n",
      "2.054999589920044 tensor(0.9667, grad_fn=<SigmoidBackward0>)\n",
      "2.078706979751587 tensor(0.9657, grad_fn=<SigmoidBackward0>)\n",
      "2.0616326332092285 tensor(0.9648, grad_fn=<SigmoidBackward0>)\n",
      "2.054996967315674 tensor(0.9638, grad_fn=<SigmoidBackward0>)\n",
      "2.0419833660125732 tensor(0.9628, grad_fn=<SigmoidBackward0>)\n",
      "2.02583646774292 tensor(0.9617, grad_fn=<SigmoidBackward0>)\n",
      "2.050837755203247 tensor(0.9607, grad_fn=<SigmoidBackward0>)\n",
      "2.02164363861084 tensor(0.9596, grad_fn=<SigmoidBackward0>)\n",
      "2.0193228721618652 tensor(0.9586, grad_fn=<SigmoidBackward0>)\n",
      "2.013164758682251 tensor(0.9576, grad_fn=<SigmoidBackward0>)\n",
      "2.023265838623047 tensor(0.9564, grad_fn=<SigmoidBackward0>)\n",
      "2.0146775245666504 tensor(0.9554, grad_fn=<SigmoidBackward0>)\n",
      "2.0110487937927246 tensor(0.9542, grad_fn=<SigmoidBackward0>)\n",
      "2.0209591388702393 tensor(0.9530, grad_fn=<SigmoidBackward0>)\n",
      "2.015770435333252 tensor(0.9519, grad_fn=<SigmoidBackward0>)\n",
      "2.017789363861084 tensor(0.9506, grad_fn=<SigmoidBackward0>)\n",
      "1.9741109609603882 tensor(0.9495, grad_fn=<SigmoidBackward0>)\n",
      "1.9892055988311768 tensor(0.9483, grad_fn=<SigmoidBackward0>)\n",
      "1.9893895387649536 tensor(0.9471, grad_fn=<SigmoidBackward0>)\n",
      "1.9859793186187744 tensor(0.9459, grad_fn=<SigmoidBackward0>)\n",
      "2.0228488445281982 tensor(0.9447, grad_fn=<SigmoidBackward0>)\n",
      "2.0125834941864014 tensor(0.9434, grad_fn=<SigmoidBackward0>)\n",
      "1.9920079708099365 tensor(0.9421, grad_fn=<SigmoidBackward0>)\n",
      "1.9863680601119995 tensor(0.9408, grad_fn=<SigmoidBackward0>)\n",
      "2.0062716007232666 tensor(0.9393, grad_fn=<SigmoidBackward0>)\n",
      "1.9962412118911743 tensor(0.9377, grad_fn=<SigmoidBackward0>)\n",
      "1.9465590715408325 tensor(0.9361, grad_fn=<SigmoidBackward0>)\n",
      "2.0315051078796387 tensor(0.9343, grad_fn=<SigmoidBackward0>)\n",
      "1.9822368621826172 tensor(0.9325, grad_fn=<SigmoidBackward0>)\n",
      "1.977647304534912 tensor(0.9307, grad_fn=<SigmoidBackward0>)\n",
      "1.977347493171692 tensor(0.9287, grad_fn=<SigmoidBackward0>)\n",
      "1.9692792892456055 tensor(0.9269, grad_fn=<SigmoidBackward0>)\n",
      "2.013690710067749 tensor(0.9249, grad_fn=<SigmoidBackward0>)\n",
      "1.9692234992980957 tensor(0.9230, grad_fn=<SigmoidBackward0>)\n",
      "1.9734015464782715 tensor(0.9210, grad_fn=<SigmoidBackward0>)\n",
      "2.0069355964660645 tensor(0.9190, grad_fn=<SigmoidBackward0>)\n",
      "1.9693608283996582 tensor(0.9172, grad_fn=<SigmoidBackward0>)\n",
      "1.9474260807037354 tensor(0.9154, grad_fn=<SigmoidBackward0>)\n",
      "1.9489346742630005 tensor(0.9137, grad_fn=<SigmoidBackward0>)\n",
      "1.9894064664840698 tensor(0.9122, grad_fn=<SigmoidBackward0>)\n",
      "1.951388955116272 tensor(0.9108, grad_fn=<SigmoidBackward0>)\n",
      "1.9256165027618408 tensor(0.9095, grad_fn=<SigmoidBackward0>)\n",
      "1.932076096534729 tensor(0.9084, grad_fn=<SigmoidBackward0>)\n"
     ]
    },
    {
     "data": {
      "application/vnd.jupyter.widget-view+json": {
       "model_id": "6b87866c0fb144bd9cb9aa1e9525a558",
       "version_major": 2,
       "version_minor": 0
      },
      "text/plain": [
       "  0%|          | 0/50 [00:00<?, ?it/s]"
      ]
     },
     "metadata": {},
     "output_type": "display_data"
    },
    {
     "name": "stdout",
     "output_type": "stream",
     "text": [
      "1.9518852233886719 tensor(0.9074, grad_fn=<SigmoidBackward0>)\n",
      "1.9650944471359253 tensor(0.9065, grad_fn=<SigmoidBackward0>)\n",
      "1.9364203214645386 tensor(0.9058, grad_fn=<SigmoidBackward0>)\n",
      "1.9525004625320435 tensor(0.9051, grad_fn=<SigmoidBackward0>)\n",
      "1.9290149211883545 tensor(0.9046, grad_fn=<SigmoidBackward0>)\n",
      "1.91759192943573 tensor(0.9041, grad_fn=<SigmoidBackward0>)\n",
      "1.9263583421707153 tensor(0.9036, grad_fn=<SigmoidBackward0>)\n",
      "1.916296362876892 tensor(0.9031, grad_fn=<SigmoidBackward0>)\n",
      "1.909409761428833 tensor(0.9027, grad_fn=<SigmoidBackward0>)\n",
      "1.9364778995513916 tensor(0.9019, grad_fn=<SigmoidBackward0>)\n",
      "1.9397552013397217 tensor(0.9014, grad_fn=<SigmoidBackward0>)\n",
      "1.8988875150680542 tensor(0.9003, grad_fn=<SigmoidBackward0>)\n",
      "1.9093844890594482 tensor(0.8995, grad_fn=<SigmoidBackward0>)\n",
      "1.8907618522644043 tensor(0.8982, grad_fn=<SigmoidBackward0>)\n",
      "1.945519208908081 tensor(0.8971, grad_fn=<SigmoidBackward0>)\n",
      "1.8994349241256714 tensor(0.8957, grad_fn=<SigmoidBackward0>)\n",
      "1.9298810958862305 tensor(0.8943, grad_fn=<SigmoidBackward0>)\n",
      "1.9292391538619995 tensor(0.8928, grad_fn=<SigmoidBackward0>)\n",
      "1.8449417352676392 tensor(0.8912, grad_fn=<SigmoidBackward0>)\n",
      "1.8764804601669312 tensor(0.8898, grad_fn=<SigmoidBackward0>)\n",
      "1.9069077968597412 tensor(0.8883, grad_fn=<SigmoidBackward0>)\n",
      "1.9234020709991455 tensor(0.8870, grad_fn=<SigmoidBackward0>)\n",
      "1.8736716508865356 tensor(0.8858, grad_fn=<SigmoidBackward0>)\n",
      "1.9045807123184204 tensor(0.8848, grad_fn=<SigmoidBackward0>)\n",
      "1.9165288209915161 tensor(0.8839, grad_fn=<SigmoidBackward0>)\n",
      "1.9158072471618652 tensor(0.8830, grad_fn=<SigmoidBackward0>)\n",
      "1.9030746221542358 tensor(0.8823, grad_fn=<SigmoidBackward0>)\n",
      "1.883748173713684 tensor(0.8818, grad_fn=<SigmoidBackward0>)\n",
      "1.873079776763916 tensor(0.8811, grad_fn=<SigmoidBackward0>)\n",
      "1.8716341257095337 tensor(0.8806, grad_fn=<SigmoidBackward0>)\n",
      "1.8857101202011108 tensor(0.8800, grad_fn=<SigmoidBackward0>)\n",
      "1.8797855377197266 tensor(0.8794, grad_fn=<SigmoidBackward0>)\n",
      "1.8879138231277466 tensor(0.8788, grad_fn=<SigmoidBackward0>)\n",
      "1.88860285282135 tensor(0.8782, grad_fn=<SigmoidBackward0>)\n",
      "1.8649160861968994 tensor(0.8776, grad_fn=<SigmoidBackward0>)\n",
      "1.8618067502975464 tensor(0.8772, grad_fn=<SigmoidBackward0>)\n",
      "1.8926490545272827 tensor(0.8766, grad_fn=<SigmoidBackward0>)\n",
      "1.891391396522522 tensor(0.8765, grad_fn=<SigmoidBackward0>)\n",
      "1.8603709936141968 tensor(0.8761, grad_fn=<SigmoidBackward0>)\n",
      "1.8683663606643677 tensor(0.8752, grad_fn=<SigmoidBackward0>)\n",
      "1.8652148246765137 tensor(0.8745, grad_fn=<SigmoidBackward0>)\n",
      "1.8810898065567017 tensor(0.8735, grad_fn=<SigmoidBackward0>)\n",
      "1.8209092617034912 tensor(0.8728, grad_fn=<SigmoidBackward0>)\n",
      "1.8809611797332764 tensor(0.8723, grad_fn=<SigmoidBackward0>)\n",
      "1.8613636493682861 tensor(0.8719, grad_fn=<SigmoidBackward0>)\n",
      "1.8851628303527832 tensor(0.8715, grad_fn=<SigmoidBackward0>)\n",
      "1.916507601737976 tensor(0.8711, grad_fn=<SigmoidBackward0>)\n",
      "1.8837049007415771 tensor(0.8707, grad_fn=<SigmoidBackward0>)\n",
      "1.8869187831878662 tensor(0.8703, grad_fn=<SigmoidBackward0>)\n",
      "1.867505669593811 tensor(0.8695, grad_fn=<SigmoidBackward0>)\n"
     ]
    },
    {
     "data": {
      "application/vnd.jupyter.widget-view+json": {
       "model_id": "b475f8582cf5427e87b7b308320372cc",
       "version_major": 2,
       "version_minor": 0
      },
      "text/plain": [
       "  0%|          | 0/50 [00:00<?, ?it/s]"
      ]
     },
     "metadata": {},
     "output_type": "display_data"
    },
    {
     "name": "stdout",
     "output_type": "stream",
     "text": [
      "1.8599048852920532 tensor(0.8688, grad_fn=<SigmoidBackward0>)\n",
      "1.9374966621398926 tensor(0.8674, grad_fn=<SigmoidBackward0>)\n",
      "1.9027519226074219 tensor(0.8658, grad_fn=<SigmoidBackward0>)\n",
      "1.8368666172027588 tensor(0.8641, grad_fn=<SigmoidBackward0>)\n",
      "1.8670040369033813 tensor(0.8618, grad_fn=<SigmoidBackward0>)\n",
      "1.8618290424346924 tensor(0.8591, grad_fn=<SigmoidBackward0>)\n",
      "1.913179874420166 tensor(0.8560, grad_fn=<SigmoidBackward0>)\n",
      "1.8946839570999146 tensor(0.8526, grad_fn=<SigmoidBackward0>)\n",
      "1.9260751008987427 tensor(0.8487, grad_fn=<SigmoidBackward0>)\n",
      "1.836629033088684 tensor(0.8450, grad_fn=<SigmoidBackward0>)\n",
      "1.9021360874176025 tensor(0.8408, grad_fn=<SigmoidBackward0>)\n",
      "1.8642736673355103 tensor(0.8367, grad_fn=<SigmoidBackward0>)\n",
      "1.9006242752075195 tensor(0.8323, grad_fn=<SigmoidBackward0>)\n",
      "1.8569724559783936 tensor(0.8284, grad_fn=<SigmoidBackward0>)\n",
      "1.8697906732559204 tensor(0.8243, grad_fn=<SigmoidBackward0>)\n",
      "1.8293215036392212 tensor(0.8206, grad_fn=<SigmoidBackward0>)\n",
      "1.8600165843963623 tensor(0.8169, grad_fn=<SigmoidBackward0>)\n",
      "1.8725781440734863 tensor(0.8136, grad_fn=<SigmoidBackward0>)\n",
      "1.8574438095092773 tensor(0.8102, grad_fn=<SigmoidBackward0>)\n",
      "1.8698320388793945 tensor(0.8074, grad_fn=<SigmoidBackward0>)\n",
      "1.8340823650360107 tensor(0.8049, grad_fn=<SigmoidBackward0>)\n",
      "1.888702630996704 tensor(0.8026, grad_fn=<SigmoidBackward0>)\n",
      "1.876220464706421 tensor(0.8005, grad_fn=<SigmoidBackward0>)\n",
      "1.8654484748840332 tensor(0.7986, grad_fn=<SigmoidBackward0>)\n",
      "1.8284279108047485 tensor(0.7969, grad_fn=<SigmoidBackward0>)\n",
      "1.8939601182937622 tensor(0.7953, grad_fn=<SigmoidBackward0>)\n",
      "1.8619391918182373 tensor(0.7940, grad_fn=<SigmoidBackward0>)\n",
      "1.8210787773132324 tensor(0.7926, grad_fn=<SigmoidBackward0>)\n",
      "1.8725637197494507 tensor(0.7914, grad_fn=<SigmoidBackward0>)\n",
      "1.8395153284072876 tensor(0.7906, grad_fn=<SigmoidBackward0>)\n",
      "1.8365997076034546 tensor(0.7896, grad_fn=<SigmoidBackward0>)\n",
      "1.8190665245056152 tensor(0.7886, grad_fn=<SigmoidBackward0>)\n",
      "1.8440035581588745 tensor(0.7876, grad_fn=<SigmoidBackward0>)\n",
      "1.8138458728790283 tensor(0.7865, grad_fn=<SigmoidBackward0>)\n",
      "1.8431998491287231 tensor(0.7854, grad_fn=<SigmoidBackward0>)\n",
      "1.83497154712677 tensor(0.7842, grad_fn=<SigmoidBackward0>)\n",
      "1.8046396970748901 tensor(0.7829, grad_fn=<SigmoidBackward0>)\n",
      "1.8251121044158936 tensor(0.7817, grad_fn=<SigmoidBackward0>)\n",
      "1.8487330675125122 tensor(0.7803, grad_fn=<SigmoidBackward0>)\n",
      "1.8320109844207764 tensor(0.7791, grad_fn=<SigmoidBackward0>)\n",
      "1.8545576333999634 tensor(0.7778, grad_fn=<SigmoidBackward0>)\n",
      "1.8530247211456299 tensor(0.7766, grad_fn=<SigmoidBackward0>)\n",
      "1.846628189086914 tensor(0.7759, grad_fn=<SigmoidBackward0>)\n",
      "1.812552571296692 tensor(0.7755, grad_fn=<SigmoidBackward0>)\n",
      "1.8451932668685913 tensor(0.7749, grad_fn=<SigmoidBackward0>)\n",
      "1.8521069288253784 tensor(0.7740, grad_fn=<SigmoidBackward0>)\n",
      "1.8605650663375854 tensor(0.7737, grad_fn=<SigmoidBackward0>)\n",
      "1.832301378250122 tensor(0.7723, grad_fn=<SigmoidBackward0>)\n",
      "1.8460235595703125 tensor(0.7712, grad_fn=<SigmoidBackward0>)\n",
      "1.8645673990249634 tensor(0.7706, grad_fn=<SigmoidBackward0>)\n"
     ]
    }
   ],
   "source": [
    "# data = {'sgdm': util.Accumulator(), 'meta': util.Accumulator()}\n",
    "# torch.manual_seed(0)\n",
    "# train_sgd(model(), data['sgdm'], lr=1e-2, momentum=0.01)\n",
    "data['meta'] = util.Accumulator()\n",
    "torch.manual_seed(0)\n",
    "train_meta(model(), data['meta'], lr=1e-2, momentum=-1, lr_momentum=1e-2)"
   ]
  },
  {
   "cell_type": "code",
   "execution_count": null,
   "id": "dd46eed9-df2f-401b-a8e1-2b101ddf9b11",
   "metadata": {},
   "outputs": [],
   "source": []
  },
  {
   "cell_type": "code",
   "execution_count": null,
   "id": "632947dd-3c4b-4b99-93d1-6e0c77f356fb",
   "metadata": {},
   "outputs": [],
   "source": []
  },
  {
   "cell_type": "code",
   "execution_count": null,
   "id": "d2ad1ea1-13c2-4831-9d5e-050243a2600b",
   "metadata": {},
   "outputs": [],
   "source": []
  },
  {
   "cell_type": "code",
   "execution_count": null,
   "id": "bd26d570-b331-4435-a1a9-fa951b036757",
   "metadata": {},
   "outputs": [],
   "source": []
  },
  {
   "cell_type": "code",
   "execution_count": null,
   "id": "32baa603-bbf8-475c-8cd1-447188a6d55e",
   "metadata": {},
   "outputs": [],
   "source": []
  },
  {
   "cell_type": "code",
   "execution_count": null,
   "id": "bcd735ce-3745-4856-91a3-f2fe31153d32",
   "metadata": {},
   "outputs": [],
   "source": [
    "loss = L(w)\n",
    "g = loss.backward()\n",
    "\n",
    "wp = update(w, g, m)\n"
   ]
  },
  {
   "cell_type": "code",
   "execution_count": null,
   "id": "c299b03f-a366-4edd-a4b1-68bc4c1e3a9b",
   "metadata": {},
   "outputs": [],
   "source": []
  },
  {
   "cell_type": "code",
   "execution_count": null,
   "id": "a53dad0d-03ca-4246-9389-d849f98b9df7",
   "metadata": {},
   "outputs": [],
   "source": []
  },
  {
   "cell_type": "code",
   "execution_count": null,
   "id": "bb95f1b4-27f5-4cae-ac61-92f345d6ef59",
   "metadata": {},
   "outputs": [],
   "source": []
  },
  {
   "cell_type": "code",
   "execution_count": null,
   "id": "fe6958b0-4e23-4302-9d60-b80bff25026c",
   "metadata": {},
   "outputs": [],
   "source": []
  },
  {
   "cell_type": "code",
   "execution_count": null,
   "id": "1c47bba2-5c55-408b-8a3c-de6d309c59fc",
   "metadata": {},
   "outputs": [],
   "source": []
  },
  {
   "cell_type": "code",
   "execution_count": null,
   "id": "e75a652e-7494-4943-a999-3e3d3de9521d",
   "metadata": {},
   "outputs": [],
   "source": []
  },
  {
   "cell_type": "code",
   "execution_count": null,
   "id": "859130c8-92fd-4f0e-a90b-e876b0f9ac6e",
   "metadata": {},
   "outputs": [],
   "source": []
  },
  {
   "cell_type": "code",
   "execution_count": 147,
   "id": "1760d45b-3788-45da-8088-807a02d7ac36",
   "metadata": {},
   "outputs": [
    {
     "data": {
      "image/png": "[encoded data removed]",
      "text/plain": [
       "<Figure size 720x720 with 2 Axes>"
      ]
     },
     "metadata": {
      "needs_background": "light"
     },
     "output_type": "display_data"
    }
   ],
   "source": [
    "plt.figure(figsize=(10,10))\n",
    "util.plot_accumulators(data)"
   ]
  },
  {
   "cell_type": "code",
   "execution_count": null,
   "id": "4c4f0a5e-3feb-4ea4-9d9b-16fcaa14fcb7",
   "metadata": {},
   "outputs": [],
   "source": []
  },
  {
   "cell_type": "code",
   "execution_count": null,
   "id": "d86bf4fb-1430-4181-9eb0-f803e5a58f71",
   "metadata": {},
   "outputs": [],
   "source": []
  },
  {
   "cell_type": "code",
   "execution_count": null,
   "id": "86452936-5903-484e-aa68-703fe3a30fe6",
   "metadata": {},
   "outputs": [],
   "source": []
  },
  {
   "cell_type": "code",
   "execution_count": null,
   "id": "501422eb-2f74-4ef2-8289-84477ae28c34",
   "metadata": {},
   "outputs": [],
   "source": []
  }
 ],
 "metadata": {
  "kernelspec": {
   "display_name": "Python 3 (ipykernel)",
   "language": "python",
   "name": "python3"
  },
  "language_info": {
   "codemirror_mode": {
    "name": "ipython",
    "version": 3
   },
   "file_extension": ".py",
   "mimetype": "text/x-python",
   "name": "python",
   "nbconvert_exporter": "python",
   "pygments_lexer": "ipython3",
   "version": "3.9.5"
  }
 },
 "nbformat": 4,
 "nbformat_minor": 5
}
