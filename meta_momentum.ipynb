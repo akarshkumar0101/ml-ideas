{
 "cells": [
  {
   "cell_type": "markdown",
   "id": "b822ab4b-88ef-493d-aaa1-eb1b88e96cac",
   "metadata": {},
   "source": [
    "# Meta learning momentum parameter\n",
    "Can we learn/meta-learn the momentum parameter using the gradient of the loss during training?\n",
    "\n",
    "\n",
    "Later on, can we learn/meta-learn all the hardcoded parameters? maybe even look ahead of the optimization using meta-learning of the past history of weights?"
   ]
  },
  {
   "cell_type": "code",
   "execution_count": null,
   "id": "5b9fef55-60eb-4e50-93d1-b6cd0e1b92b0",
   "metadata": {},
   "outputs": [],
   "source": []
  },
  {
   "cell_type": "code",
   "execution_count": null,
   "id": "d4c0740f-27a6-4160-bce1-fc49cad3277f",
   "metadata": {},
   "outputs": [],
   "source": []
  },
  {
   "cell_type": "code",
   "execution_count": 6,
   "id": "219ac81c-225a-40d4-b0fd-490a55eee5eb",
   "metadata": {},
   "outputs": [],
   "source": [
    "%load_ext autoreload\n",
    "%autoreload 2"
   ]
  },
  {
   "cell_type": "code",
   "execution_count": 7,
   "id": "87e8fb79-4391-43c1-82e0-ef8a0c4230a1",
   "metadata": {},
   "outputs": [],
   "source": [
    "%run imports.py"
   ]
  },
  {
   "cell_type": "code",
   "execution_count": 9,
   "id": "23a060cf-7fa9-458d-97e3-efe098bb00bc",
   "metadata": {},
   "outputs": [
    {
     "data": {
      "text/plain": [
       "<mnist.MNIST at 0x7fe5ca156b20>"
      ]
     },
     "execution_count": 9,
     "metadata": {},
     "output_type": "execute_result"
    }
   ],
   "source": [
    "import util"
   ]
  },
  {
   "cell_type": "code",
   "execution_count": 12,
   "id": "ac7bb1e1-0f49-49ec-8eeb-b10bb5b99502",
   "metadata": {},
   "outputs": [],
   "source": [
    "# ds = cifar10.CIFAR10()\n",
    "ds = mnist.MNIST()\n",
    "model = mnist.Network"
   ]
  },
  {
   "cell_type": "code",
   "execution_count": 13,
   "id": "e797cc58-f1ee-42b7-b35c-363860583fc8",
   "metadata": {},
   "outputs": [],
   "source": [
    "net = model()"
   ]
  },
  {
   "cell_type": "code",
   "execution_count": null,
   "id": "eba47074-a204-4f8f-b8a8-ec90302cce75",
   "metadata": {},
   "outputs": [],
   "source": []
  },
  {
   "cell_type": "code",
   "execution_count": 50,
   "id": "d3cac493-9d4e-4790-8def-258c481b0291",
   "metadata": {},
   "outputs": [
    {
     "ename": "ModuleNotFoundError",
     "evalue": "No module named 'torch.functional.sgd'; 'torch.functional' is not a package",
     "output_type": "error",
     "traceback": [
      "\u001b[0;31m---------------------------------------------------------------------------\u001b[0m",
      "\u001b[0;31mModuleNotFoundError\u001b[0m                       Traceback (most recent call last)",
      "\u001b[0;32m/var/folders/pw/m6gcpl8j3nn4yk4y5wt7_9rh0000gn/T/ipykernel_39605/1240841726.py\u001b[0m in \u001b[0;36m<module>\u001b[0;34m\u001b[0m\n\u001b[0;32m----> 1\u001b[0;31m \u001b[0;32mimport\u001b[0m \u001b[0mtorch\u001b[0m\u001b[0;34m.\u001b[0m\u001b[0mfunctional\u001b[0m\u001b[0;34m.\u001b[0m\u001b[0msgd\u001b[0m\u001b[0;34m\u001b[0m\u001b[0;34m\u001b[0m\u001b[0m\n\u001b[0m",
      "\u001b[0;31mModuleNotFoundError\u001b[0m: No module named 'torch.functional.sgd'; 'torch.functional' is not a package"
     ]
    }
   ],
   "source": [
    "import torch.functional.sgd"
   ]
  },
  {
   "cell_type": "code",
   "execution_count": null,
   "id": "e8866f62-322d-496e-b578-188b26a96524",
   "metadata": {},
   "outputs": [],
   "source": []
  },
  {
   "cell_type": "code",
   "execution_count": null,
   "id": "a250557e-5004-4f53-a2ce-9d791d93196f",
   "metadata": {},
   "outputs": [],
   "source": []
  },
  {
   "cell_type": "code",
   "execution_count": null,
   "id": "0bb5d96e-18e2-49f4-aefe-ff90f8d7f51b",
   "metadata": {},
   "outputs": [],
   "source": []
  },
  {
   "cell_type": "code",
   "execution_count": 141,
   "id": "e40ee127-095d-4204-8241-8190c75fd354",
   "metadata": {},
   "outputs": [
    {
     "data": {
      "application/vnd.jupyter.widget-view+json": {
       "model_id": "e11a0a9e346e4a1686442779e14f9489",
       "version_major": 2,
       "version_minor": 0
      },
      "text/plain": [
       "  0%|          | 0/60 [00:00<?, ?it/s]"
      ]
     },
     "metadata": {},
     "output_type": "display_data"
    },
    {
     "name": "stdout",
     "output_type": "stream",
     "text": [
      "2.3080012798309326 tensor(0.0100, requires_grad=True)\n",
      "2.311157703399658 tensor(0.0100, requires_grad=True)\n",
      "2.303990364074707 tensor(0.0122, requires_grad=True)\n",
      "2.3074874877929688 tensor(0.0145, requires_grad=True)\n",
      "2.305107831954956 tensor(0.0162, requires_grad=True)\n",
      "2.30715012550354 tensor(0.0185, requires_grad=True)\n",
      "2.306190252304077 tensor(0.0206, requires_grad=True)\n",
      "2.305449962615967 tensor(0.0231, requires_grad=True)\n",
      "2.3039889335632324 tensor(0.0255, requires_grad=True)\n",
      "2.3008389472961426 tensor(0.0269, requires_grad=True)\n",
      "2.3017728328704834 tensor(0.0287, requires_grad=True)\n",
      "2.3007516860961914 tensor(0.0301, requires_grad=True)\n",
      "2.3039379119873047 tensor(0.0325, requires_grad=True)\n",
      "2.3018736839294434 tensor(0.0340, requires_grad=True)\n",
      "2.302468776702881 tensor(0.0368, requires_grad=True)\n",
      "2.30556321144104 tensor(0.0388, requires_grad=True)\n",
      "2.3062243461608887 tensor(0.0406, requires_grad=True)\n",
      "2.3073675632476807 tensor(0.0432, requires_grad=True)\n",
      "2.3013603687286377 tensor(0.0442, requires_grad=True)\n",
      "2.301852226257324 tensor(0.0458, requires_grad=True)\n",
      "2.306347370147705 tensor(0.0474, requires_grad=True)\n",
      "2.299595355987549 tensor(0.0489, requires_grad=True)\n",
      "2.3031704425811768 tensor(0.0515, requires_grad=True)\n",
      "2.304232120513916 tensor(0.0538, requires_grad=True)\n",
      "2.3018736839294434 tensor(0.0559, requires_grad=True)\n",
      "2.3019206523895264 tensor(0.0579, requires_grad=True)\n",
      "2.304588556289673 tensor(0.0599, requires_grad=True)\n",
      "2.3008534908294678 tensor(0.0614, requires_grad=True)\n",
      "2.304978132247925 tensor(0.0635, requires_grad=True)\n",
      "2.3021585941314697 tensor(0.0645, requires_grad=True)\n",
      "2.3068835735321045 tensor(0.0660, requires_grad=True)\n",
      "2.3034238815307617 tensor(0.0673, requires_grad=True)\n",
      "2.3007237911224365 tensor(0.0686, requires_grad=True)\n",
      "2.309335231781006 tensor(0.0703, requires_grad=True)\n",
      "2.3055543899536133 tensor(0.0721, requires_grad=True)\n",
      "2.3036770820617676 tensor(0.0737, requires_grad=True)\n",
      "2.3003861904144287 tensor(0.0753, requires_grad=True)\n",
      "2.3018741607666016 tensor(0.0772, requires_grad=True)\n",
      "2.304462432861328 tensor(0.0787, requires_grad=True)\n",
      "2.2998557090759277 tensor(0.0802, requires_grad=True)\n",
      "2.301891565322876 tensor(0.0815, requires_grad=True)\n",
      "2.303743362426758 tensor(0.0825, requires_grad=True)\n",
      "2.2981443405151367 tensor(0.0845, requires_grad=True)\n",
      "2.3055031299591064 tensor(0.0864, requires_grad=True)\n",
      "2.30009388923645 tensor(0.0873, requires_grad=True)\n",
      "2.3043386936187744 tensor(0.0897, requires_grad=True)\n",
      "2.304171562194824 tensor(0.0910, requires_grad=True)\n",
      "2.304687023162842 tensor(0.0930, requires_grad=True)\n",
      "2.3030216693878174 tensor(0.0952, requires_grad=True)\n",
      "2.3067147731781006 tensor(0.0980, requires_grad=True)\n",
      "2.306598424911499 tensor(0.1003, requires_grad=True)\n",
      "2.3051464557647705 tensor(0.1031, requires_grad=True)\n",
      "2.3025896549224854 tensor(0.1049, requires_grad=True)\n",
      "2.3037543296813965 tensor(0.1076, requires_grad=True)\n",
      "2.304666042327881 tensor(0.1099, requires_grad=True)\n",
      "2.301525592803955 tensor(0.1115, requires_grad=True)\n",
      "2.300746202468872 tensor(0.1141, requires_grad=True)\n",
      "2.302263021469116 tensor(0.1162, requires_grad=True)\n",
      "2.3002231121063232 tensor(0.1186, requires_grad=True)\n",
      "2.305161714553833 tensor(0.1208, requires_grad=True)\n"
     ]
    },
    {
     "data": {
      "application/vnd.jupyter.widget-view+json": {
       "model_id": "e3371d45c1b04730832930ec1938241d",
       "version_major": 2,
       "version_minor": 0
      },
      "text/plain": [
       "  0%|          | 0/60 [00:00<?, ?it/s]"
      ]
     },
     "metadata": {},
     "output_type": "display_data"
    },
    {
     "name": "stdout",
     "output_type": "stream",
     "text": [
      "2.2970144748687744 tensor(0.1222, requires_grad=True)\n",
      "2.3038835525512695 tensor(0.1243, requires_grad=True)\n",
      "2.298095226287842 tensor(0.1262, requires_grad=True)\n",
      "2.304884672164917 tensor(0.1281, requires_grad=True)\n",
      "2.30043363571167 tensor(0.1303, requires_grad=True)\n",
      "2.303689956665039 tensor(0.1325, requires_grad=True)\n",
      "2.299813747406006 tensor(0.1347, requires_grad=True)\n",
      "2.3012235164642334 tensor(0.1366, requires_grad=True)\n",
      "2.2986273765563965 tensor(0.1379, requires_grad=True)\n",
      "2.3005259037017822 tensor(0.1401, requires_grad=True)\n",
      "2.2996788024902344 tensor(0.1406, requires_grad=True)\n",
      "2.3050918579101562 tensor(0.1427, requires_grad=True)\n",
      "2.3035757541656494 tensor(0.1450, requires_grad=True)\n",
      "2.304243326187134 tensor(0.1476, requires_grad=True)\n",
      "2.3025548458099365 tensor(0.1494, requires_grad=True)\n",
      "2.2991318702697754 tensor(0.1516, requires_grad=True)\n",
      "2.3001656532287598 tensor(0.1529, requires_grad=True)\n",
      "2.301955223083496 tensor(0.1550, requires_grad=True)\n",
      "2.304945230484009 tensor(0.1573, requires_grad=True)\n",
      "2.301053047180176 tensor(0.1594, requires_grad=True)\n",
      "2.3018670082092285 tensor(0.1617, requires_grad=True)\n",
      "2.305328607559204 tensor(0.1638, requires_grad=True)\n",
      "2.3029417991638184 tensor(0.1659, requires_grad=True)\n",
      "2.3005595207214355 tensor(0.1685, requires_grad=True)\n",
      "2.302546977996826 tensor(0.1709, requires_grad=True)\n",
      "2.3047313690185547 tensor(0.1732, requires_grad=True)\n",
      "2.29954195022583 tensor(0.1756, requires_grad=True)\n",
      "2.302492380142212 tensor(0.1781, requires_grad=True)\n",
      "2.301687002182007 tensor(0.1808, requires_grad=True)\n",
      "2.3013572692871094 tensor(0.1825, requires_grad=True)\n",
      "2.2988057136535645 tensor(0.1849, requires_grad=True)\n",
      "2.29880952835083 tensor(0.1869, requires_grad=True)\n",
      "2.3009939193725586 tensor(0.1893, requires_grad=True)\n",
      "2.297069549560547 tensor(0.1916, requires_grad=True)\n",
      "2.300889730453491 tensor(0.1943, requires_grad=True)\n",
      "2.3050413131713867 tensor(0.1963, requires_grad=True)\n",
      "2.3011233806610107 tensor(0.1979, requires_grad=True)\n",
      "2.303858995437622 tensor(0.2006, requires_grad=True)\n",
      "2.3013949394226074 tensor(0.2031, requires_grad=True)\n",
      "2.3029322624206543 tensor(0.2054, requires_grad=True)\n",
      "2.3036205768585205 tensor(0.2075, requires_grad=True)\n",
      "2.3006644248962402 tensor(0.2096, requires_grad=True)\n",
      "2.3016064167022705 tensor(0.2113, requires_grad=True)\n",
      "2.303786039352417 tensor(0.2134, requires_grad=True)\n",
      "2.3000528812408447 tensor(0.2151, requires_grad=True)\n",
      "2.2966856956481934 tensor(0.2181, requires_grad=True)\n",
      "2.3005926609039307 tensor(0.2201, requires_grad=True)\n",
      "2.2979071140289307 tensor(0.2223, requires_grad=True)\n",
      "2.298792839050293 tensor(0.2242, requires_grad=True)\n",
      "2.2994086742401123 tensor(0.2260, requires_grad=True)\n",
      "2.299797296524048 tensor(0.2278, requires_grad=True)\n",
      "2.3008532524108887 tensor(0.2302, requires_grad=True)\n",
      "2.299710750579834 tensor(0.2324, requires_grad=True)\n",
      "2.3012583255767822 tensor(0.2356, requires_grad=True)\n",
      "2.2998850345611572 tensor(0.2381, requires_grad=True)\n",
      "2.3029699325561523 tensor(0.2405, requires_grad=True)\n",
      "2.298739194869995 tensor(0.2427, requires_grad=True)\n",
      "2.300467014312744 tensor(0.2452, requires_grad=True)\n",
      "2.306009531021118 tensor(0.2478, requires_grad=True)\n",
      "2.2998435497283936 tensor(0.2498, requires_grad=True)\n"
     ]
    },
    {
     "data": {
      "application/vnd.jupyter.widget-view+json": {
       "model_id": "c2c80708ed86455cb2bb31b292f6040b",
       "version_major": 2,
       "version_minor": 0
      },
      "text/plain": [
       "  0%|          | 0/60 [00:00<?, ?it/s]"
      ]
     },
     "metadata": {},
     "output_type": "display_data"
    },
    {
     "name": "stdout",
     "output_type": "stream",
     "text": [
      "2.299961566925049 tensor(0.2527, requires_grad=True)\n",
      "2.305410623550415 tensor(0.2558, requires_grad=True)\n",
      "2.3005213737487793 tensor(0.2582, requires_grad=True)\n",
      "2.299126148223877 tensor(0.2613, requires_grad=True)\n",
      "2.300949811935425 tensor(0.2639, requires_grad=True)\n",
      "2.2992568016052246 tensor(0.2666, requires_grad=True)\n",
      "2.2990684509277344 tensor(0.2688, requires_grad=True)\n",
      "2.2993359565734863 tensor(0.2712, requires_grad=True)\n",
      "2.2946836948394775 tensor(0.2727, requires_grad=True)\n",
      "2.2983062267303467 tensor(0.2746, requires_grad=True)\n",
      "2.298225164413452 tensor(0.2764, requires_grad=True)\n",
      "2.302006721496582 tensor(0.2784, requires_grad=True)\n",
      "2.2989823818206787 tensor(0.2812, requires_grad=True)\n",
      "2.2982897758483887 tensor(0.2826, requires_grad=True)\n",
      "2.2972283363342285 tensor(0.2855, requires_grad=True)\n",
      "2.2996304035186768 tensor(0.2883, requires_grad=True)\n",
      "2.2967183589935303 tensor(0.2913, requires_grad=True)\n",
      "2.297677993774414 tensor(0.2936, requires_grad=True)\n",
      "2.3007967472076416 tensor(0.2964, requires_grad=True)\n",
      "2.3041422367095947 tensor(0.2993, requires_grad=True)\n",
      "2.2988150119781494 tensor(0.3019, requires_grad=True)\n",
      "2.296816825866699 tensor(0.3041, requires_grad=True)\n",
      "2.3007898330688477 tensor(0.3072, requires_grad=True)\n",
      "2.297649383544922 tensor(0.3094, requires_grad=True)\n",
      "2.2999331951141357 tensor(0.3126, requires_grad=True)\n",
      "2.303398370742798 tensor(0.3159, requires_grad=True)\n",
      "2.3021769523620605 tensor(0.3198, requires_grad=True)\n",
      "2.2981295585632324 tensor(0.3222, requires_grad=True)\n",
      "2.2976932525634766 tensor(0.3260, requires_grad=True)\n",
      "2.3006861209869385 tensor(0.3292, requires_grad=True)\n",
      "2.2959718704223633 tensor(0.3313, requires_grad=True)\n",
      "2.296529531478882 tensor(0.3346, requires_grad=True)\n",
      "2.2982842922210693 tensor(0.3376, requires_grad=True)\n",
      "2.297276496887207 tensor(0.3404, requires_grad=True)\n",
      "2.296931743621826 tensor(0.3436, requires_grad=True)\n",
      "2.2981760501861572 tensor(0.3474, requires_grad=True)\n",
      "2.296729564666748 tensor(0.3508, requires_grad=True)\n",
      "2.2992396354675293 tensor(0.3548, requires_grad=True)\n",
      "2.2966902256011963 tensor(0.3587, requires_grad=True)\n",
      "2.2997677326202393 tensor(0.3635, requires_grad=True)\n",
      "2.297609329223633 tensor(0.3669, requires_grad=True)\n",
      "2.2996230125427246 tensor(0.3709, requires_grad=True)\n",
      "2.2961461544036865 tensor(0.3738, requires_grad=True)\n",
      "2.2987828254699707 tensor(0.3781, requires_grad=True)\n",
      "2.295027494430542 tensor(0.3819, requires_grad=True)\n",
      "2.2962515354156494 tensor(0.3855, requires_grad=True)\n",
      "2.2961199283599854 tensor(0.3887, requires_grad=True)\n",
      "2.293477773666382 tensor(0.3926, requires_grad=True)\n",
      "2.2984302043914795 tensor(0.3965, requires_grad=True)\n",
      "2.296177864074707 tensor(0.3995, requires_grad=True)\n",
      "2.2974257469177246 tensor(0.4040, requires_grad=True)\n",
      "2.2948427200317383 tensor(0.4079, requires_grad=True)\n",
      "2.2972121238708496 tensor(0.4105, requires_grad=True)\n",
      "2.294677734375 tensor(0.4139, requires_grad=True)\n",
      "2.2940914630889893 tensor(0.4173, requires_grad=True)\n",
      "2.296764850616455 tensor(0.4208, requires_grad=True)\n",
      "2.2975261211395264 tensor(0.4244, requires_grad=True)\n",
      "2.2974817752838135 tensor(0.4282, requires_grad=True)\n",
      "2.2955527305603027 tensor(0.4324, requires_grad=True)\n",
      "2.2965199947357178 tensor(0.4361, requires_grad=True)\n"
     ]
    },
    {
     "data": {
      "application/vnd.jupyter.widget-view+json": {
       "model_id": "6f8e98c1087d45728e29ec26a260641b",
       "version_major": 2,
       "version_minor": 0
      },
      "text/plain": [
       "  0%|          | 0/60 [00:00<?, ?it/s]"
      ]
     },
     "metadata": {},
     "output_type": "display_data"
    },
    {
     "name": "stdout",
     "output_type": "stream",
     "text": [
      "2.295717477798462 tensor(0.4407, requires_grad=True)\n",
      "2.295621633529663 tensor(0.4448, requires_grad=True)\n",
      "2.297818899154663 tensor(0.4487, requires_grad=True)\n",
      "2.2994136810302734 tensor(0.4533, requires_grad=True)\n",
      "2.298053026199341 tensor(0.4584, requires_grad=True)\n",
      "2.2957653999328613 tensor(0.4628, requires_grad=True)\n",
      "2.296264171600342 tensor(0.4680, requires_grad=True)\n",
      "2.293649435043335 tensor(0.4720, requires_grad=True)\n",
      "2.2942955493927 tensor(0.4763, requires_grad=True)\n",
      "2.296604871749878 tensor(0.4808, requires_grad=True)\n",
      "2.2984158992767334 tensor(0.4848, requires_grad=True)\n",
      "2.294501781463623 tensor(0.4887, requires_grad=True)\n",
      "2.296504020690918 tensor(0.4948, requires_grad=True)\n",
      "2.2950878143310547 tensor(0.4993, requires_grad=True)\n",
      "2.2945871353149414 tensor(0.5040, requires_grad=True)\n",
      "2.294041633605957 tensor(0.5092, requires_grad=True)\n",
      "2.291372776031494 tensor(0.5136, requires_grad=True)\n",
      "2.295581340789795 tensor(0.5185, requires_grad=True)\n",
      "2.2936174869537354 tensor(0.5230, requires_grad=True)\n",
      "2.2912793159484863 tensor(0.5281, requires_grad=True)\n",
      "2.2924270629882812 tensor(0.5328, requires_grad=True)\n",
      "2.2954626083374023 tensor(0.5386, requires_grad=True)\n",
      "2.293027877807617 tensor(0.5433, requires_grad=True)\n",
      "2.29196834564209 tensor(0.5495, requires_grad=True)\n",
      "2.294877529144287 tensor(0.5562, requires_grad=True)\n",
      "2.294097423553467 tensor(0.5629, requires_grad=True)\n",
      "2.2926363945007324 tensor(0.5692, requires_grad=True)\n",
      "2.2924959659576416 tensor(0.5757, requires_grad=True)\n",
      "2.2915453910827637 tensor(0.5821, requires_grad=True)\n",
      "2.2936618328094482 tensor(0.5888, requires_grad=True)\n",
      "2.294792890548706 tensor(0.5953, requires_grad=True)\n",
      "2.2895543575286865 tensor(0.6021, requires_grad=True)\n",
      "2.2916347980499268 tensor(0.6114, requires_grad=True)\n",
      "2.293419599533081 tensor(0.6181, requires_grad=True)\n",
      "2.2954905033111572 tensor(0.6260, requires_grad=True)\n",
      "2.2914462089538574 tensor(0.6347, requires_grad=True)\n",
      "2.2945985794067383 tensor(0.6413, requires_grad=True)\n",
      "2.2915570735931396 tensor(0.6487, requires_grad=True)\n",
      "2.2920033931732178 tensor(0.6573, requires_grad=True)\n",
      "2.2888479232788086 tensor(0.6657, requires_grad=True)\n",
      "2.2878739833831787 tensor(0.6739, requires_grad=True)\n",
      "2.2908639907836914 tensor(0.6831, requires_grad=True)\n",
      "2.287921190261841 tensor(0.6922, requires_grad=True)\n",
      "2.2889444828033447 tensor(0.7016, requires_grad=True)\n",
      "2.2928965091705322 tensor(0.7117, requires_grad=True)\n",
      "2.2934648990631104 tensor(0.7216, requires_grad=True)\n",
      "2.292541027069092 tensor(0.7326, requires_grad=True)\n",
      "2.291407823562622 tensor(0.7450, requires_grad=True)\n",
      "2.290616512298584 tensor(0.7576, requires_grad=True)\n",
      "2.289564609527588 tensor(0.7696, requires_grad=True)\n",
      "2.2857697010040283 tensor(0.7845, requires_grad=True)\n",
      "2.287283420562744 tensor(0.8007, requires_grad=True)\n",
      "2.2877023220062256 tensor(0.8176, requires_grad=True)\n",
      "2.2889063358306885 tensor(0.8351, requires_grad=True)\n",
      "2.292902946472168 tensor(0.8511, requires_grad=True)\n",
      "2.2861526012420654 tensor(0.8715, requires_grad=True)\n",
      "2.2862603664398193 tensor(0.8946, requires_grad=True)\n",
      "2.285461664199829 tensor(0.9218, requires_grad=True)\n",
      "2.2835280895233154 tensor(0.9504, requires_grad=True)\n",
      "2.283642530441284 tensor(0.9780, requires_grad=True)\n"
     ]
    },
    {
     "data": {
      "application/vnd.jupyter.widget-view+json": {
       "model_id": "55494f66f3d7418c9b1348596e91cc86",
       "version_major": 2,
       "version_minor": 0
      },
      "text/plain": [
       "  0%|          | 0/60 [00:00<?, ?it/s]"
      ]
     },
     "metadata": {},
     "output_type": "display_data"
    },
    {
     "name": "stdout",
     "output_type": "stream",
     "text": [
      "2.2859280109405518 tensor(1.0101, requires_grad=True)\n",
      "2.2820053100585938 tensor(1.0502, requires_grad=True)\n",
      "2.283231258392334 tensor(1.0968, requires_grad=True)\n",
      "2.2833101749420166 tensor(1.1540, requires_grad=True)\n",
      "2.2780508995056152 tensor(1.2263, requires_grad=True)\n",
      "2.272507905960083 tensor(1.3261, requires_grad=True)\n",
      "2.269975423812866 tensor(1.4724, requires_grad=True)\n",
      "2.2676990032196045 tensor(1.6582, requires_grad=True)\n",
      "2.2559597492218018 tensor(1.9865, requires_grad=True)\n",
      "2.2318813800811768 tensor(2.5265, requires_grad=True)\n",
      "2.2373123168945312 tensor(0.3616, requires_grad=True)\n",
      "2.2528038024902344 tensor(-9.7643, requires_grad=True)\n",
      "2.301452875137329 tensor(-9.7038, requires_grad=True)\n",
      "3788.3037109375 tensor(89838.2500, requires_grad=True)\n",
      "1.5075589493175019e+28 tensor(-4.1987e+25, requires_grad=True)\n",
      "nan tensor(nan, requires_grad=True)\n",
      "nan tensor(nan, requires_grad=True)\n",
      "nan tensor(nan, requires_grad=True)\n",
      "nan tensor(nan, requires_grad=True)\n",
      "nan tensor(nan, requires_grad=True)\n",
      "nan tensor(nan, requires_grad=True)\n",
      "nan tensor(nan, requires_grad=True)\n",
      "nan tensor(nan, requires_grad=True)\n",
      "nan tensor(nan, requires_grad=True)\n",
      "nan tensor(nan, requires_grad=True)\n",
      "nan tensor(nan, requires_grad=True)\n",
      "nan tensor(nan, requires_grad=True)\n",
      "nan tensor(nan, requires_grad=True)\n",
      "nan tensor(nan, requires_grad=True)\n",
      "nan tensor(nan, requires_grad=True)\n",
      "nan tensor(nan, requires_grad=True)\n",
      "nan tensor(nan, requires_grad=True)\n",
      "nan tensor(nan, requires_grad=True)\n",
      "nan tensor(nan, requires_grad=True)\n",
      "nan tensor(nan, requires_grad=True)\n",
      "nan tensor(nan, requires_grad=True)\n",
      "nan tensor(nan, requires_grad=True)\n",
      "nan tensor(nan, requires_grad=True)\n",
      "nan tensor(nan, requires_grad=True)\n",
      "nan tensor(nan, requires_grad=True)\n",
      "nan tensor(nan, requires_grad=True)\n",
      "nan tensor(nan, requires_grad=True)\n",
      "nan tensor(nan, requires_grad=True)\n",
      "nan tensor(nan, requires_grad=True)\n",
      "nan tensor(nan, requires_grad=True)\n",
      "nan tensor(nan, requires_grad=True)\n",
      "nan tensor(nan, requires_grad=True)\n",
      "nan tensor(nan, requires_grad=True)\n",
      "nan tensor(nan, requires_grad=True)\n",
      "nan tensor(nan, requires_grad=True)\n",
      "nan tensor(nan, requires_grad=True)\n",
      "nan tensor(nan, requires_grad=True)\n",
      "nan tensor(nan, requires_grad=True)\n",
      "nan tensor(nan, requires_grad=True)\n",
      "nan tensor(nan, requires_grad=True)\n",
      "nan tensor(nan, requires_grad=True)\n",
      "nan tensor(nan, requires_grad=True)\n",
      "nan tensor(nan, requires_grad=True)\n",
      "nan tensor(nan, requires_grad=True)\n",
      "nan tensor(nan, requires_grad=True)\n"
     ]
    }
   ],
   "source": [
    "def train_sgd(net, accu, lr=1e-2, momentum=0):\n",
    "    m = None\n",
    "    for epoch_idx in range(5):\n",
    "        for x, y in tqdm(ds.dl_train):\n",
    "            yp = net(x)\n",
    "            loss = ds.loss_fn(yp, y)\n",
    "            \n",
    "            for pi in net.parameters():\n",
    "                pi.grad = None\n",
    "                \n",
    "            loss.backward()\n",
    "            \n",
    "            if m is None:\n",
    "                m = [pi.grad.detach() for pi in net.parameters()]\n",
    "            else:\n",
    "                m = [momentum*mi+pi.grad.detach() for mi, pi in zip(m, net.parameters())]\n",
    "                \n",
    "            for pi, mi in zip(net.parameters(), m):\n",
    "                pi.data -= lr*mi\n",
    "            \n",
    "            # print(loss.item())\n",
    "            accu.append(loss_batch=loss.item(), momentum=momentum)\n",
    "            \n",
    "def train_meta(net, accu, lr=1e-2, momentum=0, lr_momentum=1e-2):\n",
    "    \n",
    "    momentum = torch.tensor(momentum).float().requires_grad_()\n",
    "    \n",
    "    vp = torch.cat([pi.flatten().detach() for pi in net.parameters()]).detach()\n",
    "    m = torch.zeros_like(vp)\n",
    "    g = torch.zeros_like(vp)\n",
    "    for epoch_idx in range(5):\n",
    "        for x, y in tqdm(ds.dl_train):\n",
    "            m = momentum*m.detach() + g\n",
    "                \n",
    "            v = vp.detach() - lr*m\n",
    "            \n",
    "            nn.utils.vector_to_parameters(v, net.parameters())\n",
    "            yp = net(x)\n",
    "            loss = ds.loss_fn(yp, y)\n",
    "            \n",
    "            for pi in net.parameters():\n",
    "                pi.grad = None\n",
    "            momentum.grad = None\n",
    "                \n",
    "            loss.backward()\n",
    "            g = torch.cat([pi.grad.flatten().detach() for pi in net.parameters()]).detach()\n",
    "            \n",
    "            if v.grad_fn is not None:\n",
    "                v.backward(g)\n",
    "                mg = momentum.grad\n",
    "                # print(mg.item())\n",
    "                momentum = (momentum.detach() - lr_momentum*mg).requires_grad_()\n",
    "            \n",
    "            vp = v\n",
    "                \n",
    "            # momentum -= lr_momentum*(-lr*np.sum([torch.sum(mi) for mi in m]))\n",
    "            \n",
    "            print(loss.item(), momentum)\n",
    "            accu.append(loss_batch=loss.item(), momentum=momentum.item())\n",
    "            \n",
    "            \n",
    "# data = {'sgdm': util.Accumulator(), 'meta': util.Accumulator()}\n",
    "# torch.manual_seed(0)\n",
    "# train_sgd(model(), data['sgdm'], lr=1e-2, momentum=0.01)\n",
    "data['meta'] = util.Accumulator()\n",
    "torch.manual_seed(0)\n",
    "train_meta(model(), data['meta'], lr=1e-2, momentum=0.01, lr_momentum=1e-2)\n"
   ]
  },
  {
   "cell_type": "code",
   "execution_count": null,
   "id": "32baa603-bbf8-475c-8cd1-447188a6d55e",
   "metadata": {},
   "outputs": [],
   "source": []
  },
  {
   "cell_type": "code",
   "execution_count": null,
   "id": "bcd735ce-3745-4856-91a3-f2fe31153d32",
   "metadata": {},
   "outputs": [],
   "source": [
    "loss = L(w)\n",
    "g = loss.backward()\n",
    "\n",
    "wp = update(w, g, m)\n"
   ]
  },
  {
   "cell_type": "code",
   "execution_count": null,
   "id": "c299b03f-a366-4edd-a4b1-68bc4c1e3a9b",
   "metadata": {},
   "outputs": [],
   "source": []
  },
  {
   "cell_type": "code",
   "execution_count": null,
   "id": "a53dad0d-03ca-4246-9389-d849f98b9df7",
   "metadata": {},
   "outputs": [],
   "source": []
  },
  {
   "cell_type": "code",
   "execution_count": null,
   "id": "bb95f1b4-27f5-4cae-ac61-92f345d6ef59",
   "metadata": {},
   "outputs": [],
   "source": []
  },
  {
   "cell_type": "code",
   "execution_count": null,
   "id": "fe6958b0-4e23-4302-9d60-b80bff25026c",
   "metadata": {},
   "outputs": [],
   "source": []
  },
  {
   "cell_type": "code",
   "execution_count": null,
   "id": "1c47bba2-5c55-408b-8a3c-de6d309c59fc",
   "metadata": {},
   "outputs": [],
   "source": []
  },
  {
   "cell_type": "code",
   "execution_count": null,
   "id": "e75a652e-7494-4943-a999-3e3d3de9521d",
   "metadata": {},
   "outputs": [],
   "source": []
  },
  {
   "cell_type": "code",
   "execution_count": null,
   "id": "859130c8-92fd-4f0e-a90b-e876b0f9ac6e",
   "metadata": {},
   "outputs": [],
   "source": []
  },
  {
   "cell_type": "code",
   "execution_count": 136,
   "id": "1760d45b-3788-45da-8088-807a02d7ac36",
   "metadata": {},
   "outputs": [
    {
     "data": {
      "image/png": "[encoded data removed]",
      "text/plain": [
       "<Figure size 720x720 with 2 Axes>"
      ]
     },
     "metadata": {
      "needs_background": "light"
     },
     "output_type": "display_data"
    }
   ],
   "source": [
    "plt.figure(figsize=(10,10))\n",
    "util.plot_accumulators(data)"
   ]
  },
  {
   "cell_type": "code",
   "execution_count": null,
   "id": "4c4f0a5e-3feb-4ea4-9d9b-16fcaa14fcb7",
   "metadata": {},
   "outputs": [],
   "source": []
  },
  {
   "cell_type": "code",
   "execution_count": null,
   "id": "d86bf4fb-1430-4181-9eb0-f803e5a58f71",
   "metadata": {},
   "outputs": [],
   "source": []
  },
  {
   "cell_type": "code",
   "execution_count": null,
   "id": "86452936-5903-484e-aa68-703fe3a30fe6",
   "metadata": {},
   "outputs": [],
   "source": []
  },
  {
   "cell_type": "code",
   "execution_count": null,
   "id": "501422eb-2f74-4ef2-8289-84477ae28c34",
   "metadata": {},
   "outputs": [],
   "source": []
  }
 ],
 "metadata": {
  "kernelspec": {
   "display_name": "Python 3 (ipykernel)",
   "language": "python",
   "name": "python3"
  },
  "language_info": {
   "codemirror_mode": {
    "name": "ipython",
    "version": 3
   },
   "file_extension": ".py",
   "mimetype": "text/x-python",
   "name": "python",
   "nbconvert_exporter": "python",
   "pygments_lexer": "ipython3",
   "version": "3.9.5"
  }
 },
 "nbformat": 4,
 "nbformat_minor": 5
}
