{
 "cells": [
  {
   "cell_type": "code",
   "execution_count": 1,
   "id": "6f1f5335-17a1-4c87-af5b-e36d67cf7b72",
   "metadata": {},
   "outputs": [],
   "source": [
    "%load_ext autoreload\n",
    "%autoreload 2"
   ]
  },
  {
   "cell_type": "code",
   "execution_count": 2,
   "id": "3ffa30c8-6928-4ed5-9e32-3157fcd498bb",
   "metadata": {},
   "outputs": [],
   "source": [
    "%run imports.py"
   ]
  },
  {
   "cell_type": "code",
   "execution_count": 3,
   "id": "73a05f30-3cef-41f9-bd88-e15de4faa748",
   "metadata": {},
   "outputs": [],
   "source": [
    "import util"
   ]
  },
  {
   "cell_type": "code",
   "execution_count": 4,
   "id": "76b13b43-79e8-4648-aeb5-8d30610c558c",
   "metadata": {},
   "outputs": [
    {
     "name": "stdout",
     "output_type": "stream",
     "text": [
      "Files already downloaded and verified\n",
      "Files already downloaded and verified\n"
     ]
    }
   ],
   "source": [
    "ds = cifar10.CIFAR10()\n",
    "# ds = mnist.MNIST()\n",
    "model = cifar10.BigNetwork"
   ]
  },
  {
   "cell_type": "code",
   "execution_count": 6,
   "id": "418b48af-b61b-43ac-814e-08ed22f38801",
   "metadata": {},
   "outputs": [],
   "source": [
    "device = torch.device(\"cuda\") if torch.cuda.is_available() else torch.device(\"cpu\")"
   ]
  },
  {
   "cell_type": "code",
   "execution_count": 28,
   "id": "3d007b36-ca35-4988-9977-405f99d71ee4",
   "metadata": {},
   "outputs": [
    {
     "name": "stdout",
     "output_type": "stream",
     "text": [
      "Files already downloaded and verified\n",
      "Files already downloaded and verified\n"
     ]
    }
   ],
   "source": [
    "\n",
    "ds_small = cifar10.CIFAR10(bs_train=10, bs_test=100)"
   ]
  },
  {
   "cell_type": "code",
   "execution_count": 44,
   "id": "38092a76-f357-4b5e-bdda-c2e3067a46aa",
   "metadata": {},
   "outputs": [],
   "source": [
    "def calc_grad_noise(net):\n",
    "    opt = torch.optim.Adam(net.parameters(), lr=0.)\n",
    "\n",
    "    gs = []\n",
    "    for i in range(50):\n",
    "        x, y = next(iter(ds_small.dl_train))\n",
    "        yp = net(x)\n",
    "        loss = ds.loss_fn(yp, y)\n",
    "\n",
    "        opt.zero_grad()\n",
    "        loss.backward()\n",
    "        \n",
    "        g = torch.cat([pi.grad.flatten() for pi in net.parameters()])\n",
    "        gs.append(g)\n",
    "    gs = torch.stack(gs)\n",
    "    dots = (gs[:, None]*gs[None, :]).sum(dim=-1)\n",
    "    \n",
    "    return (dots*(1-torch.eye(len(dots)))).mean().item()\n",
    "    \n",
    "    \n",
    "def train_adam(net, accu, lr=1e-2):\n",
    "    opt = torch.optim.Adam(net.parameters(), lr=lr)\n",
    "    \n",
    "    for epoch_idx in tqdm(range(5)):\n",
    "        loop = tqdm(ds.dl_train)\n",
    "        for x, y in loop:\n",
    "            grad_noise = calc_grad_noise(net)\n",
    "            # print(grad_noise)\n",
    "            \n",
    "            yp = net(x)\n",
    "            loss = ds.loss_fn(yp, y)\n",
    "            \n",
    "            opt.zero_grad()\n",
    "            loss.backward()\n",
    "            opt.step()\n",
    "            data = dict(loss_batch=loss.item(), grad_noise=grad_noise)\n",
    "            accu.append(**data)\n",
    "            loop.set_postfix(data)"
   ]
  },
  {
   "cell_type": "code",
   "execution_count": 45,
   "id": "7cd306f3-1de1-47b1-a13b-ab32f419ba8d",
   "metadata": {},
   "outputs": [
    {
     "data": {
      "application/vnd.jupyter.widget-view+json": {
       "model_id": "44d2461c88274bed8245d49b9d2227ef",
       "version_major": 2,
       "version_minor": 0
      },
      "text/plain": [
       "  0%|          | 0/5 [00:00<?, ?it/s]"
      ]
     },
     "metadata": {},
     "output_type": "display_data"
    },
    {
     "data": {
      "application/vnd.jupyter.widget-view+json": {
       "model_id": "0fe8660be02142f1a7dfc2d7609b74ca",
       "version_major": 2,
       "version_minor": 0
      },
      "text/plain": [
       "  0%|          | 0/50 [00:00<?, ?it/s]"
      ]
     },
     "metadata": {},
     "output_type": "display_data"
    },
    {
     "data": {
      "application/vnd.jupyter.widget-view+json": {
       "model_id": "e94c1ee15caf40ae9b98bacc585ca8cc",
       "version_major": 2,
       "version_minor": 0
      },
      "text/plain": [
       "  0%|          | 0/50 [00:00<?, ?it/s]"
      ]
     },
     "metadata": {},
     "output_type": "display_data"
    },
    {
     "data": {
      "application/vnd.jupyter.widget-view+json": {
       "model_id": "accef21b8b1f41a788fa10b82d67c761",
       "version_major": 2,
       "version_minor": 0
      },
      "text/plain": [
       "  0%|          | 0/50 [00:00<?, ?it/s]"
      ]
     },
     "metadata": {},
     "output_type": "display_data"
    },
    {
     "data": {
      "application/vnd.jupyter.widget-view+json": {
       "model_id": "4d5997e0b5634549b9afa9ddc143d07f",
       "version_major": 2,
       "version_minor": 0
      },
      "text/plain": [
       "  0%|          | 0/50 [00:00<?, ?it/s]"
      ]
     },
     "metadata": {},
     "output_type": "display_data"
    },
    {
     "data": {
      "application/vnd.jupyter.widget-view+json": {
       "model_id": "7d3e736aaa3f4754b31bc4cd9fc52eeb",
       "version_major": 2,
       "version_minor": 0
      },
      "text/plain": [
       "  0%|          | 0/50 [00:00<?, ?it/s]"
      ]
     },
     "metadata": {},
     "output_type": "display_data"
    }
   ],
   "source": [
    "net = model()\n",
    "accu = util.Accumulator()\n",
    "train_adam(net, accu)"
   ]
  },
  {
   "cell_type": "code",
   "execution_count": null,
   "id": "eb3e06e9-294d-41b9-9d06-d8b1bee55f29",
   "metadata": {},
   "outputs": [],
   "source": []
  },
  {
   "cell_type": "code",
   "execution_count": 46,
   "id": "cfbebb74-0721-416b-91c9-9e4c18ce255d",
   "metadata": {},
   "outputs": [
    {
     "data": {
      "image/png": "[encoded data removed]",
      "text/plain": [
       "<Figure size 432x288 with 2 Axes>"
      ]
     },
     "metadata": {
      "needs_background": "light"
     },
     "output_type": "display_data"
    }
   ],
   "source": [
    "util.plot_accumulators([accu])"
   ]
  },
  {
   "cell_type": "code",
   "execution_count": 43,
   "id": "7270f02a-6c5a-439f-98ea-6e9c639def81",
   "metadata": {},
   "outputs": [
    {
     "data": {
      "text/plain": [
       "<util.Accumulator at 0x2abf4de40430>"
      ]
     },
     "execution_count": 43,
     "metadata": {},
     "output_type": "execute_result"
    }
   ],
   "source": [
    "accu"
   ]
  },
  {
   "cell_type": "code",
   "execution_count": null,
   "id": "72f24320-5247-4b0a-988d-b320819fff35",
   "metadata": {},
   "outputs": [],
   "source": []
  },
  {
   "cell_type": "code",
   "execution_count": null,
   "id": "f2805cfd-d085-4187-89df-b7bdc7b60259",
   "metadata": {},
   "outputs": [],
   "source": []
  },
  {
   "cell_type": "code",
   "execution_count": null,
   "id": "a0779875-ae1f-42fe-837f-bd2526aa5067",
   "metadata": {},
   "outputs": [],
   "source": []
  },
  {
   "cell_type": "code",
   "execution_count": null,
   "id": "bc01bd80-896f-47dc-bb6b-88750d96df23",
   "metadata": {},
   "outputs": [],
   "source": []
  }
 ],
 "metadata": {
  "kernelspec": {
   "display_name": "Python 3 (ipykernel)",
   "language": "python",
   "name": "python3"
  },
  "language_info": {
   "codemirror_mode": {
    "name": "ipython",
    "version": 3
   },
   "file_extension": ".py",
   "mimetype": "text/x-python",
   "name": "python",
   "nbconvert_exporter": "python",
   "pygments_lexer": "ipython3",
   "version": "3.9.5"
  }
 },
 "nbformat": 4,
 "nbformat_minor": 5
}
